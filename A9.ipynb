{
 "cells": [
  {
   "cell_type": "markdown",
   "id": "28170072",
   "metadata": {},
   "source": [
    "# 1. To what does a relative path refer?"
   ]
  },
  {
   "cell_type": "markdown",
   "id": "b7a7f4cb",
   "metadata": {},
   "source": [
    "A relative path refers to a file or directory path that is specified in relation to the current working directory or another reference point. In other words, it describes the location of a file or directory relative to some known location within the file system.\n",
    "\n",
    "For example, if we are currently in a directory called \"Documents\" and we want to reference a file named \"example.txt\" that is located within a subdirectory called \"Images,\" we can specify the relative path like this:"
   ]
  },
  {
   "cell_type": "code",
   "execution_count": null,
   "id": "7d889032",
   "metadata": {},
   "outputs": [],
   "source": [
    "Documents/Images/example.txt\n"
   ]
  },
  {
   "cell_type": "markdown",
   "id": "2044d984",
   "metadata": {},
   "source": [
    "In this case, \"Documents\" is the current working directory or reference point, and the relative path describes how to navigate to the \"example.txt\" file from that location."
   ]
  },
  {
   "cell_type": "markdown",
   "id": "10e1d67d",
   "metadata": {},
   "source": [
    "Relative paths are particularly useful when you want to specify file or directory locations in a way that is independent of the absolute file system structure, making it easier to move code and files between different systems or directories."
   ]
  },
  {
   "cell_type": "markdown",
   "id": "ceb8e8b4",
   "metadata": {},
   "source": [
    "# 2. What does an absolute path start with your operating system?"
   ]
  },
  {
   "cell_type": "markdown",
   "id": "c0c86052",
   "metadata": {},
   "source": [
    "An absolute path in a file system typically starts with the root directory of the operating system. The root directory is the highest-level directory in the file system hierarchy and serves as the starting point for specifying the complete path to a file or directory."
   ]
  },
  {
   "cell_type": "markdown",
   "id": "2c0111a4",
   "metadata": {},
   "source": [
    "On different operating systems, the root directory is represented by a specific symbol or drive letter:"
   ]
  },
  {
   "cell_type": "code",
   "execution_count": null,
   "id": "7bd952bd",
   "metadata": {},
   "outputs": [],
   "source": [
    "/////Unix-like operating systems (including Linux and macOS): Absolute paths start with a forward slash /. For example:\n",
    "\n",
    "\n",
    "/home/user/documents/file.txt"
   ]
  },
  {
   "cell_type": "code",
   "execution_count": null,
   "id": "57e55a45",
   "metadata": {},
   "outputs": [],
   "source": [
    "/////Windows: Absolute paths start with a drive letter followed by a colon and a backslash, such as C:\\. For example:\n",
    "\n",
    "\n",
    "C:\\Users\\User\\Documents\\file.txt"
   ]
  },
  {
   "cell_type": "markdown",
   "id": "8d42e653",
   "metadata": {},
   "source": [
    "# 3. What do the functions os.getcwd() and os.chdir() do?"
   ]
  },
  {
   "cell_type": "markdown",
   "id": "d5ec90dd",
   "metadata": {},
   "source": [
    "In Python, the os.getcwd() and os.chdir() functions are part of the os module and are used to work with the current working directory of a process."
   ]
  },
  {
   "cell_type": "markdown",
   "id": "7150eb4c",
   "metadata": {},
   "source": [
    "1)os.getcwd() (Get Current Working Directory):\n",
    "\n",
    "os.getcwd() is a function that returns a string representing the current working directory of the Python process.\n",
    "The current working directory is the directory from which your Python script is being executed.\n",
    "It returns an absolute path, allowing you to determine the current location within the file system.                   \n",
    "Example:"
   ]
  },
  {
   "cell_type": "code",
   "execution_count": null,
   "id": "e944eef3",
   "metadata": {},
   "outputs": [],
   "source": [
    "import os\n",
    "current_directory = os.getcwd()\n",
    "print(\"Current Working Directory:\", current_directory)\n"
   ]
  },
  {
   "cell_type": "markdown",
   "id": "09899372",
   "metadata": {},
   "source": [
    "2)os.chdir() (Change Current Working Directory):\n",
    "\n",
    "os.chdir() is a function that allows you to change the current working directory to a specified directory.\n",
    "It takes a single argument, which is the path to the directory you want to change to.\n",
    "After using os.chdir(), the current working directory of your Python process will be set to the specified directory."
   ]
  },
  {
   "cell_type": "code",
   "execution_count": null,
   "id": "f69dc170",
   "metadata": {},
   "outputs": [],
   "source": [
    "import os\n",
    "new_directory = \"/path/to/new/directory\"\n",
    "os.chdir(new_directory)\n"
   ]
  },
  {
   "cell_type": "markdown",
   "id": "fba13581",
   "metadata": {},
   "source": [
    "# 4. What are the . and .. folders?"
   ]
  },
  {
   "cell_type": "markdown",
   "id": "b1e3ce5f",
   "metadata": {},
   "source": [
    "In most file systems, including those used by modern operating systems, the . and .. folders are special directory references that have specific meanings:"
   ]
  },
  {
   "cell_type": "markdown",
   "id": "f846c769",
   "metadata": {},
   "source": [
    ". (Dot):\n",
    "\n",
    "The . folder represents the current directory.\n",
    "When you see a reference to . within a file system path, it indicates the directory you are currently in.\n",
    "For example, if you're in the directory /home/user/documents, the path ./file.txt refers to a file named file.txt in the current directory."
   ]
  },
  {
   "cell_type": "markdown",
   "id": "1855d2fa",
   "metadata": {},
   "source": [
    ".. (Double Dot):\n",
    "\n",
    "The .. folder represents the parent directory.\n",
    "When you see a reference to .. within a file system path, it indicates the directory one level above the current directory.\n",
    "For example, if you're in the directory /home/user/documents, the path ../images/pic.jpg refers to a file named pic.jpg located in the images directory, which is a sibling of the documents directory within the same parent directory.                   \n",
    "These special folder references (. and ..) are useful for navigating the file system and specifying relative paths in a way that is independent of the actual directory names. They allow you to create paths that are relative to your current location or that move up and down the directory hierarchy.\n",
    "\n",
    "\n",
    "\n",
    "\n",
    "\n"
   ]
  },
  {
   "cell_type": "markdown",
   "id": "32ddb10b",
   "metadata": {},
   "source": [
    "These special folder references (. and ..) are useful for navigating the file system and specifying relative paths in a way that is independent of the actual directory names. They allow you to create paths that are relative to your current location or that move up and down the directory hierarchy."
   ]
  },
  {
   "cell_type": "markdown",
   "id": "2d201b52",
   "metadata": {},
   "source": [
    "# 5. In C:\\bacon\\eggs\\spam.txt, which part is the dir name, and which part is the base name?"
   ]
  },
  {
   "cell_type": "markdown",
   "id": "3e2c50f5",
   "metadata": {},
   "source": [
    "In the file path C:\\bacon\\eggs\\spam.txt, the following parts can be identified:\n",
    "\n",
    "Directory Name: C:\\bacon\\eggs                                                          \n",
    "Base Name: spam.txt                                                                 \n",
    "The \"Directory Name\" represents the path to the directory where the file spam.txt is located, and the \"Base Name\" is the actual name of the file itself, including its extension (in this case, .txt)."
   ]
  },
  {
   "cell_type": "markdown",
   "id": "581bfb2a",
   "metadata": {},
   "source": [
    "# 6. What are the three “mode” arguments that can be passed to the open() function?"
   ]
  },
  {
   "cell_type": "markdown",
   "id": "9a6b9f42",
   "metadata": {},
   "source": [
    "In Python, when you use the open() function to work with files, you can pass one of the following three \"mode\" arguments to specify how the file should be opened:\n",
    "\n",
    "Read Mode ('r'):                                                                                  \n",
    "\n",
    "This is the default mode if you don't specify a mode argument.\n",
    "It is used for reading the contents of a file.\n",
    "If the file does not exist, it raises a FileNotFoundError.\n",
    "Example: open('filename.txt', 'r')                                                                  \n",
    "\n",
    "Write Mode ('w'):                                                                  \n",
    "\n",
    "This mode is used for writing data to a file.\n",
    "If the file already exists, it will be truncated (i.e., its contents will be deleted) and a new, empty file will be created.\n",
    "If the file does not exist, a new empty file will be created.\n",
    "Example: open('filename.txt', 'w')\n",
    "\n",
    "Append Mode ('a'):                                                           \n",
    "\n",
    "This mode is used for appending data to an existing file or creating a new file if it does not exist.\n",
    "If the file exists, data will be added to the end of the file without truncating the existing content.\n",
    "If the file does not exist, a new empty file will be created.\n",
    "Example: open('filename.txt', 'a')\n",
    "These are the three most common modes used with the open() function, but there are additional modes as well, such as binary modes ('rb', 'wb', 'ab') for working with binary data. Each mode serves a specific purpose when it comes to file I/O operations in Python."
   ]
  },
  {
   "cell_type": "markdown",
   "id": "fce4bf87",
   "metadata": {},
   "source": [
    "# 7. What happens if an existing file is opened in write mode?"
   ]
  },
  {
   "cell_type": "markdown",
   "id": "c347799f",
   "metadata": {},
   "source": [
    "If an existing file is opened in write mode ('w') using the open() function in Python, the following will occur:\n",
    "\n",
    "1)Truncation: The contents of the existing file will be truncated, meaning that all existing data in the file will be deleted. The file will become empty.\n",
    "\n",
    "2)File Creation: If the file does not exist, a new empty file with the specified name will be created.\n",
    "\n",
    "3)Write Permission: You must have write permission for the file and its containing directory. If you don't have the necessary permissions, attempting to open the file in write mode will result in a PermissionError being raised.\n",
    "\n",
    "Example:"
   ]
  },
  {
   "cell_type": "code",
   "execution_count": 3,
   "id": "3285290c",
   "metadata": {},
   "outputs": [],
   "source": [
    "try:\n",
    "    # Open an existing file in write mode\n",
    "    with open('existing_file.txt', 'w') as file:\n",
    "        file.write(\"This will overwrite the existing content.\")\n",
    "except PermissionError:\n",
    "    print(\"Permission error: You don't have write access to the file or directory.\")\n"
   ]
  },
  {
   "cell_type": "markdown",
   "id": "8084e355",
   "metadata": {},
   "source": [
    "In this example, if the file 'existing_file.txt' already exists, opening it in write mode will remove its existing content and replace it with the new data provided by the write() method. If you don't have the necessary permissions to write to the file, a PermissionError will be raised."
   ]
  },
  {
   "cell_type": "markdown",
   "id": "ef856e7b",
   "metadata": {},
   "source": [
    "# 8. How do you tell the difference between read() and readlines()?"
   ]
  },
  {
   "cell_type": "markdown",
   "id": "0ac8cb4a",
   "metadata": {},
   "source": [
    "In Python, read() and readlines() are two methods used to read data from a file, but they behave differently:\n",
    "\n",
    "1)read() Method:\n",
    "\n",
    "The read() method is used to read the entire contents of a file as a single string or bytes object.\n",
    "It reads from the current position (cursor) in the file to the end of the file.\n",
    "If you do not specify an argument, it reads the entire file.\n",
    "\n",
    "Example (text mode):"
   ]
  },
  {
   "cell_type": "code",
   "execution_count": null,
   "id": "63be6754",
   "metadata": {},
   "outputs": [],
   "source": [
    "with open('file.txt', 'r') as file:\n",
    "    content = file.read()\n"
   ]
  },
  {
   "cell_type": "markdown",
   "id": "53e18166",
   "metadata": {},
   "source": [
    "Example (binary mode):"
   ]
  },
  {
   "cell_type": "code",
   "execution_count": null,
   "id": "1d266baa",
   "metadata": {},
   "outputs": [],
   "source": [
    "with open('file.bin', 'rb') as file:\n",
    "    content = file.read()\n"
   ]
  },
  {
   "cell_type": "markdown",
   "id": "b9857057",
   "metadata": {},
   "source": [
    "2)readlines() Method:\n",
    "\n",
    "The readlines() method is used to read the contents of a file line by line and return them as a list of strings.\n",
    "It reads from the current position (cursor) in the file to the end of the file, splitting the content into lines based on newline characters. \n",
    "\n",
    "Example (text mode):"
   ]
  },
  {
   "cell_type": "code",
   "execution_count": null,
   "id": "dfa65698",
   "metadata": {},
   "outputs": [],
   "source": [
    "with open('file.txt', 'r') as file:\n",
    "    lines = file.readlines()\n"
   ]
  },
  {
   "cell_type": "markdown",
   "id": "b9051a85",
   "metadata": {},
   "source": [
    "Example (binary mode):"
   ]
  },
  {
   "cell_type": "code",
   "execution_count": null,
   "id": "c13052a3",
   "metadata": {},
   "outputs": [],
   "source": [
    "with open('file.bin', 'rb') as file:\n",
    "    lines = file.readlines()\n"
   ]
  },
  {
   "cell_type": "markdown",
   "id": "6b7563e7",
   "metadata": {},
   "source": [
    "To summarize, read() reads the entire content of the file as a single string or bytes object, while readlines() reads the content line by line and returns a list of strings, where each string represents a line from the file. The choice between them depends on how you want to process the file's content."
   ]
  },
  {
   "cell_type": "markdown",
   "id": "9c06c107",
   "metadata": {},
   "source": [
    "# 9. What data structure does a shelf value resemble?"
   ]
  },
  {
   "cell_type": "markdown",
   "id": "bc315455",
   "metadata": {},
   "source": [
    "In Python, the shelf module is used to work with a file format called \"shelve,\" which provides a dictionary-like interface for storing and retrieving Python objects persistently. A \"shelf\" value, in the context of the shelf module, resembles a dictionary.\n",
    "\n",
    "Key characteristics of a shelf value:\n",
    "\n",
    "1)Dictionary-Like Interface: A shelf value can be used like a dictionary, where you can store key-value pairs. Each key is a string, and each value is a Python object (such as lists, dictionaries, custom objects, etc.).\n",
    "\n",
    "2)Persistence: Unlike regular dictionaries, shelf values are persistent. They are stored in a file on disk, allowing you to store data between program runs. This means you can close your program and reopen it later to access the same data.\n",
    "\n",
    "3)Serialization: The data stored in a shelf file is automatically serialized and deserialized using Python's pickle module. This allows you to store complex data structures, including custom objects, in a shelf."
   ]
  },
  {
   "cell_type": "code",
   "execution_count": 5,
   "id": "be053a3b",
   "metadata": {},
   "outputs": [
    {
     "name": "stdout",
     "output_type": "stream",
     "text": [
      "Name: Alice, Age: 30\n"
     ]
    }
   ],
   "source": [
    "import shelve\n",
    "\n",
    "# Create or open a shelf file\n",
    "with shelve.open('mydata') as shelf:\n",
    "    # Store data in the shelf\n",
    "    shelf['name'] = 'Alice'\n",
    "    shelf['age'] = 30\n",
    "\n",
    "# Reopen the shelf file\n",
    "with shelve.open('mydata') as shelf:\n",
    "    # Retrieve data from the shelf\n",
    "    name = shelf['name']\n",
    "    age = shelf['age']\n",
    "\n",
    "print(f\"Name: {name}, Age: {age}\")\n"
   ]
  },
  {
   "cell_type": "code",
   "execution_count": null,
   "id": "5ec372ec",
   "metadata": {},
   "outputs": [],
   "source": []
  }
 ],
 "metadata": {
  "kernelspec": {
   "display_name": "Python 3 (ipykernel)",
   "language": "python",
   "name": "python3"
  },
  "language_info": {
   "codemirror_mode": {
    "name": "ipython",
    "version": 3
   },
   "file_extension": ".py",
   "mimetype": "text/x-python",
   "name": "python",
   "nbconvert_exporter": "python",
   "pygments_lexer": "ipython3",
   "version": "3.10.9"
  }
 },
 "nbformat": 4,
 "nbformat_minor": 5
}
