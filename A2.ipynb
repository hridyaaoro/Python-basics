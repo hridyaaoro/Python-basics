{
 "cells": [
  {
   "cell_type": "markdown",
   "id": "54938367",
   "metadata": {},
   "source": [
    "# 1.What are the two values of the Boolean data type? How do you write them?"
   ]
  },
  {
   "cell_type": "markdown",
   "id": "3888a3a0",
   "metadata": {},
   "source": [
    "The two values of the Boolean data type are:\n",
    "\n",
    "True: It represents the true condition or the logical value \"true.\" In Python, it is written as True (with an uppercase \"T\").\n",
    "\n",
    "False: It represents the false condition or the logical value \"false.\" In Python, it is written as False (with an uppercase \"F\").\n",
    "\n",
    "Example:\n",
    "\n",
    "is_raining = True                    \n",
    "if is_raining:\n",
    "    print(\"Take an umbrella.\")                   \n",
    "else:\n",
    "    print(\"Enjoy the sunny day!\")\n",
    "\n"
   ]
  },
  {
   "cell_type": "markdown",
   "id": "47b957b7",
   "metadata": {},
   "source": [
    "# 2. What are the three different types of Boolean operators?"
   ]
  },
  {
   "cell_type": "markdown",
   "id": "3aebfed1",
   "metadata": {},
   "source": [
    "1)AND Operator (and):\n",
    "The and operator returns True if both operands (Boolean expressions) are True, otherwise, it returns False.\n",
    "It represents logical conjunction.\n",
    "\n",
    "Example: True and True evaluates to True, True and False evaluates to False, False and False evaluates to False, etc.\n",
    "\n",
    "2)OR Operator (or):\n",
    "The or operator returns True if at least one of the operands (Boolean expressions) is True, otherwise, it returns False.\n",
    "It represents logical disjunction.\n",
    "\n",
    "Example: True or False evaluates to True, False or False evaluates to False, True or True evaluates to True, etc.\n",
    "\n",
    "3)NOT Operator (not):\n",
    "The not operator is a unary operator that negates the Boolean expression. It returns True if the expression is False, and False if the expression is True.\n",
    "It represents logical negation.\n",
    "\n",
    "Example: not True evaluates to False, not False evaluates to True."
   ]
  },
  {
   "cell_type": "markdown",
   "id": "5853966a",
   "metadata": {},
   "source": [
    "# 3. Make a list of each Boolean operator&#39;s truth tables (i.e. every possible combination of Boolean values for the operator and what it evaluate )."
   ]
  },
  {
   "cell_type": "raw",
   "id": "a54024dd",
   "metadata": {},
   "source": [
    "AND Operator (and):\n",
    "Operand 1\tOperand 2\tResult\n",
    "True\t    True\t    True\n",
    "True\t    False\t    False\n",
    "False\t    True\t    False\n",
    "False\t    False\t    False\n",
    "\n",
    "OR Operator (or):\n",
    "Operand 1\tOperand 2\tResult\n",
    "True\t    True\t    True\n",
    "True\t    False\t    True\n",
    "False\t    True\t    True\n",
    "False\t    False\t    False\n",
    "\n",
    "NOT Operator (not):\n",
    "Operand\t  Result\n",
    "True\t  False\n",
    "False\t  True"
   ]
  },
  {
   "cell_type": "markdown",
   "id": "c1c434e0",
   "metadata": {},
   "source": [
    "# 4. What are the values of the following expressions?\n"
   ]
  },
  {
   "cell_type": "raw",
   "id": "135a4f6f",
   "metadata": {},
   "source": [
    "(5 >4) and (3 == 5)\n",
    "not (5 > 4)\n",
    "(5> 4) or (3 == 5)\n",
    "not ((5 > 4) or (3 == 5))\n",
    "(True and True) and (True == False)\n",
    "(not False) or (not True)"
   ]
  },
  {
   "cell_type": "raw",
   "id": "46ab177d",
   "metadata": {},
   "source": [
    "(5 >4) and (3 == 5) -----------------False\n",
    "not (5 > 4)--------------------------False\n",
    "(5> 4) or (3 == 5)-------------------True\n",
    "not ((5 > 4) or (3 == 5))-------------False\n",
    "(True and True) and (True == False)---False\n",
    "(not False) or (not True)-------------True"
   ]
  },
  {
   "cell_type": "markdown",
   "id": "9bf39747",
   "metadata": {},
   "source": [
    "# 5. What are the six comparison operators?\n",
    "\n",
    "\n",
    "\n"
   ]
  },
  {
   "cell_type": "raw",
   "id": "daff82b5",
   "metadata": {},
   "source": [
    "Equal to (==): Checks if two values are equal.\n",
    "Example: 5 == 5 is True, 5 == 10 is False.\n",
    "\n",
    "Not equal to (!=): Checks if two values are not equal.\n",
    "Example: 5 != 10 is True, 5 != 5 is False.\n",
    "\n",
    "Greater than (>): Checks if the left operand is greater than the right operand.\n",
    "Example: 10 > 5 is True, 5 > 10 is False.\n",
    "\n",
    "Less than (<): Checks if the left operand is less than the right operand.\n",
    "Example: 5 < 10 is True, 10 < 5 is False.\n",
    "\n",
    "Greater than or equal to (>=): Checks if the left operand is greater than or equal to the right operand.\n",
    "Example: 10 >= 5 is True, 5 >= 10 is False, 5 >= 5 is True.\n",
    "\n",
    "Less than or equal to (<=): Checks if the left operand is less than or equal to the right operand.\n",
    "Example: 5 <= 10 is True, 10 <= 5 is False, 5 <= 5 is True."
   ]
  },
  {
   "cell_type": "markdown",
   "id": "fcbf603d",
   "metadata": {},
   "source": [
    "# 6. How do you tell the difference between the equal to and assignment operators?Describe a condition and when you would use one."
   ]
  },
  {
   "cell_type": "raw",
   "id": "c4d00db7",
   "metadata": {},
   "source": [
    "Equal To Operator (==):\n",
    "------------------------------\n",
    "The equal to operator is used to compare two values to check if they are equal.\n",
    "It returns a Boolean value (True or False) based on whether the values being compared are equal or not.\n",
    "It is used in conditional statements or expressions to evaluate certain conditions.\n",
    "Example: x == 10 checks if the value of variable x is equal to 10.\n",
    "\n",
    "Assignment Operator (=):\n",
    "--------------------------------\n",
    "The assignment operator is used to assign a value to a variable.\n",
    "It takes the value on the right side of the operator and stores it in the variable on the left side.\n",
    "It does not perform a comparison; instead, it performs an action of assigning a value to a variable.\n",
    "Example: x = 10 assigns the value 10 to the variable x."
   ]
  },
  {
   "cell_type": "markdown",
   "id": "8ec7c38c",
   "metadata": {},
   "source": [
    "# 7. Identify the three blocks in this code:\n"
   ]
  },
  {
   "cell_type": "raw",
   "id": "5b925f0f",
   "metadata": {},
   "source": [
    "spam = 0\n",
    "if spam == 10:\n",
    "    print('eggs')\n",
    "if spam > 5:\n",
    "    print('bacon')\n",
    "else:\n",
    "    print('ham')\n",
    "    print('spam')\n",
    "    print('spam')"
   ]
  },
  {
   "cell_type": "code",
   "execution_count": 4,
   "id": "97a7d1fa",
   "metadata": {},
   "outputs": [
    {
     "name": "stdout",
     "output_type": "stream",
     "text": [
      "ham\n",
      "spam\n",
      "spam\n"
     ]
    }
   ],
   "source": [
    "spam = 0               # Block 1: Assigning a value to the variable 'spam'\n",
    "if spam == 10:         # Block 2: Starts with 'if' statement\n",
    "    print('eggs')      # Block 2: This line is part of the 'if' block\n",
    "if spam > 5:           # Block 3: Starts with another 'if' statement\n",
    "    print('bacon')     # Block 3: This line is part of the second 'if' block\n",
    "else:                  # Block 3: Continuation of the second 'if' statement, but this line starts an 'else' block\n",
    "    print('ham')       # Block 3: This line is part of the 'else' block\n",
    "print('spam')          # Block 1: This line is not indented, belongs to the first block\n",
    "print('spam')          # Block 1: This line is not indented, belongs to the first block\n"
   ]
  },
  {
   "cell_type": "markdown",
   "id": "e65fe122",
   "metadata": {},
   "source": [
    "# 8. Write code that prints Hello if 1 is stored in spam, prints Howdy if 2 is stored in spam, and prints Greetings! if anything else is stored in spam."
   ]
  },
  {
   "cell_type": "code",
   "execution_count": 5,
   "id": "8c0bec7e",
   "metadata": {},
   "outputs": [
    {
     "name": "stdout",
     "output_type": "stream",
     "text": [
      "Hello\n"
     ]
    }
   ],
   "source": [
    "spam = 1\n",
    "\n",
    "if spam == 1:\n",
    "    print(\"Hello\")\n",
    "elif spam == 2:\n",
    "    print(\"Howdy\")\n",
    "else:\n",
    "    print(\"Greetings!\")\n"
   ]
  },
  {
   "cell_type": "markdown",
   "id": "9d9dbe79",
   "metadata": {},
   "source": [
    "# 9.If your programme is stuck in an endless loop, what keys you’ll press?"
   ]
  },
  {
   "cell_type": "raw",
   "id": "8dc367fa",
   "metadata": {},
   "source": [
    "Ctrl + C: This key combination is the most common way to interrupt the execution of a program in most environments. Pressing this will send a \"KeyboardInterrupt\" signal to the running program, causing it to terminate and exit the loop.\n",
    "\n",
    "Ctrl + Break: On some systems or terminals, the \"Break\" key may be used instead of C. So, you can try using Ctrl + Break to interrupt the program.\n",
    "\n",
    "Ctrl + D: In some environments, particularly when working with the Python interpreter in Unix-like systems, pressing Ctrl + D sends an \"End-of-File\" (EOF) signal, which can terminate the program."
   ]
  },
  {
   "cell_type": "markdown",
   "id": "d21ee17a",
   "metadata": {},
   "source": [
    "# 10. How can you tell the difference between break and continue?"
   ]
  },
  {
   "cell_type": "raw",
   "id": "f8898f8e",
   "metadata": {},
   "source": [
    "break:\n",
    "\n",
    "The break statement is used to exit the loop prematurely when a certain condition is met.\n",
    "When the break statement is encountered inside a loop (such as for or while), it immediately terminates the loop's execution, and the control flow moves to the statement immediately following the loop.\n",
    "It is typically used when you want to stop the loop as soon as a specific condition is satisfied, and there is no need to continue iterating further.\n",
    "Example:\n",
    "for num in range(1, 6):\n",
    "    if num == 3:\n",
    "        break\n",
    "    print(num)\n",
    "Output: 1 2\n",
    "\n",
    "continue:\n",
    "\n",
    "The continue statement is used to skip the rest of the loop's body for the current iteration when a certain condition is met, and it proceeds to the next iteration.\n",
    "When the continue statement is encountered inside a loop (such as for or while), it skips the remaining statements in the loop's body for the current iteration and moves to the next iteration.\n",
    "It is typically used when you want to skip specific iterations of the loop based on a condition, but you still want the loop to continue with the next iteration.\n",
    "Example:\n",
    "for num in range(1, 6):\n",
    "    if num == 3:\n",
    "        continue\n",
    "    print(num)\n",
    "Output: 1 2 4 5"
   ]
  },
  {
   "cell_type": "markdown",
   "id": "a2c72b32",
   "metadata": {},
   "source": [
    "# 11. In a for loop, what is the difference between range(10), range(0, 10), and range(0, 10, 1)?"
   ]
  },
  {
   "cell_type": "raw",
   "id": "cc81ccc5",
   "metadata": {},
   "source": [
    "range(10):\n",
    "\n",
    "This expression creates a range that starts from the default value of 0 (if not specified) and goes up to, but does not include, the specified value (10 in this case).\n",
    "The default start value is 0, and the step value is 1.\n",
    "So, range(10) is equivalent to range(0, 10, 1) and generates the numbers 0, 1, 2, 3, 4, 5, 6, 7, 8, and 9.\n",
    "\n",
    "range(0, 10):\n",
    "\n",
    "This expression explicitly specifies the start value (0) and the end value (10-1 = 9).\n",
    "The step value is not specified, so it defaults to 1.\n",
    "So, range(0, 10) is also equivalent to range(0, 10, 1) and generates the numbers 0, 1, 2, 3, 4, 5, 6, 7, 8, and 9.\n",
    "\n",
    "range(0, 10, 1):\n",
    "\n",
    "This expression explicitly specifies the start value (0), end value (10-1 = 9), and step value (1).\n",
    "The step value is the increment by which the sequence progresses from one number to the next.\n",
    "In this case, the step value is 1, so the range generates the numbers 0, 1, 2, 3, 4, 5, 6, 7, 8, and 9."
   ]
  },
  {
   "cell_type": "markdown",
   "id": "9bdb67e7",
   "metadata": {},
   "source": [
    "# 12. Write a short program that prints the numbers 1 to 10 using a for loop. Then write an equivalent program that prints the numbers 1 to 10 using a while loop."
   ]
  },
  {
   "cell_type": "code",
   "execution_count": 8,
   "id": "f8318357",
   "metadata": {},
   "outputs": [
    {
     "name": "stdout",
     "output_type": "stream",
     "text": [
      "1\n",
      "2\n",
      "3\n",
      "4\n",
      "5\n",
      "6\n",
      "7\n",
      "8\n",
      "9\n",
      "10\n"
     ]
    }
   ],
   "source": [
    "# Using a for loop\n",
    "for num in range(1, 11):\n",
    "    print(num)"
   ]
  },
  {
   "cell_type": "code",
   "execution_count": 7,
   "id": "af4386c9",
   "metadata": {},
   "outputs": [
    {
     "name": "stdout",
     "output_type": "stream",
     "text": [
      "1\n",
      "2\n",
      "3\n",
      "4\n",
      "5\n",
      "6\n",
      "7\n",
      "8\n",
      "9\n",
      "10\n"
     ]
    }
   ],
   "source": [
    "# Using a while loop\n",
    "num = 1\n",
    "while num <= 10:\n",
    "    print(num)\n",
    "    num += 1\n"
   ]
  },
  {
   "cell_type": "markdown",
   "id": "2763dd83",
   "metadata": {},
   "source": [
    "# 13. If you had a function named bacon() inside a module named spam, how would you call it after importing spam?"
   ]
  },
  {
   "cell_type": "raw",
   "id": "a32b2ae1",
   "metadata": {},
   "source": [
    "import spam\n",
    "spam.bacon()"
   ]
  },
  {
   "cell_type": "raw",
   "id": "cce34793",
   "metadata": {},
   "source": [
    "import spam: This line imports the spam module into your current Python script or program.\n",
    "\n",
    "spam.bacon(): This line calls the function bacon() that is defined inside the spam module. The syntax spam.bacon() specifies that we are accessing the function bacon() from the spam module.\n",
    "\n",
    "With this approach, you can access and use the bacon() function from the spam module in your current Python script or program. Make sure that the module spam is available in the Python environment, either in the same directory as your script or installed in a location that Python can find."
   ]
  },
  {
   "cell_type": "code",
   "execution_count": null,
   "id": "7b35f5cd",
   "metadata": {},
   "outputs": [],
   "source": []
  }
 ],
 "metadata": {
  "kernelspec": {
   "display_name": "Python 3 (ipykernel)",
   "language": "python",
   "name": "python3"
  },
  "language_info": {
   "codemirror_mode": {
    "name": "ipython",
    "version": 3
   },
   "file_extension": ".py",
   "mimetype": "text/x-python",
   "name": "python",
   "nbconvert_exporter": "python",
   "pygments_lexer": "ipython3",
   "version": "3.10.9"
  }
 },
 "nbformat": 4,
 "nbformat_minor": 5
}
