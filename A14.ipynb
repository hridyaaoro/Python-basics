{
 "cells": [
  {
   "cell_type": "markdown",
   "id": "2553a798",
   "metadata": {},
   "source": [
    "# 1. What does RGBA stand for?"
   ]
  },
  {
   "cell_type": "markdown",
   "id": "164ad971",
   "metadata": {},
   "source": [
    "    RGBA stands for \"Red, Green, Blue, Alpha.\" It is a color model used in digital imaging and computer graphics to represent colors with a combination of red, green, and blue components, along with an additional alpha channel that represents the opacity or transparency of the color.\n",
    "\n",
    "    In the RGBA color model:\n",
    "\n",
    "    Red (R) represents the amount of red color in the color mixture, typically specified as an integer value between 0 and 255 or as a percentage.\n",
    "\n",
    "    Green (G) represents the amount of green color in the color mixture, also typically specified as an integer value between 0 and 255 or as a percentage.\n",
    "\n",
    "    Blue (B) represents the amount of blue color in the color mixture, again specified as an integer value between 0 and 255 or as a percentage.\n",
    "\n",
    "    Alpha (A) represents the opacity or transparency of the color. An alpha value of 0 means fully transparent, while an alpha value of 1 means fully opaque. Values between 0 and 1 represent varying levels of transparency.\n",
    "\n",
    "    This RGBA color model is commonly used in computer graphics, web design, and image processing because it allows for the representation of a wide range of colors and varying levels of transparency, which is useful for creating visually appealing and complex graphics and images."
   ]
  },
  {
   "cell_type": "markdown",
   "id": "38ff8d01",
   "metadata": {},
   "source": [
    "# 2. From the Pillow module, how do you get the RGBA value of any images?"
   ]
  },
  {
   "cell_type": "markdown",
   "id": "d213134e",
   "metadata": {},
   "source": [
    "To get the RGBA (Red, Green, Blue, Alpha) value of any image using the Pillow module (PIL), you can use the getpixel() method. Here's how you can do it:\n",
    "\n",
    "1)First, make sure you have Pillow installed. You can install it using pip if you haven't already:"
   ]
  },
  {
   "cell_type": "code",
   "execution_count": null,
   "id": "15faaf25",
   "metadata": {},
   "outputs": [],
   "source": [
    "pip install pillow\n"
   ]
  },
  {
   "cell_type": "markdown",
   "id": "e60f1423",
   "metadata": {},
   "source": [
    "2)Import the Pillow module and open the image file you want to work with:"
   ]
  },
  {
   "cell_type": "code",
   "execution_count": null,
   "id": "5003f80a",
   "metadata": {},
   "outputs": [],
   "source": [
    "from PIL import Image\n",
    "\n",
    "# Open the image file\n",
    "image = Image.open('your_image.png')  # Replace 'your_image.png' with the path to your image file\n"
   ]
  },
  {
   "cell_type": "markdown",
   "id": "926da101",
   "metadata": {},
   "source": [
    "3)Now, you can use the getpixel() method to retrieve the RGBA value of a specific pixel in the image. You'll need to provide the (x, y) coordinates of the pixel you want to access:"
   ]
  },
  {
   "cell_type": "code",
   "execution_count": null,
   "id": "b12540c1",
   "metadata": {},
   "outputs": [],
   "source": [
    "# Get the RGBA value of a pixel at coordinates (x, y)\n",
    "x = 100  # Replace with the x-coordinate of the pixel you want to access\n",
    "y = 150  # Replace with the y-coordinate of the pixel you want to access\n",
    "\n",
    "pixel_rgba = image.getpixel((x, y))\n"
   ]
  },
  {
   "cell_type": "markdown",
   "id": "590db0d3",
   "metadata": {},
   "source": [
    "The pixel_rgba variable will contain a tuple with four values representing the RGBA values of the pixel at the specified coordinates. For example, pixel_rgba might look like (255, 0, 0, 255) where the values are in the order Red (R), Green (G), Blue (B), and Alpha (A).\n",
    "\n",
    "You can access the individual components of the RGBA value using indexing, like pixel_rgba[0] for the red component, pixel_rgba[1] for green, pixel_rgba[2] for blue, and pixel_rgba[3] for alpha."
   ]
  },
  {
   "cell_type": "markdown",
   "id": "460682a8",
   "metadata": {},
   "source": [
    "# 3. What is a box tuple, and how does it work?"
   ]
  },
  {
   "cell_type": "markdown",
   "id": "545be1c8",
   "metadata": {},
   "source": [
    "    A box tuple, often referred to as a bounding box or a rectangle tuple, is a data structure used to represent a rectangular region or area in computer graphics and image processing. It defines the coordinates and dimensions of a rectangle using a tuple of four values. The four values in a box tuple typically represent the following information:\n",
    "\n",
    "    Left coordinate (x): The x-coordinate of the left edge of the rectangle.\n",
    "\n",
    "    Upper coordinate (y): The y-coordinate of the upper edge of the rectangle.\n",
    "\n",
    "    Right coordinate (x): The x-coordinate of the right edge of the rectangle.\n",
    "\n",
    "    Lower coordinate (y): The y-coordinate of the lower edge of the rectangle.\n",
    "\n",
    "    The box tuple is often denoted as (left, upper, right, lower) or (x1, y1, x2, y2).\n",
    "\n",
    "    Here's how a box tuple works:\n",
    "\n",
    "    The left and upper coordinates represent the top-left corner of the rectangle.\n",
    "\n",
    "    The right and lower coordinates represent the bottom-right corner of the rectangle.\n",
    "\n",
    "    The x-coordinate values (left and right) define the horizontal extent of the rectangle.\n",
    "\n",
    "    The y-coordinate values (upper and lower) define the vertical extent of the rectangle.\n",
    "\n",
    "    You can use a box tuple to define a region of interest (ROI) within an image or specify the boundaries of an area you want to manipulate or extract from an image. Many libraries and image processing tools, including the Pillow library (PIL), use box tuples for operations such as cropping, resizing, and drawing shapes on images.\n",
    "\n",
    "    For example, if you have an image and you want to define a box tuple to represent a rectangular area within the image, you can do it like this"
   ]
  },
  {
   "cell_type": "code",
   "execution_count": null,
   "id": "427492de",
   "metadata": {},
   "outputs": [],
   "source": [
    "# Define a box tuple (left, upper, right, lower)\n",
    "box = (100, 50, 300, 200)\n"
   ]
  },
  {
   "cell_type": "markdown",
   "id": "4ef1ea8d",
   "metadata": {},
   "source": [
    "In this example, box represents a rectangle with its top-left corner at coordinates (100, 50) and its bottom-right corner at coordinates (300, 200). You can then use this box tuple with various image processing functions to perform operations within this defined region of the image."
   ]
  },
  {
   "cell_type": "markdown",
   "id": "9100e495",
   "metadata": {},
   "source": [
    "# 4. Use your image and load in notebook then, How can you find out the width and height of an Image object?"
   ]
  },
  {
   "cell_type": "markdown",
   "id": "9e849fae",
   "metadata": {},
   "source": [
    "To find out the width and height of an Image object using the Pillow (PIL) library in a Jupyter Notebook, you can follow these steps:\n",
    "\n",
    "First, make sure you have the Pillow library installed in your Jupyter Notebook environment. If you haven't already installed it, you can do so using the following command in a code cell:"
   ]
  },
  {
   "cell_type": "code",
   "execution_count": null,
   "id": "565212f3",
   "metadata": {},
   "outputs": [],
   "source": [
    "!pip install pillow\n"
   ]
  },
  {
   "cell_type": "markdown",
   "id": "1920b773",
   "metadata": {},
   "source": [
    "Next, you can use the Pillow library to open an image and find its width and height. Here's how to do it:"
   ]
  },
  {
   "cell_type": "code",
   "execution_count": null,
   "id": "8fdbaac0",
   "metadata": {},
   "outputs": [],
   "source": [
    "from PIL import Image\n",
    "\n",
    "# Open an image file (replace 'your_image.jpg' with the path to your image)\n",
    "image = Image.open('your_image.jpg')\n",
    "\n",
    "# Get the width and height of the image\n",
    "width, height = image.size\n",
    "\n",
    "# Print the width and height\n",
    "print(f\"Width: {width}px\")\n",
    "print(f\"Height: {height}px\")\n"
   ]
  },
  {
   "cell_type": "markdown",
   "id": "8fe3b53e",
   "metadata": {},
   "source": [
    "Replace 'your_image.jpg' with the path to your image file.\n",
    "\n",
    "Run the code cell, and it will open the image, retrieve its width and height using the size attribute, and print the results in pixels.\n",
    "\n",
    "This code will display the width and height of the image in the Jupyter Notebook output. The image.size attribute returns a tuple with two values: the width and height of the image, which you can then use for further processing or analysis."
   ]
  },
  {
   "cell_type": "markdown",
   "id": "1be48756",
   "metadata": {},
   "source": [
    "# 5. What method would you call to get Image object for a 100×100 image, excluding the lower-left quarter of it?"
   ]
  },
  {
   "cell_type": "markdown",
   "id": "63a11b90",
   "metadata": {},
   "source": [
    "To get an Image object for a 100x100 image that excludes the lower-left quarter of it (i.e., the top-right three-quarters of the image), you can use the Pillow (PIL) library in Python. You can achieve this by cropping the original image to the desired dimensions.\n",
    "\n",
    "Here's how you can do it:"
   ]
  },
  {
   "cell_type": "code",
   "execution_count": null,
   "id": "1b111147",
   "metadata": {},
   "outputs": [],
   "source": [
    "from PIL import Image\n",
    "\n",
    "# Open the original image\n",
    "original_image = Image.open('your_original_image.jpg')  # Replace with the path to your image\n",
    "\n",
    "# Define the dimensions for the top-right three-quarters (75x75 pixels)\n",
    "width, height = 75, 75\n",
    "\n",
    "# Crop the original image to the specified dimensions\n",
    "cropped_image = original_image.crop((width, 0, original_image.width, height))\n",
    "\n",
    "# Save or display the cropped image\n",
    "cropped_image.show()  # Display the cropped image\n",
    "# cropped_image.save('cropped_image.jpg')  # Save the cropped image to a file if needed\n"
   ]
  },
  {
   "cell_type": "markdown",
   "id": "6c1efa2a",
   "metadata": {},
   "source": [
    "    Image.open('your_original_image.jpg') opens the original image.\n",
    "    crop((width, 0, original_image.width, height)) crops the image from (0, 0) (upper-left corner) to (width, height) (lower-   right corner of the top-right three-quarters).\n",
    "    You can adjust the width and height variables to control the size of the cropped region. After cropping, you can choose to display the cropped image using show() or save it to a file using save() as shown in the comments."
   ]
  },
  {
   "cell_type": "markdown",
   "id": "ceeddf8e",
   "metadata": {},
   "source": [
    "# 6. After making changes to an Image object, how could you save it as an image file?"
   ]
  },
  {
   "cell_type": "markdown",
   "id": "f9e7efeb",
   "metadata": {},
   "source": [
    "After making changes to an Image object using the Pillow (PIL) library in Python, you can save it as an image file using the save() method. Here's how you can do it:"
   ]
  },
  {
   "cell_type": "code",
   "execution_count": null,
   "id": "21d04a3d",
   "metadata": {},
   "outputs": [],
   "source": [
    "from PIL import Image\n",
    "\n",
    "# Open or create an Image object\n",
    "image = Image.open('your_image.jpg')  # Replace with the path to your image or create a new image\n",
    "\n",
    "# Make changes to the image (e.g., resizing, filtering, cropping, etc.)\n",
    "\n",
    "# Save the modified image to a file\n",
    "image.save('modified_image.jpg')  # Replace 'modified_image.jpg' with your desired file name and format\n"
   ]
  },
  {
   "cell_type": "markdown",
   "id": "a6034e3c",
   "metadata": {},
   "source": [
    "You open or create an Image object called image.\n",
    "\n",
    "You make changes to the image object as needed. This could involve various operations like resizing, filtering, cropping, or any other image manipulation.\n",
    "\n",
    "Finally, you use the save() method to save the modified image to a file. You specify the file name and format (e.g., 'modified_image.jpg', 'output.png') as an argument to the save() method. Pillow will automatically determine the appropriate file format based on the file extension you provide.\n",
    "\n",
    "Make sure to replace 'your_image.jpg' with the path to your original image and adjust the file name and format in the image.save() method call to match your desired output."
   ]
  },
  {
   "cell_type": "markdown",
   "id": "3eb609cc",
   "metadata": {},
   "source": [
    "# 7. What module contains Pillow’s shape-drawing code?"
   ]
  },
  {
   "cell_type": "markdown",
   "id": "36958923",
   "metadata": {},
   "source": [
    "Pillow's shape-drawing code is contained within the Pillow module itself. More specifically, the shape-drawing functions are part of the Pillow.ImageDraw module, which is a submodule of Pillow.\n",
    "\n",
    "To use Pillow's shape-drawing functionality, you typically import the ImageDraw module from Pillow and create an ImageDraw.Draw object to draw shapes and text on an Image object. Here's an example:"
   ]
  },
  {
   "cell_type": "code",
   "execution_count": null,
   "id": "eb842db9",
   "metadata": {},
   "outputs": [],
   "source": [
    "from PIL import Image, ImageDraw\n",
    "\n",
    "# Open an image\n",
    "image = Image.open('your_image.jpg')  # Replace with the path to your image\n",
    "\n",
    "# Create an ImageDraw.Draw object\n",
    "draw = ImageDraw.Draw(image)\n",
    "\n",
    "# Draw a rectangle on the image\n",
    "rectangle_coordinates = [(50, 50), (150, 150)]  # Specify the top-left and bottom-right corners of the rectangle\n",
    "outline_color = (255, 0, 0)  # Red outline color (RGB)\n",
    "thickness = 2  # Outline thickness in pixels\n",
    "draw.rectangle(rectangle_coordinates, outline=outline_color, width=thickness)\n",
    "\n",
    "# Save or display the modified image\n",
    "image.show()  # Display the modified image\n",
    "# image.save('modified_image.jpg')  # Save the modified image to a file if needed\n"
   ]
  },
  {
   "cell_type": "markdown",
   "id": "76928aa4",
   "metadata": {},
   "source": [
    "In this example, we import Image and ImageDraw from Pillow. We create an ImageDraw.Draw object named draw and use it to draw a red rectangle on the image. The shape-drawing functions like draw.rectangle() and others are part of the ImageDraw module."
   ]
  },
  {
   "cell_type": "markdown",
   "id": "08d426c8",
   "metadata": {},
   "source": [
    "# 8. Image objects do not have drawing methods. What kind of object does? How do you get this kind of object?"
   ]
  },
  {
   "cell_type": "markdown",
   "id": "13ed12a6",
   "metadata": {},
   "source": [
    "You are correct that Image objects in the Pillow (PIL) library do not have drawing methods directly. To perform drawing operations on an image, you need to create an ImageDraw.Draw object. This object is responsible for drawing shapes, text, and other graphics onto the image.\n",
    "\n",
    "Here's how you can create an ImageDraw.Draw object:\n",
    "\n",
    "1)First, import the necessary modules:"
   ]
  },
  {
   "cell_type": "code",
   "execution_count": null,
   "id": "018aaddf",
   "metadata": {},
   "outputs": [],
   "source": [
    "from PIL import Image, ImageDraw\n"
   ]
  },
  {
   "cell_type": "markdown",
   "id": "21c72787",
   "metadata": {},
   "source": [
    "2)Open an image using the Image.open() method to create an Image object:"
   ]
  },
  {
   "cell_type": "code",
   "execution_count": null,
   "id": "408157b6",
   "metadata": {},
   "outputs": [],
   "source": [
    "image = Image.open('your_image.jpg')  # Replace 'your_image.jpg' with the path to your image\n"
   ]
  },
  {
   "cell_type": "markdown",
   "id": "5fb69315",
   "metadata": {},
   "source": [
    "3)Create an ImageDraw.Draw object by passing the Image object as an argument to ImageDraw.Draw():"
   ]
  },
  {
   "cell_type": "code",
   "execution_count": null,
   "id": "d8ca99fa",
   "metadata": {},
   "outputs": [],
   "source": [
    "draw = ImageDraw.Draw(image)\n"
   ]
  },
  {
   "cell_type": "markdown",
   "id": "e4234b5d",
   "metadata": {},
   "source": [
    "Now, you have the draw object, which allows you to perform various drawing operations on the image. For example, you can draw shapes (e.g., lines, rectangles, ellipses), add text, and apply various graphical effects to the image.\n",
    "\n",
    "Here's an example of how to use the draw object to draw a red rectangle on the image:"
   ]
  },
  {
   "cell_type": "code",
   "execution_count": null,
   "id": "8e9a79b0",
   "metadata": {},
   "outputs": [],
   "source": [
    "# Draw a red rectangle on the image\n",
    "rectangle_coordinates = [(50, 50), (150, 150)]  # Specify the top-left and bottom-right corners of the rectangle\n",
    "outline_color = (255, 0, 0)  # Red outline color (RGB)\n",
    "thickness = 2  # Outline thickness in pixels\n",
    "draw.rectangle(rectangle_coordinates, outline=outline_color, width=thickness)\n"
   ]
  },
  {
   "cell_type": "markdown",
   "id": "ca634507",
   "metadata": {},
   "source": [
    "After performing the drawing operations, you can choose to save the modified image or display it using the appropriate methods from the Image object (image.show() or image.save()).\n",
    "\n",
    "In summary, you get an ImageDraw.Draw object by creating an Image object using Image.open(), and then passing the Image object to ImageDraw.Draw(). The ImageDraw.Draw object provides the drawing methods needed to manipulate the image."
   ]
  },
  {
   "cell_type": "code",
   "execution_count": null,
   "id": "592dd908",
   "metadata": {},
   "outputs": [],
   "source": []
  },
  {
   "cell_type": "code",
   "execution_count": null,
   "id": "6fb712cd",
   "metadata": {},
   "outputs": [],
   "source": []
  }
 ],
 "metadata": {
  "kernelspec": {
   "display_name": "Python 3 (ipykernel)",
   "language": "python",
   "name": "python3"
  },
  "language_info": {
   "codemirror_mode": {
    "name": "ipython",
    "version": 3
   },
   "file_extension": ".py",
   "mimetype": "text/x-python",
   "name": "python",
   "nbconvert_exporter": "python",
   "pygments_lexer": "ipython3",
   "version": "3.10.9"
  }
 },
 "nbformat": 4,
 "nbformat_minor": 5
}
