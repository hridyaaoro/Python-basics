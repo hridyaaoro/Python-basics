{
 "cells": [
  {
   "cell_type": "markdown",
   "id": "f213d8a1",
   "metadata": {},
   "source": [
    "# 1. Is the Python Standard Library included with PyInputPlus?"
   ]
  },
  {
   "cell_type": "markdown",
   "id": "6d09000c",
   "metadata": {},
   "source": [
    "No, the Python Standard Library is not included with PyInputPlus. PyInputPlus is a separate third-party library used for user input validation and handling in Python. It provides additional functionality for handling user inputs beyond what is included in the Python Standard Library's input() function."
   ]
  },
  {
   "cell_type": "markdown",
   "id": "75eb6072",
   "metadata": {},
   "source": [
    "To use PyInputPlus, WE need to install it separately using a package manager like pip. We can install PyInputPlus with the following command:"
   ]
  },
  {
   "cell_type": "code",
   "execution_count": 2,
   "id": "97ba6e6e",
   "metadata": {},
   "outputs": [
    {
     "name": "stdout",
     "output_type": "stream",
     "text": [
      "Note: you may need to restart the kernel to use updated packages.Collecting pyinputplus\n",
      "  Downloading PyInputPlus-0.2.12.tar.gz (20 kB)\n",
      "  Installing build dependencies: started\n",
      "  Installing build dependencies: finished with status 'done'\n",
      "  Getting requirements to build wheel: started\n",
      "  Getting requirements to build wheel: finished with status 'done'\n",
      "  Preparing metadata (pyproject.toml): started\n",
      "  Preparing metadata (pyproject.toml): finished with status 'done'\n",
      "Collecting stdiomask>=0.0.3\n",
      "  Downloading stdiomask-0.0.6.tar.gz (3.6 kB)\n",
      "  Installing build dependencies: started\n",
      "  Installing build dependencies: finished with status 'done'\n",
      "  Getting requirements to build wheel: started\n",
      "  Getting requirements to build wheel: finished with status 'done'\n",
      "  Preparing metadata (pyproject.toml): started\n",
      "  Preparing metadata (pyproject.toml): finished with status 'done'\n",
      "Collecting pysimplevalidate>=0.2.7\n",
      "  Downloading PySimpleValidate-0.2.12.tar.gz (22 kB)\n",
      "  Installing build dependencies: started\n",
      "  Installing build dependencies: finished with status 'done'\n",
      "  Getting requirements to build wheel: started\n",
      "  Getting requirements to build wheel: finished with status 'done'\n",
      "  Preparing metadata (pyproject.toml): started\n",
      "  Preparing metadata (pyproject.toml): finished with status 'done'\n",
      "Building wheels for collected packages: pyinputplus, pysimplevalidate, stdiomask\n",
      "  Building wheel for pyinputplus (pyproject.toml): started\n",
      "  Building wheel for pyinputplus (pyproject.toml): finished with status 'done'\n",
      "  Created wheel for pyinputplus: filename=PyInputPlus-0.2.12-py3-none-any.whl size=11318 sha256=b2e6ef6ff12a01d098fffa9e83820d26531556898851968c32cae4079de2dfd9\n",
      "  Stored in directory: c:\\users\\user\\appdata\\local\\pip\\cache\\wheels\\2d\\72\\d9\\818396cecb072b3d697a47b007d9bbad74859a83a635e47d4d\n",
      "  Building wheel for pysimplevalidate (pyproject.toml): started\n",
      "  Building wheel for pysimplevalidate (pyproject.toml): finished with status 'done'\n",
      "  Created wheel for pysimplevalidate: filename=PySimpleValidate-0.2.12-py3-none-any.whl size=16203 sha256=510e6cae6d9baea3501f624144cdd57babd42a8954f0e63b7a4e1eea5a105a54\n",
      "  Stored in directory: c:\\users\\user\\appdata\\local\\pip\\cache\\wheels\\05\\ad\\4d\\7289d8b9a519e88167728584876a1a1073a3f71666d875aba7\n",
      "  Building wheel for stdiomask (pyproject.toml): started\n",
      "  Building wheel for stdiomask (pyproject.toml): finished with status 'done'\n",
      "  Created wheel for stdiomask: filename=stdiomask-0.0.6-py3-none-any.whl size=3321 sha256=b896248fb622f1364f2a41d13e3e2de71d7a5998f6e3b9056e1cb5fbcd0307cf\n",
      "  Stored in directory: c:\\users\\user\\appdata\\local\\pip\\cache\\wheels\\41\\ee\\55\\6e4b70f6248b280caae3d938bc543206bb1a75988b739f1238\n",
      "Successfully built pyinputplus pysimplevalidate stdiomask\n",
      "Installing collected packages: stdiomask, pysimplevalidate, pyinputplus\n",
      "Successfully installed pyinputplus-0.2.12 pysimplevalidate-0.2.12 stdiomask-0.0.6\n",
      "\n"
     ]
    }
   ],
   "source": [
    "pip install pyinputplus\n"
   ]
  },
  {
   "cell_type": "markdown",
   "id": "1215d910",
   "metadata": {},
   "source": [
    "Once installed, you can import and use PyInputPlus in your Python scripts to interactively collect and validate user inputs."
   ]
  },
  {
   "cell_type": "code",
   "execution_count": 3,
   "id": "d19b0365",
   "metadata": {},
   "outputs": [
    {
     "name": "stdout",
     "output_type": "stream",
     "text": [
      "Enter an integer: 23\n",
      "You entered: 23\n"
     ]
    }
   ],
   "source": [
    "import pyinputplus as pyip\n",
    "\n",
    "response = pyip.inputInt(prompt=\"Enter an integer: \")\n",
    "print(\"You entered:\", response)\n"
   ]
  },
  {
   "cell_type": "markdown",
   "id": "8cebf0f7",
   "metadata": {},
   "source": [
    "In the example above, pyinputplus is a separate library that you import to work with user inputs, and it is not part of the Python Standard Library.\n",
    "\n",
    "\n",
    "\n",
    "\n",
    "\n"
   ]
  },
  {
   "cell_type": "markdown",
   "id": "54afd059",
   "metadata": {},
   "source": [
    "# 2. Why is PyInputPlus commonly imported with import pyinputplus as pypi?"
   ]
  },
  {
   "cell_type": "markdown",
   "id": "2b9fceb5",
   "metadata": {},
   "source": [
    "PyInputPlus is commonly imported with the alias pypi (or any other alias) for brevity and convenience. This practice is not a requirement, but it can make your code shorter and more readable, especially when you use PyInputPlus functions frequently in your script."
   ]
  },
  {
   "cell_type": "markdown",
   "id": "8a2e53a9",
   "metadata": {},
   "source": [
    "Here are a few reasons why developers might choose to use import pyinputplus as pypi:\n",
    "\n",
    "1)Shorter Code: Using an alias like pypi allows you to type fewer characters when calling PyInputPlus functions, making your code more concise. For example, instead of typing pyinputplus.inputInt(), you can simply write pypi.inputInt().\n",
    "\n",
    "2_Readability: A shorter alias can improve code readability, especially in cases where PyInputPlus functions are used frequently. It makes the code less cluttered and easier to understand.\n",
    "\n",
    "3)Namespace Separation: An alias like pypi helps differentiate PyInputPlus functions from other functions or variables in your code. This can be helpful when working with modules or libraries that have similarly named functions."
   ]
  },
  {
   "cell_type": "markdown",
   "id": "34128209",
   "metadata": {},
   "source": [
    "However, the choice of alias is entirely up to the developer, and you can use any valid alias that suits your preference. For example, you could import PyInputPlus with an alias like import pyinputplus as user_input or simply import pyinputplus if you prefer to use the full module name."
   ]
  },
  {
   "cell_type": "markdown",
   "id": "512b1ede",
   "metadata": {},
   "source": [
    "# 3. How do you distinguish between inputInt() and inputFloat()?"
   ]
  },
  {
   "cell_type": "markdown",
   "id": "6ad1a8c5",
   "metadata": {},
   "source": [
    "In PyInputPlus, you can distinguish between inputInt() and inputFloat() by using these functions for collecting specific types of numeric input. Here's how they differ:"
   ]
  },
  {
   "cell_type": "markdown",
   "id": "6c5bb7ee",
   "metadata": {},
   "source": [
    "inputInt(): This function is used to collect integer input from the user. It prompts the user to enter an integer, and it keeps prompting until a valid integer is provided. If the user enters a non-integer value or an empty input, it will raise an error and continue to prompt.\n",
    "\n",
    "Example:"
   ]
  },
  {
   "cell_type": "code",
   "execution_count": 5,
   "id": "9f689feb",
   "metadata": {},
   "outputs": [
    {
     "name": "stdout",
     "output_type": "stream",
     "text": [
      "Enter your age: 23\n"
     ]
    }
   ],
   "source": [
    "import pyinputplus as pyip\n",
    "\n",
    "age = pyip.inputInt(\"Enter your age: \")\n"
   ]
  },
  {
   "cell_type": "markdown",
   "id": "9e316450",
   "metadata": {},
   "source": [
    "inputFloat(): This function is used to collect floating-point (decimal) input from the user. It prompts the user to enter a floating-point number and keeps prompting until a valid float is provided. Similar to inputInt(), it will raise an error if the user enters a non-float value or an empty input."
   ]
  },
  {
   "cell_type": "code",
   "execution_count": 6,
   "id": "bf09fb8d",
   "metadata": {},
   "outputs": [
    {
     "name": "stdout",
     "output_type": "stream",
     "text": [
      "Enter the temperature: 54\n"
     ]
    }
   ],
   "source": [
    "import pyinputplus as pyip\n",
    "\n",
    "temperature = pyip.inputFloat(\"Enter the temperature: \")\n"
   ]
  },
  {
   "cell_type": "markdown",
   "id": "e96b54b4",
   "metadata": {},
   "source": [
    " use inputInt() when you expect the user to enter an integer, and you use inputFloat() when you expect the user to enter a floating-point number. Both functions handle input validation and error handling, ensuring that the user provides the expected type of numeric input.\n",
    "\n",
    "\n",
    "\n",
    "\n",
    "\n"
   ]
  },
  {
   "cell_type": "markdown",
   "id": "e284c094",
   "metadata": {},
   "source": [
    "# 4. Using PyInputPlus, how do you ensure that the user enters a whole number between 0 and 99?"
   ]
  },
  {
   "cell_type": "markdown",
   "id": "94d64c94",
   "metadata": {},
   "source": [
    "To ensure that the user enters a whole number between 0 and 99 using PyInputPlus, you can use the inputInt() function with the min and max parameters to specify the allowable range. Here's how you can do it:"
   ]
  },
  {
   "cell_type": "code",
   "execution_count": 8,
   "id": "2c1ae586",
   "metadata": {},
   "outputs": [
    {
     "name": "stdout",
     "output_type": "stream",
     "text": [
      "Enter a whole number between 0 and 99: 4\n"
     ]
    }
   ],
   "source": [
    "import pyinputplus as pyip\n",
    "\n",
    "number = pyip.inputInt(prompt=\"Enter a whole number between 0 and 99: \", min=0, max=99)\n"
   ]
  },
  {
   "cell_type": "markdown",
   "id": "ca5e49e2",
   "metadata": {},
   "source": [
    "inputInt() is used to collect integer input from the user.                                                  \n",
    "The prompt parameter specifies the input prompt displayed to the user.                                       \n",
    "The min parameter is set to 0, specifying that the entered number must be greater than or equal to 0.                       \n",
    "The max parameter is set to 99, specifying that the entered number must be less than or equal to 99."
   ]
  },
  {
   "cell_type": "markdown",
   "id": "41c87c06",
   "metadata": {},
   "source": [
    "PyInputPlus will continue to prompt the user until they enter a valid integer within the specified range. If the user enters a number outside the range or a non-integer value, PyInputPlus will raise an error and continue prompting until a valid input is provided."
   ]
  },
  {
   "cell_type": "markdown",
   "id": "c194b794",
   "metadata": {},
   "source": [
    "# 5. What is transferred to the keyword arguments allowRegexes and blockRegexes?"
   ]
  },
  {
   "cell_type": "markdown",
   "id": "31aa7bfc",
   "metadata": {},
   "source": [
    "In PyInputPlus, the allowRegexes and blockRegexes keyword arguments allow you to specify regular expressions (regexes) that determine which inputs are allowed and which are blocked during user input validation."
   ]
  },
  {
   "cell_type": "markdown",
   "id": "0b43ff04",
   "metadata": {},
   "source": [
    "1)allowRegexes: This keyword argument allows you to provide a list of regular expressions. If the user's input matches any of the regexes in this list, it is considered an allowed input, and PyInputPlus accepts it. In other words, allowRegexes specifies patterns that are permitted."
   ]
  },
  {
   "cell_type": "markdown",
   "id": "546780cb",
   "metadata": {},
   "source": [
    "2)blockRegexes: This keyword argument also takes a list of regular expressions. If the user's input matches any of the regexes in this list, it is considered a blocked input, and PyInputPlus rejects it. blockRegexes specifies patterns that are not allowed."
   ]
  },
  {
   "cell_type": "markdown",
   "id": "d9d651ae",
   "metadata": {},
   "source": [
    "example"
   ]
  },
  {
   "cell_type": "code",
   "execution_count": 10,
   "id": "2bcb8938",
   "metadata": {},
   "outputs": [
    {
     "name": "stdout",
     "output_type": "stream",
     "text": [
      "Enter something: dfgdg\n",
      "You entered: dfgdg\n"
     ]
    }
   ],
   "source": [
    "import pyinputplus as pyip\n",
    "\n",
    "# Allow inputs that start with \"A\" or \"B\"\n",
    "allow_patterns = [r'^A.*', r'^B.*']\n",
    "\n",
    "# Block inputs that contain the word \"spam\"\n",
    "block_patterns = [r'.*spam.*']\n",
    "\n",
    "user_input = pyip.inputStr(prompt=\"Enter something: \",\n",
    "                           allowRegexes=allow_patterns,\n",
    "                           blockRegexes=block_patterns)\n",
    "\n",
    "print(\"You entered:\", user_input)\n"
   ]
  },
  {
   "cell_type": "markdown",
   "id": "675eb007",
   "metadata": {},
   "source": [
    "In this example, allowRegexes specifies patterns that are allowed (inputs that start with \"A\" or \"B\"), while blockRegexes specifies patterns that are blocked (inputs that contain the word \"spam\"). PyInputPlus will validate the user's input against these regular expressions to determine if it should be accepted or rejected."
   ]
  },
  {
   "cell_type": "markdown",
   "id": "647f19c9",
   "metadata": {},
   "source": [
    "# 6. If a blank input is entered three times, what does inputStr(limit=3) do?"
   ]
  },
  {
   "cell_type": "markdown",
   "id": "53131a44",
   "metadata": {},
   "source": [
    "If a blank input (an empty string or whitespace-only input) is entered three times consecutively when using inputStr(limit=3) in PyInputPlus, the function will raise a pyinputplus.RetryLimitException after the third blank input."
   ]
  },
  {
   "cell_type": "markdown",
   "id": "b62e5f9a",
   "metadata": {},
   "source": [
    "The inputStr() function with limit=3 specifies that the user can attempt input up to three times before raising an exception.\n",
    "\n",
    "If the user enters a blank input (empty string or whitespace-only) during any of the three attempts, it is considered invalid input.\n",
    "\n",
    "After the third consecutive invalid input (blank input), the pyinputplus.RetryLimitException is raised, indicating that the user has reached the maximum number of retries."
   ]
  },
  {
   "cell_type": "code",
   "execution_count": 15,
   "id": "d2c9aa18",
   "metadata": {},
   "outputs": [
    {
     "name": "stdout",
     "output_type": "stream",
     "text": [
      "Enter something (3 attempts max): \n",
      "Blank values are not allowed.\n",
      "Enter something (3 attempts max): \n",
      "Blank values are not allowed.\n",
      "Enter something (3 attempts max): \n",
      "Blank values are not allowed.\n",
      "You exceeded the maximum number of retries.\n"
     ]
    }
   ],
   "source": [
    "import pyinputplus as pyip\n",
    "\n",
    "try:\n",
    "    user_input = pyip.inputStr(prompt=\"Enter something (3 attempts max): \", limit=3)\n",
    "    print(\"You entered:\", user_input)\n",
    "except pyip.RetryLimitException:\n",
    "    print(\"You exceeded the maximum number of retries.\")\n"
   ]
  },
  {
   "cell_type": "markdown",
   "id": "0d280549",
   "metadata": {},
   "source": [
    "# 7. If blank input is entered three times, what does inputStr(limit=3, default='hello') do?"
   ]
  },
  {
   "cell_type": "markdown",
   "id": "1df25b6f",
   "metadata": {},
   "source": [
    "If a blank input (an empty string or whitespace-only input) is entered three times consecutively when using inputStr(limit=3, default='hello') in PyInputPlus, the function will return the default value 'hello' after the third blank input."
   ]
  },
  {
   "cell_type": "markdown",
   "id": "ebc85b26",
   "metadata": {},
   "source": [
    "The inputStr() function with limit=3 specifies that the user can attempt input up to three times before raising an exception.\n",
    "\n",
    "If the user enters a blank input (empty string or whitespace-only) during any of the three attempts, it is considered invalid input.\n",
    "\n",
    "After the third consecutive invalid input (blank input), the function will return the default value 'hello' as specified by the default parameter."
   ]
  },
  {
   "cell_type": "code",
   "execution_count": 16,
   "id": "14feaf23",
   "metadata": {},
   "outputs": [
    {
     "name": "stdout",
     "output_type": "stream",
     "text": [
      "Enter something (3 attempts max): \n",
      "Blank values are not allowed.\n",
      "Enter something (3 attempts max): \n",
      "Blank values are not allowed.\n",
      "Enter something (3 attempts max): \n",
      "Blank values are not allowed.\n",
      "You entered: hello\n"
     ]
    }
   ],
   "source": [
    "import pyinputplus as pyip\n",
    "\n",
    "user_input = pyip.inputStr(prompt=\"Enter something (3 attempts max): \", limit=3, default='hello')\n",
    "print(\"You entered:\", user_input)\n"
   ]
  },
  {
   "cell_type": "code",
   "execution_count": null,
   "id": "90df3b54",
   "metadata": {},
   "outputs": [],
   "source": []
  }
 ],
 "metadata": {
  "kernelspec": {
   "display_name": "Python 3 (ipykernel)",
   "language": "python",
   "name": "python3"
  },
  "language_info": {
   "codemirror_mode": {
    "name": "ipython",
    "version": 3
   },
   "file_extension": ".py",
   "mimetype": "text/x-python",
   "name": "python",
   "nbconvert_exporter": "python",
   "pygments_lexer": "ipython3",
   "version": "3.10.9"
  }
 },
 "nbformat": 4,
 "nbformat_minor": 5
}
