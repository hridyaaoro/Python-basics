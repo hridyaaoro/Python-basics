{
 "cells": [
  {
   "cell_type": "markdown",
   "id": "fb397324",
   "metadata": {},
   "source": [
    "# 1. In what modes should the PdfFileReader() and PdfFileWriter() File objects will be opened?"
   ]
  },
  {
   "cell_type": "markdown",
   "id": "82f747b6",
   "metadata": {},
   "source": [
    "In PyPDF2, the PdfFileReader() and PdfFileWriter() objects do not require you to explicitly open files with modes as you would with regular file operations in Python. Instead, these objects work with file-like objects, and you pass the file object directly to them. The file objects are opened in the appropriate mode internally.\n",
    "\n",
    "Here's how you typically work with PdfFileReader() and PdfFileWriter() objects:\n",
    "\n",
    "1)PdfFileReader():\n",
    "\n",
    "To read data from an existing PDF file, you create a PdfFileReader object like this:"
   ]
  },
  {
   "cell_type": "code",
   "execution_count": null,
   "id": "0109c96f",
   "metadata": {},
   "outputs": [],
   "source": [
    "from PyPDF2 import PdfFileReader\n",
    "\n",
    "with open('example.pdf', 'rb') as pdf_file:\n",
    "    pdf_reader = PdfFileReader(pdf_file)\n"
   ]
  },
  {
   "cell_type": "markdown",
   "id": "75f0114b",
   "metadata": {},
   "source": [
    "In this example, you use the open() function to open the PDF file 'example.pdf' in binary read mode ('rb'). Then, you pass the file object pdf_file to the PdfFileReader constructor. PyPDF2 internally handles the file opening and reading.\n",
    "\n",
    "2)PdfFileWriter():\n",
    "\n",
    "To write data to a PDF file or create a new PDF, you create a PdfFileWriter object like this:"
   ]
  },
  {
   "cell_type": "code",
   "execution_count": null,
   "id": "b406c578",
   "metadata": {},
   "outputs": [],
   "source": [
    "from PyPDF2 import PdfFileWriter\n",
    "\n",
    "pdf_writer = PdfFileWriter()\n"
   ]
  },
  {
   "cell_type": "markdown",
   "id": "8bbbaac3",
   "metadata": {},
   "source": [
    "Here  no need to specify a file mode when creating a PdfFileWriter object because it's used to create a new PDF or prepare a modified version of an existing PDF. To save the PDF data to a file, you later use the PdfFileWriter's write() method to write the content to a file, specifying the file mode at that time.\n",
    "\n",
    "In both cases, you should still ensure that you close the file objects properly, as shown in the with statement for PdfFileReader or using the close() method for the file object after you're done working with them. This ensures that system resources are released appropriately.\n",
    "\n",
    "So, to summarize, you don't explicitly specify file modes (like 'rb' or 'wb') when creating PdfFileReader and PdfFileWriter objects in PyPDF2; you provide file objects that are already opened in the appropriate mode."
   ]
  },
  {
   "cell_type": "markdown",
   "id": "2d6bd746",
   "metadata": {},
   "source": [
    "# 2. From a PdfFileReader object, how do you get a Page object for page 5?"
   ]
  },
  {
   "cell_type": "markdown",
   "id": "6ead06cc",
   "metadata": {},
   "source": [
    "To get a Page object for page 5 from a PdfFileReader object in PyPDF2, you can use the getPage() method and specify the page index as follows:"
   ]
  },
  {
   "cell_type": "code",
   "execution_count": null,
   "id": "9ccdc900",
   "metadata": {},
   "outputs": [],
   "source": [
    "from PyPDF2 import PdfFileReader\n",
    "\n",
    "# Open the PDF file\n",
    "with open('example.pdf', 'rb') as pdf_file:\n",
    "    pdf_reader = PdfFileReader(pdf_file)\n",
    "\n",
    "    # Get a Page object for page 5 (page numbering starts from 0)\n",
    "    page_number = 4  # Page 5 corresponds to index 4\n",
    "    page = pdf_reader.getPage(page_number)\n"
   ]
  },
  {
   "cell_type": "markdown",
   "id": "46ef8606",
   "metadata": {},
   "source": [
    "In PyPDF2, page numbering starts from 0, so page 5 corresponds to index 4. You can use the getPage() method to retrieve the Page object for the desired page by specifying its index in the PDF document."
   ]
  },
  {
   "cell_type": "markdown",
   "id": "9d12966c",
   "metadata": {},
   "source": [
    "# 3. What PdfFileReader variable stores the number of pages in the PDF document?"
   ]
  },
  {
   "cell_type": "markdown",
   "id": "4a1ff080",
   "metadata": {},
   "source": [
    "The number of pages in a PDF document as read by a PdfFileReader object in PyPDF2 is stored in the numPages attribute of the PdfFileReader object. You can access it as follows:"
   ]
  },
  {
   "cell_type": "code",
   "execution_count": null,
   "id": "9d071fb9",
   "metadata": {},
   "outputs": [],
   "source": [
    "from PyPDF2 import PdfFileReader\n",
    "\n",
    "# Open the PDF file\n",
    "with open('example.pdf', 'rb') as pdf_file:\n",
    "    pdf_reader = PdfFileReader(pdf_file)\n",
    "\n",
    "    # Get the number of pages in the PDF document\n",
    "    num_pages = pdf_reader.numPages\n",
    "\n",
    "print(f'The PDF document has {num_pages} pages.')\n"
   ]
  },
  {
   "cell_type": "markdown",
   "id": "c3d4e285",
   "metadata": {},
   "source": [
    "In this code snippet, num_pages will contain the total number of pages in the PDF document."
   ]
  },
  {
   "cell_type": "markdown",
   "id": "2a3559e7",
   "metadata": {},
   "source": [
    "# 4. If a PdfFileReader object’s PDF is encrypted with the password swordfish, what must you do before you can obtain Page objects from it?"
   ]
  },
  {
   "cell_type": "markdown",
   "id": "8755fba7",
   "metadata": {},
   "source": [
    "If a PdfFileReader object's PDF is encrypted with the password \"swordfish,\" you must set the password on the PdfFileReader object before you can obtain Page objects from it. You can do this using the decrypt() method of the PdfFileReader object.\n",
    "\n",
    "Here's how you can set the password and decrypt the PDF:"
   ]
  },
  {
   "cell_type": "code",
   "execution_count": null,
   "id": "68dabe8e",
   "metadata": {},
   "outputs": [],
   "source": [
    "from PyPDF2 import PdfFileReader\n",
    "\n",
    "# Open the encrypted PDF file\n",
    "with open('encrypted.pdf', 'rb') as pdf_file:\n",
    "    pdf_reader = PdfFileReader(pdf_file)\n",
    "\n",
    "    # Set the password\n",
    "    password = 'swordfish'\n",
    "\n",
    "    # Decrypt the PDF with the provided password\n",
    "    pdf_reader.decrypt(password)\n",
    "\n",
    "    # Now you can obtain Page objects from the decrypted PDF\n",
    "    num_pages = pdf_reader.numPages\n",
    "    page = pdf_reader.getPage(0)  # Get the first page, for example\n"
   ]
  },
  {
   "cell_type": "markdown",
   "id": "899cc1ba",
   "metadata": {},
   "source": [
    "In this code snippet:\n",
    "\n",
    "You open the encrypted PDF file using the open() function in binary read mode ('rb').\n",
    "\n",
    "You create a PdfFileReader object, pdf_reader, using the opened file.\n",
    "\n",
    "You set the password variable to 'swordfish', which is the password required to decrypt the PDF.\n",
    "\n",
    "You use the decrypt() method on the pdf_reader object, passing the password as an argument. This step decrypts the PDF with the provided password.\n",
    "\n",
    "After decryption, you can obtain Page objects or perform other operations on the PDF as needed.\n",
    "\n",
    "You need to make sure to replace 'encrypted.pdf' with the actual path to your encrypted PDF file and 'swordfish' with the correct password for your PDF document."
   ]
  },
  {
   "cell_type": "markdown",
   "id": "1fec6742",
   "metadata": {},
   "source": [
    "# 5. What methods do you use to rotate a page?"
   ]
  },
  {
   "cell_type": "markdown",
   "id": "1359adce",
   "metadata": {},
   "source": [
    "To rotate a page in PyPDF2, you can use the rotateClockwise() or rotateCounterClockwise() methods of a Page object. These methods allow you to rotate the page by 90 degrees clockwise or counterclockwise, respectively. Here's how you can use these methods:"
   ]
  },
  {
   "cell_type": "code",
   "execution_count": null,
   "id": "67c01df4",
   "metadata": {},
   "outputs": [],
   "source": [
    "1)Rotate Clockwise (90 degrees):"
   ]
  },
  {
   "cell_type": "code",
   "execution_count": null,
   "id": "287e0848",
   "metadata": {},
   "outputs": [],
   "source": [
    "from PyPDF2 import PdfFileReader, PdfFileWriter\n",
    "\n",
    "# Open the PDF file\n",
    "with open('example.pdf', 'rb') as pdf_file:\n",
    "    pdf_reader = PdfFileReader(pdf_file)\n",
    "    pdf_writer = PdfFileWriter()\n",
    "\n",
    "    # Rotate page 0 (the first page) 90 degrees clockwise\n",
    "    page = pdf_reader.getPage(0)\n",
    "    page.rotateClockwise(90)\n",
    "\n",
    "    # Add the rotated page to the new PDF\n",
    "    pdf_writer.addPage(page)\n",
    "\n",
    "    # Save the new PDF with the rotated page\n",
    "    with open('output.pdf', 'wb') as output_file:\n",
    "        pdf_writer.write(output_file)\n"
   ]
  },
  {
   "cell_type": "code",
   "execution_count": null,
   "id": "70793b64",
   "metadata": {},
   "outputs": [],
   "source": [
    "2)Rotate Counterclockwise (90 degrees):"
   ]
  },
  {
   "cell_type": "code",
   "execution_count": null,
   "id": "799350f1",
   "metadata": {},
   "outputs": [],
   "source": [
    "from PyPDF2 import PdfFileReader, PdfFileWriter\n",
    "\n",
    "# Open the PDF file\n",
    "with open('example.pdf', 'rb') as pdf_file:\n",
    "    pdf_reader = PdfFileReader(pdf_file)\n",
    "    pdf_writer = PdfFileWriter()\n",
    "\n",
    "    # Rotate page 0 (the first page) 90 degrees counterclockwise\n",
    "    page = pdf_reader.getPage(0)\n",
    "    page.rotateCounterClockwise(90)\n",
    "\n",
    "    # Add the rotated page to the new PDF\n",
    "    pdf_writer.addPage(page)\n",
    "\n",
    "    # Save the new PDF with the rotated page\n",
    "    with open('output.pdf', 'wb') as output_file:\n",
    "        pdf_writer.write(output_file)\n"
   ]
  },
  {
   "cell_type": "markdown",
   "id": "b619c3b8",
   "metadata": {},
   "source": [
    "In these examples, we open an existing PDF file, rotate the first page 90 degrees either clockwise or counterclockwise using the rotateClockwise() or rotateCounterClockwise() method, and then save the modified PDF to a new file."
   ]
  },
  {
   "cell_type": "markdown",
   "id": "987c9021",
   "metadata": {},
   "source": [
    "# 6. What is the difference between a Run object and a Paragraph object?"
   ]
  },
  {
   "cell_type": "markdown",
   "id": "4de49d46",
   "metadata": {},
   "source": [
    "In the context of working with documents in libraries like Python's python-docx (used for working with Microsoft Word .docx files), a Run object and a Paragraph object represent different elements within a document. Here's the key difference between them:"
   ]
  },
  {
   "cell_type": "markdown",
   "id": "33d44b32",
   "metadata": {},
   "source": [
    "1)Paragraph Object:\n",
    "\n",
    "A Paragraph object represents a single paragraph of text within a document. In a Word document, paragraphs are typically separated by line breaks or paragraph breaks.\n",
    "It contains all the text and formatting elements within that paragraph, such as font style, size, alignment, and indentation.\n",
    "You can think of a Paragraph object as a container for a block of text.\n",
    "\n",
    "2)Run Object:\n",
    "\n",
    "A Run object, on the other hand, represents a contiguous run of text within a paragraph. It is a subset of the text within a paragraph that has consistent formatting.\n",
    "Runs are used to apply specific formatting to portions of text within a paragraph. For example, if a paragraph contains both regular text and bold text, each of these segments would be represented by separate Run objects.\n",
    "You can apply character-level formatting to text within a Run, such as changing the font color, making it bold or italic, and more.\n",
    "\n",
    "In summary, a Paragraph object represents an entire paragraph of text, while a Run object represents a portion of text within that paragraph with consistent formatting. Using Runs allows you to apply different formatting styles to different parts of a paragraph. This distinction is particularly useful when you need to work with formatted text within a document, such as changing the style or content of specific text segments."
   ]
  },
  {
   "cell_type": "markdown",
   "id": "e84ef8f6",
   "metadata": {},
   "source": [
    "# 7. How do you obtain a list of Paragraph objects for a Document object that’s stored in a variable named doc?"
   ]
  },
  {
   "cell_type": "markdown",
   "id": "afcf917e",
   "metadata": {},
   "source": [
    "To obtain a list of Paragraph objects for a Document object stored in a variable named doc using the python-docx library in Python, you can access the paragraphs attribute of the Document object. "
   ]
  },
  {
   "cell_type": "code",
   "execution_count": null,
   "id": "f8f0c6f2",
   "metadata": {},
   "outputs": [],
   "source": [
    "from docx import Document\n",
    "\n",
    "# Load the document from a file (replace 'document.docx' with your file)\n",
    "doc = Document('document.docx')\n",
    "\n",
    "# Access the list of Paragraph objects\n",
    "paragraphs = doc.paragraphs\n",
    "\n",
    "# Iterate through the paragraphs\n",
    "for paragraph in paragraphs:\n",
    "    print(paragraph.text)\n"
   ]
  },
  {
   "cell_type": "markdown",
   "id": "da2a86dd",
   "metadata": {},
   "source": [
    "You first load the document from a file using the Document('document.docx') constructor, replacing 'document.docx' with the path to your document file.\n",
    "\n",
    "You access the list of Paragraph objects by using the paragraphs attribute of the Document object, storing it in the paragraphs variable.\n",
    "\n",
    "You can then iterate through the paragraphs list to access and work with individual Paragraph objects.\n",
    "\n",
    "The paragraphs attribute provides a list of all the paragraphs in the document, allowing you to access and manipulate their content and formatting as needed."
   ]
  },
  {
   "cell_type": "markdown",
   "id": "2a5dfdf3",
   "metadata": {},
   "source": [
    "# 8. What type of object has bold, underline, italic, strike, and outline variables?"
   ]
  },
  {
   "cell_type": "markdown",
   "id": "6b351128",
   "metadata": {},
   "source": [
    "In the python-docx library, which is used for working with Microsoft Word .docx files, the object that has the bold, underline, italic, strike, and outline variables is a Run object.\n",
    "\n",
    "A Run object represents a contiguous run of text within a paragraph and allows you to apply character-level formatting to that text. These variables (bold, underline, italic, strike, and outline) are used to control various formatting aspects of the text within the Run. Here's how you can work with these formatting properties:\n",
    "\n",
    "bold: A boolean variable that controls whether the text within the Run is bold. You can set it to True or False to apply or remove bold formatting.\n",
    "\n",
    "underline: A boolean variable that controls whether the text within the Run is underlined. You can set it to True or False to apply or remove underline formatting.\n",
    "\n",
    "italic: A boolean variable that controls whether the text within the Run is italicized. You can set it to True or False to apply or remove italic formatting.\n",
    "\n",
    "strike: A boolean variable that controls whether the text within the Run has a strikethrough line. You can set it to True or False to apply or remove strikethrough formatting.\n",
    "\n",
    "outline: A boolean variable that controls whether the text within the Run is outlined. You can set it to True or False to apply or remove outline formatting.\n",
    "\n",
    "Here's an example of how you can use these formatting properties with a Run object:"
   ]
  },
  {
   "cell_type": "code",
   "execution_count": null,
   "id": "4150449c",
   "metadata": {},
   "outputs": [],
   "source": [
    "from docx import Document\n",
    "from docx.shared import Pt  # for font size\n",
    "\n",
    "# Create a new Document\n",
    "doc = Document()\n",
    "paragraph = doc.add_paragraph()\n",
    "\n",
    "# Create a Run object and set formatting properties\n",
    "run = paragraph.add_run(\"Formatted Text\")\n",
    "run.bold = True\n",
    "run.underline = True\n",
    "run.italic = True\n",
    "run.strike = True\n",
    "run.font.size = Pt(16)  # set font size to 16 points\n",
    "\n",
    "# Save the document\n",
    "doc.save('formatted_document.docx')\n"
   ]
  },
  {
   "cell_type": "markdown",
   "id": "cb1a18ee",
   "metadata": {},
   "source": [
    "In this example, we create a Run object within a paragraph and set various formatting properties like bold, underline, italic, strike, and font.size to format the text within the Run.\n",
    "\n",
    "\n",
    "\n",
    "\n",
    "\n"
   ]
  },
  {
   "cell_type": "markdown",
   "id": "890606ee",
   "metadata": {},
   "source": [
    "# 9. What is the difference between False, True, and None for the bold variable?"
   ]
  },
  {
   "cell_type": "markdown",
   "id": "aeac1ca3",
   "metadata": {},
   "source": [
    "In the context of the python-docx library, the bold variable for a Run object can take three different values: None, False, and True, each with a different meaning for text formatting:\n",
    "\n",
    "1)None:\n",
    "\n",
    "When bold is set to None, it means that the text's bold formatting is not explicitly set in the Run object. In this case, the text will inherit the bold formatting from the surrounding paragraph or style. If the paragraph or style specifies that the text should be bold, it will appear as bold. If not, it won't be bold.\n",
    "\n",
    "2)False:\n",
    "\n",
    "When bold is set to False, it explicitly turns off the bold formatting for the text within the Run. Regardless of the surrounding paragraph or style settings, the text will not be bold.\n",
    "\n",
    "3)True:\n",
    "\n",
    "When bold is set to True, it explicitly applies bold formatting to the text within the Run. Regardless of the surrounding paragraph or style settings, the text will appear as bold.\n",
    "\n",
    "Here's an example to illustrate the usage:"
   ]
  },
  {
   "cell_type": "code",
   "execution_count": null,
   "id": "5a495ea1",
   "metadata": {},
   "outputs": [],
   "source": [
    "from docx import Document\n",
    "\n",
    "doc = Document()\n",
    "paragraph = doc.add_paragraph()\n",
    "\n",
    "# Create a Run object with different values for 'bold'\n",
    "run1 = paragraph.add_run(\"Inherited Bold Text\")  # 'bold' set to None\n",
    "run2 = paragraph.add_run(\"Not Bold Text\")  # 'bold' set to False\n",
    "run3 = paragraph.add_run(\"Explicitly Bold Text\")  # 'bold' set to True\n",
    "\n",
    "# Save the document\n",
    "doc.save('bold_text_example.docx')\n"
   ]
  },
  {
   "cell_type": "markdown",
   "id": "347a2d35",
   "metadata": {},
   "source": [
    "In this example:\n",
    "\n",
    "run1 inherits the bold formatting from the surrounding paragraph or style.                                          \n",
    "run2 explicitly turns off bold formatting.                                                                  \n",
    "run3 explicitly applies bold formatting to the text.                                           \n",
    "You can use these values to control the bold formatting of text within a Run according to your specific formatting requirements."
   ]
  },
  {
   "cell_type": "markdown",
   "id": "372e129d",
   "metadata": {},
   "source": [
    "# 10. How do you create a Document object for a new Word document?"
   ]
  },
  {
   "cell_type": "markdown",
   "id": "f88072c5",
   "metadata": {},
   "source": [
    "To create a Document object for a new Word document using the python-docx library in Python, you can follow these steps:\n",
    "\n",
    "Import the Document class from the docx module.\n",
    "Create an instance of the Document class to represent your new Word document.\n",
    "\n",
    "Here's the code to create a Document object for a new Word document:"
   ]
  },
  {
   "cell_type": "code",
   "execution_count": null,
   "id": "148e8591",
   "metadata": {},
   "outputs": [],
   "source": [
    "from docx import Document\n",
    "\n",
    "# Create a new Document object\n",
    "doc = Document()\n",
    "\n",
    "# Add content to the document (optional)\n",
    "# For example, you can add paragraphs, tables, and more here\n",
    "\n",
    "# Save the document to a file\n",
    "doc.save('new_document.docx')\n"
   ]
  },
  {
   "cell_type": "markdown",
   "id": "5cb261dc",
   "metadata": {},
   "source": [
    "We import the Document class from the docx module.                                           \n",
    "We create a new Document object using doc = Document(). This creates an empty Word document in memory.\n",
    "\n",
    "You can then add content to the document as needed, such as paragraphs, tables, headers, and more. Finally, you can save the document to a file using the save() method, providing the desired filename with the \".docx\" extension.\n",
    "\n",
    "This code will create a new, empty Word document that you can further populate with text, formatting, and other elements using the features provided by the python-docx library."
   ]
  },
  {
   "cell_type": "markdown",
   "id": "82509dc6",
   "metadata": {},
   "source": [
    "# 11. How do you add a paragraph with the text &#39;Hello, there!&#39; to a Document object stored in a variable named doc?"
   ]
  },
  {
   "cell_type": "markdown",
   "id": "f04b57f0",
   "metadata": {},
   "source": [
    "To add a paragraph with the text 'Hello, there!' to a Document object stored in a variable named doc using the python-docx library, you can follow these steps:                                    \n",
    "\n",
    "Import the Document class from the docx module.\n",
    "\n",
    "Create an instance of the Document class to represent your document. \n",
    "\n",
    "Use the add_paragraph() method to add a new paragraph to the document.\n",
    "\n",
    "Set the text content of the paragraph.\n",
    "\n",
    "Here's the code to add the paragraph to the Document object:"
   ]
  },
  {
   "cell_type": "code",
   "execution_count": null,
   "id": "a52effc1",
   "metadata": {},
   "outputs": [],
   "source": [
    "from docx import Document\n",
    "\n",
    "# Create a new Document object\n",
    "doc = Document()\n",
    "\n",
    "# Add a paragraph with the text 'Hello, there!'\n",
    "paragraph = doc.add_paragraph('Hello, there!')\n",
    "\n",
    "# Save the document to a file (optional)\n",
    "doc.save('new_document.docx')\n"
   ]
  },
  {
   "cell_type": "markdown",
   "id": "4c6660c0",
   "metadata": {},
   "source": [
    "    We import the Document class from the docx module.                                  \n",
    "    We create a new Document object using doc = Document(), representing an empty Word document.\n",
    "    We add a new paragraph to the document using doc.add_paragraph(). This method returns a Paragraph object, which we store in the paragraph variable.\n",
    "    We set the text content of the paragraph by passing 'Hello, there!' as an argument to add_paragraph().\n",
    "    If you wish to save the document to a file, you can use the save() method, as shown in the code. This code will create a Word document with the specified paragraph content."
   ]
  },
  {
   "cell_type": "markdown",
   "id": "748a9420",
   "metadata": {},
   "source": [
    "# 12. What integers represent the levels of headings available in Word documents?"
   ]
  },
  {
   "cell_type": "markdown",
   "id": "72ecae48",
   "metadata": {},
   "source": [
    "    In Microsoft Word documents, headings are organized into different levels, and each level is typically associated with a unique integer value. The integer values that represent the levels of headings available in Word documents typically range from 1 to 9. Here's how these integer values correspond to heading levels:\n",
    "\n",
    "    Heading 1: Integer value usually associated with \"1.\"\n",
    "    Heading 2: Integer value usually associated with \"2.\"\n",
    "    Heading 3: Integer value usually associated with \"3.\"\n",
    "    Heading 4: Integer value usually associated with \"4.\"\n",
    "    Heading 5: Integer value usually associated with \"5.\"\n",
    "    Heading 6: Integer value usually associated with \"6.\"\n",
    "    Heading 7: Integer value usually associated with \"7.\"\n",
    "    Heading 8: Integer value usually associated with \"8.\"\n",
    "    Heading 9: Integer value usually associated with \"9.\"\n",
    "    \n",
    "    These heading levels are used to structure the content in Word documents, making it easier to create a hierarchical and organized document. For example, \"Heading 1\" is often used for main sections or chapters, \"Heading 2\" for subsections within those chapters, and so on. The choice of heading levels and their formatting may vary depending on the document's style and formatting guidelines.\n",
    "\n",
    "\n",
    "\n",
    "\n",
    "\n"
   ]
  },
  {
   "cell_type": "code",
   "execution_count": null,
   "id": "b0499ddb",
   "metadata": {},
   "outputs": [],
   "source": []
  }
 ],
 "metadata": {
  "kernelspec": {
   "display_name": "Python 3 (ipykernel)",
   "language": "python",
   "name": "python3"
  },
  "language_info": {
   "codemirror_mode": {
    "name": "ipython",
    "version": 3
   },
   "file_extension": ".py",
   "mimetype": "text/x-python",
   "name": "python",
   "nbconvert_exporter": "python",
   "pygments_lexer": "ipython3",
   "version": "3.10.9"
  }
 },
 "nbformat": 4,
 "nbformat_minor": 5
}
