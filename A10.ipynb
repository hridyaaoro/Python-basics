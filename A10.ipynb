{
 "cells": [
  {
   "cell_type": "markdown",
   "id": "74ff0642",
   "metadata": {},
   "source": [
    "# 1. How do you distinguish between shutil.copy() and shutil.copytree()?"
   ]
  },
  {
   "cell_type": "markdown",
   "id": "e32f3172",
   "metadata": {},
   "source": [
    "shutil.copy() and shutil.copytree() are two functions provided by the Python shutil module for file and directory copying operations. Here's how you can distinguish between them:\n",
    "\n",
    "1)shutil.copy(src, dst):\n",
    "\n",
    "Purpose: This function is used to copy a single file from the source (src) to the destination (dst).\n",
    "\n",
    "Parameters:\n",
    "\n",
    "src: The path to the source file (including the filename).                               \n",
    "dst: The path to the destination directory or the destination file name (including the filename).\n",
    "\n",
    "Behavior: It copies the source file to the destination directory or file. If dst points to a directory, the source file will be copied into that directory with the same filename. If dst specifies a full path including a filename, the source file will be copied to that exact location with the specified filename."
   ]
  },
  {
   "cell_type": "code",
   "execution_count": null,
   "id": "5dac1962",
   "metadata": {},
   "outputs": [],
   "source": [
    "import shutil\n",
    "\n",
    "src_file = 'source_file.txt'\n",
    "dst_dir = 'destination_directory'\n",
    "shutil.copy(src_file, dst_dir)\n"
   ]
  },
  {
   "cell_type": "markdown",
   "id": "07d3a2ba",
   "metadata": {},
   "source": [
    "2)shutil.copytree(src, dst, symlinks=False, ignore=None, copy_function=copy2, ignore_dangling_symlinks=False):\n",
    "\n",
    "Purpose: This function is used to copy an entire directory and its contents from the source (src) to the destination (dst).\n",
    "\n",
    "Parameters:\n",
    "\n",
    "src: The path to the source directory.                      \n",
    "dst: The path to the destination directory where the entire source directory and its contents should be copied.\n",
    "\n",
    "Behavior: It recursively copies the source directory and all its subdirectories and files to the destination directory. If the destination directory does not exist, it will be created. The symlinks, ignore, copy_function, and ignore_dangling_symlinks parameters provide additional control over the copying process."
   ]
  },
  {
   "cell_type": "code",
   "execution_count": null,
   "id": "34ee6618",
   "metadata": {},
   "outputs": [],
   "source": [
    "import shutil\n",
    "\n",
    "src_dir = 'source_directory'\n",
    "dst_dir = 'destination_directory'\n",
    "shutil.copytree(src_dir, dst_dir)\n"
   ]
  },
  {
   "cell_type": "markdown",
   "id": "2ba42f21",
   "metadata": {},
   "source": [
    "In summary, shutil.copy() is for copying individual files, while shutil.copytree() is for copying entire directories and their contents. The choice between them depends on whether you want to copy a single file or a directory with all its files and subdirectories."
   ]
  },
  {
   "cell_type": "markdown",
   "id": "14ef11a5",
   "metadata": {},
   "source": [
    "# 2. What function is used to rename files??"
   ]
  },
  {
   "cell_type": "markdown",
   "id": "34d21dd7",
   "metadata": {},
   "source": [
    "To rename files in Python, you can use the os.rename() function, which is part of the os module."
   ]
  },
  {
   "cell_type": "code",
   "execution_count": null,
   "id": "d2100125",
   "metadata": {},
   "outputs": [],
   "source": [
    "#EXAMPLE\n",
    "import os\n",
    "\n",
    "# Define the current and new file names\n",
    "current_file_name = 'old_file.txt'\n",
    "new_file_name = 'new_file.txt'\n",
    "\n",
    "# Rename the file\n",
    "os.rename(current_file_name, new_file_name)\n"
   ]
  },
  {
   "cell_type": "markdown",
   "id": "60a61ab8",
   "metadata": {},
   "source": [
    "In this example, current_file_name represents the current name of the file you want to rename, and new_file_name represents the new name you want to give to the file. The os.rename() function will rename the file from current_file_name to new_file_name in the same directory."
   ]
  },
  {
   "cell_type": "markdown",
   "id": "2816fa2a",
   "metadata": {},
   "source": [
    "# 3. What is the difference between the delete functions in the send2trash and shutil modules?"
   ]
  },
  {
   "cell_type": "markdown",
   "id": "6092469b",
   "metadata": {},
   "source": [
    "The send2trash and shutil modules both provide functions for deleting files and directories in Python, but they have some key differences:\n",
    "\n",
    "1)send2trash Module:                             \n",
    "\n",
    "Purpose: The send2trash module is primarily used for moving files and directories to the system's trash or recycle bin instead of permanently deleting them. It is a safer alternative to the shutil.rmtree() function in that it provides a way to recover deleted files if needed.\n",
    "\n",
    "Function: The primary function in send2trash is send2trash().\n",
    "\n",
    "Behavior: When you use send2trash(), it sends the specified file or directory to the trash or recycle bin of the operating system, allowing the user to later restore it if necessary.\n",
    "\n",
    "Example:"
   ]
  },
  {
   "cell_type": "code",
   "execution_count": null,
   "id": "3a29c4b0",
   "metadata": {},
   "outputs": [],
   "source": [
    "from send2trash import send2trash\n",
    "\n",
    "file_to_delete = 'file_to_delete.txt'\n",
    "send2trash(file_to_delete)\n"
   ]
  },
  {
   "cell_type": "markdown",
   "id": "42352de3",
   "metadata": {},
   "source": [
    "2)shutil Module:\n",
    "\n",
    "Purpose: The shutil module provides functions for various file operations, including file and directory deletion. When you use shutil, it typically performs a permanent deletion, and the deleted files and directories are not moved to the trash or recycle bin. This can be more dangerous if you want to recover deleted data.\n",
    "\n",
    "Function: The primary function for deleting directories in shutil is shutil.rmtree(), and for files, you can use os.remove() or shutil.rmtree() if you want to delete a directory.\n",
    "\n",
    "Behavior: shutil.rmtree() deletes the specified directory and all its contents permanently. os.remove() deletes a single file. These functions do not move deleted items to the trash or recycle bin."
   ]
  },
  {
   "cell_type": "code",
   "execution_count": null,
   "id": "67e29d5b",
   "metadata": {},
   "outputs": [],
   "source": [
    "import shutil\n",
    "\n",
    "file_to_delete = 'file_to_delete.txt'\n",
    "shutil.rmtree(file_to_delete)  # For directories, use shutil.rmtree()\n"
   ]
  },
  {
   "cell_type": "markdown",
   "id": "479ae0f8",
   "metadata": {},
   "source": [
    "In summary, the main difference between the two modules is that send2trash provides a safer way to delete files and directories by moving them to the trash or recycle bin, allowing for easy recovery, whereas shutil functions are typically used for permanent deletion. The choice between them depends on whether you want to permanently delete files or move them to the trash/recycle bin for potential recovery"
   ]
  },
  {
   "cell_type": "markdown",
   "id": "aff71eb7",
   "metadata": {},
   "source": [
    "# 4.ZipFile objects have a close() method just like File objects’ close() method. What ZipFile method is equivalent to File objects’ open() method?"
   ]
  },
  {
   "cell_type": "markdown",
   "id": "2b370551",
   "metadata": {},
   "source": [
    "The equivalent method in the zipfile module to the open() method for File objects is the zipfile.ZipFile() constructor.\n",
    "\n",
    "When you want to work with a ZIP archive, you use the zipfile.ZipFile() constructor to create a ZipFile object, just as you use the open() function to create a file object. Here's how you typically use it:"
   ]
  },
  {
   "cell_type": "code",
   "execution_count": null,
   "id": "49550e35",
   "metadata": {},
   "outputs": [],
   "source": [
    "import zipfile\n",
    "\n",
    "# Open a ZIP file for reading (replace 'archive.zip' with your ZIP file's name)\n",
    "with zipfile.ZipFile('archive.zip', 'r') as zip_file:\n",
    "    # Perform operations on the zip_file object\n",
    "    # ...\n",
    "\n",
    "# The ZipFile object is automatically closed when you exit the 'with' block\n"
   ]
  },
  {
   "cell_type": "markdown",
   "id": "774189af",
   "metadata": {},
   "source": [
    "In this example, 'archive.zip' is the name of the ZIP file you want to work with, and 'r' indicates that you're opening it for reading. You can use 'w' to open it for writing, 'a' to open it for appending, and so on, similar to how you specify modes when opening regular files with open().\n",
    "\n",
    "Once you have created the ZipFile object, you can use its methods to interact with the contents of the ZIP archive."
   ]
  },
  {
   "cell_type": "markdown",
   "id": "7d5fcacc",
   "metadata": {},
   "source": [
    "# 5. Create a programme that searches a folder tree for files with a certain file extension (such as .pdf or .jpg). Copy these files from whatever location they are in to a new folder.\n"
   ]
  },
  {
   "cell_type": "markdown",
   "id": "d6be4da5",
   "metadata": {},
   "source": [
    "You can create a Python program to search for files with a specific file extension (e.g., .pdf or .jpg) within a folder tree and copy them to a new folder using the os and shutil modules. "
   ]
  },
  {
   "cell_type": "code",
   "execution_count": null,
   "id": "a224fea6",
   "metadata": {},
   "outputs": [],
   "source": [
    "import os\n",
    "import shutil\n",
    "\n",
    "# Define the source directory to start searching\n",
    "source_directory = '/path/to/source_folder'\n",
    "\n",
    "# Define the destination directory where matching files will be copied\n",
    "destination_directory = '/path/to/destination_folder'\n",
    "\n",
    "# Define the file extension you want to search for\n",
    "file_extension = '.pdf'  # Change this to the desired extension\n",
    "\n",
    "# Ensure the destination directory exists; create it if not\n",
    "if not os.path.exists(destination_directory):\n",
    "    os.makedirs(destination_directory)\n",
    "\n",
    "# Function to search for files with the specified extension and copy them\n",
    "def copy_files_with_extension(src_dir, dst_dir, ext):\n",
    "    for root, _, files in os.walk(src_dir):\n",
    "        for file in files:\n",
    "            if file.endswith(ext):\n",
    "                src_path = os.path.join(root, file)\n",
    "                dst_path = os.path.join(dst_dir, file)\n",
    "                shutil.copy2(src_path, dst_path)\n",
    "                print(f\"Copying '{src_path}' to '{dst_path}'\")\n",
    "\n",
    "# Call the function to perform the search and copy\n",
    "copy_files_with_extension(source_directory, destination_directory, file_extension)\n",
    "\n",
    "print(\"File copy completed.\")\n"
   ]
  },
  {
   "cell_type": "markdown",
   "id": "e0da229e",
   "metadata": {},
   "source": [
    "Replace /path/to/source_folder and /path/to/destination_folder with the actual paths to your source and destination folders, and set file_extension to the desired file extension (e.g., .pdf, .jpg, etc.). This program will recursively search the source folder and its subdirectories for files with the specified extension and copy them to the destination folder."
   ]
  },
  {
   "cell_type": "code",
   "execution_count": null,
   "id": "a8cad35c",
   "metadata": {},
   "outputs": [],
   "source": []
  },
  {
   "cell_type": "code",
   "execution_count": null,
   "id": "02ed087a",
   "metadata": {},
   "outputs": [],
   "source": []
  },
  {
   "cell_type": "code",
   "execution_count": null,
   "id": "de98c8e8",
   "metadata": {},
   "outputs": [],
   "source": []
  }
 ],
 "metadata": {
  "kernelspec": {
   "display_name": "Python 3 (ipykernel)",
   "language": "python",
   "name": "python3"
  },
  "language_info": {
   "codemirror_mode": {
    "name": "ipython",
    "version": 3
   },
   "file_extension": ".py",
   "mimetype": "text/x-python",
   "name": "python",
   "nbconvert_exporter": "python",
   "pygments_lexer": "ipython3",
   "version": "3.10.9"
  }
 },
 "nbformat": 4,
 "nbformat_minor": 5
}
