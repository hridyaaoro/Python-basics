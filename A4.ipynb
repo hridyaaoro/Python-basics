{
 "cells": [
  {
   "cell_type": "markdown",
   "id": "dbb63dd1",
   "metadata": {},
   "source": [
    "# 1. What exactly is []?"
   ]
  },
  {
   "cell_type": "raw",
   "id": "0357ac1a",
   "metadata": {},
   "source": [
    "In Python, [] represents an empty list. A list is a fundamental data structure in Python that allows you to store a collection of items in an ordered manner. An empty list contains no elements; it is simply a list with zero items."
   ]
  },
  {
   "cell_type": "markdown",
   "id": "835fff5b",
   "metadata": {},
   "source": [
    "empty_list = []\n"
   ]
  },
  {
   "cell_type": "raw",
   "id": "11de38bf",
   "metadata": {},
   "source": [
    "You can also use the list() constructor to create an empty list:"
   ]
  },
  {
   "cell_type": "markdown",
   "id": "38bd78da",
   "metadata": {},
   "source": [
    "empty_list = list()"
   ]
  },
  {
   "cell_type": "markdown",
   "id": "36d923f4",
   "metadata": {},
   "source": [
    "# 2. In a list of values stored in a variable called spam, how would you assign the value 'hello' as the third value? (Assume [2, 4, 6, 8, 10] are in spam.)"
   ]
  },
  {
   "cell_type": "raw",
   "id": "1249c924",
   "metadata": {},
   "source": [
    "To assign the value 'hello' as the third value in the list stored in a variable called spam, you can use the index of the third element, which is 2 (since Python uses zero-based indexing). Here's how you can do it:"
   ]
  },
  {
   "cell_type": "code",
   "execution_count": 1,
   "id": "f35d44c8",
   "metadata": {},
   "outputs": [
    {
     "name": "stdout",
     "output_type": "stream",
     "text": [
      "[2, 4, 'hello', 8, 10]\n"
     ]
    }
   ],
   "source": [
    "spam = [2, 4, 6, 8, 10]\n",
    "\n",
    "# Assign 'hello' as the third value (index 2)\n",
    "spam[2] = 'hello'\n",
    "\n",
    "print(spam)\n"
   ]
  },
  {
   "cell_type": "markdown",
   "id": "347ac98c",
   "metadata": {},
   "source": [
    "# Let's pretend the spam includes the list [a,b,c,d] for the next three queries."
   ]
  },
  {
   "cell_type": "markdown",
   "id": "bf158d82",
   "metadata": {},
   "source": [
    "# 3. What is the value of spam[int(int('3'* 2) / 11)]?"
   ]
  },
  {
   "cell_type": "raw",
   "id": "decdffe1",
   "metadata": {},
   "source": [
    "'3' * 2 evaluates to '33' because the string '3' is repeated twice.\n",
    "int('33') converts the string '33' to an integer 33.\n",
    "33 / 11 performs integer division, resulting in 3, as both 33 and 11 are integers.\n",
    "int(3) simply returns 3."
   ]
  },
  {
   "cell_type": "code",
   "execution_count": 7,
   "id": "c49a71de",
   "metadata": {},
   "outputs": [
    {
     "data": {
      "text/plain": [
       "'d'"
      ]
     },
     "execution_count": 7,
     "metadata": {},
     "output_type": "execute_result"
    }
   ],
   "source": [
    "spam=['a','b','c','d']\n",
    "spam[int(int('3'* 2) / 11)]"
   ]
  },
  {
   "cell_type": "markdown",
   "id": "d0549a89",
   "metadata": {},
   "source": [
    "# 4. What is the value of spam[-1]?"
   ]
  },
  {
   "cell_type": "code",
   "execution_count": 8,
   "id": "155024e0",
   "metadata": {},
   "outputs": [
    {
     "data": {
      "text/plain": [
       "'d'"
      ]
     },
     "execution_count": 8,
     "metadata": {},
     "output_type": "execute_result"
    }
   ],
   "source": [
    "spam[-1]"
   ]
  },
  {
   "cell_type": "raw",
   "id": "6dd1639b",
   "metadata": {},
   "source": [
    "In list spam = ['a', 'b', 'c', 'd'], the expression spam[-1] return index -1"
   ]
  },
  {
   "cell_type": "markdown",
   "id": "561bf209",
   "metadata": {},
   "source": [
    "# 5. What is the value of spam[:2]?"
   ]
  },
  {
   "cell_type": "code",
   "execution_count": 9,
   "id": "44e3eb1c",
   "metadata": {},
   "outputs": [
    {
     "data": {
      "text/plain": [
       "['a', 'b']"
      ]
     },
     "execution_count": 9,
     "metadata": {},
     "output_type": "execute_result"
    }
   ],
   "source": [
    "spam[:2]"
   ]
  },
  {
   "cell_type": "raw",
   "id": "44522b0d",
   "metadata": {},
   "source": [
    "In  list spam = ['a', 'b', 'c', 'd'], the expression spam[:2] returns a sublist that includes all elements from the beginning of the list up to (but not including) the element at index 2."
   ]
  },
  {
   "cell_type": "markdown",
   "id": "ccdcfab6",
   "metadata": {},
   "source": [
    "# Let's pretend bacon has the list [3.14, &#39;cat,&#39; 11, &#39;cat,&#39; True] for the next three questions.\n"
   ]
  },
  {
   "cell_type": "markdown",
   "id": "93174bbf",
   "metadata": {},
   "source": [
    "# 6. What is the value of bacon.index('cat')?"
   ]
  },
  {
   "cell_type": "code",
   "execution_count": 10,
   "id": "06cc7406",
   "metadata": {},
   "outputs": [
    {
     "data": {
      "text/plain": [
       "1"
      ]
     },
     "execution_count": 10,
     "metadata": {},
     "output_type": "execute_result"
    }
   ],
   "source": [
    "bacon = [3.14, 'cat', 11, 'cat', True]\n",
    "bacon.index('cat')"
   ]
  },
  {
   "cell_type": "raw",
   "id": "cb54a228",
   "metadata": {},
   "source": [
    "So, bacon.index('cat') will return the index of the first occurrence of the string 'cat' in the list bacon. In this case, 'cat' appears at index 1."
   ]
  },
  {
   "cell_type": "markdown",
   "id": "261b8754",
   "metadata": {},
   "source": [
    "# 7. How does bacon.append(99) change the look of the list value in bacon?"
   ]
  },
  {
   "cell_type": "code",
   "execution_count": 12,
   "id": "ca69626b",
   "metadata": {},
   "outputs": [
    {
     "data": {
      "text/plain": [
       "[3.14, 'cat', 11, 'cat', True, 99]"
      ]
     },
     "execution_count": 12,
     "metadata": {},
     "output_type": "execute_result"
    }
   ],
   "source": [
    "bacon = [3.14, 'cat', 11, 'cat', True]\n",
    "bacon.append(99)\n",
    "bacon"
   ]
  },
  {
   "cell_type": "raw",
   "id": "cc5a5ed6",
   "metadata": {},
   "source": [
    "the append() method modifies the list in place by adding the element 99 to the end of the list bacon. The list bacon now has the value [3.14, 'cat', 11, 'cat', True, 99]"
   ]
  },
  {
   "cell_type": "markdown",
   "id": "233b4e7c",
   "metadata": {},
   "source": [
    "# 8. How does bacon.remove('cat') change the look of the list in bacon?"
   ]
  },
  {
   "cell_type": "code",
   "execution_count": 13,
   "id": "95e2983c",
   "metadata": {},
   "outputs": [
    {
     "data": {
      "text/plain": [
       "[3.14, 11, 'cat', True]"
      ]
     },
     "execution_count": 13,
     "metadata": {},
     "output_type": "execute_result"
    }
   ],
   "source": [
    "bacon = [3.14, 'cat', 11, 'cat', True]\n",
    "bacon.remove('cat')\n",
    "bacon"
   ]
  },
  {
   "cell_type": "raw",
   "id": "05c27b45",
   "metadata": {},
   "source": [
    " the remove() method modifies the list in place by removing the first occurrence of the string 'cat' from the list bacon. After the removal, the list bacon is updated to [3.14, 11, 'cat', True, 99]. The second occurrence of 'cat' is not removed, as the remove() method only removes the first occurrence encountered while traversing the list from left to right."
   ]
  },
  {
   "cell_type": "markdown",
   "id": "332da32a",
   "metadata": {},
   "source": [
    "# 9. What are the list concatenation and list replication operators?"
   ]
  },
  {
   "cell_type": "raw",
   "id": "7fd26f3b",
   "metadata": {},
   "source": [
    "List Concatenation Operator +:\n",
    "\n",
    "The + operator is used to concatenate two or more lists, creating a new list containing all the elements from the operands. It does not modify the original lists; instead, it creates a new list with the combined elements."
   ]
  },
  {
   "cell_type": "code",
   "execution_count": 14,
   "id": "43cc8be7",
   "metadata": {},
   "outputs": [
    {
     "name": "stdout",
     "output_type": "stream",
     "text": [
      "[1, 2, 3, 4, 5, 6]\n"
     ]
    }
   ],
   "source": [
    "list1 = [1, 2, 3]\n",
    "list2 = [4, 5, 6]\n",
    "concatenated_list = list1 + list2\n",
    "\n",
    "print(concatenated_list)\n",
    " "
   ]
  },
  {
   "cell_type": "raw",
   "id": "aa3cf841",
   "metadata": {},
   "source": [
    "List Replication Operator *:\n",
    "\n",
    "The * operator is used to replicate a list a specified number of times, creating a new list that contains multiple copies of the original list."
   ]
  },
  {
   "cell_type": "code",
   "execution_count": 16,
   "id": "414cb7f8",
   "metadata": {},
   "outputs": [
    {
     "name": "stdout",
     "output_type": "stream",
     "text": [
      "[1, 2, 3, 1, 2, 3, 1, 2, 3]\n"
     ]
    }
   ],
   "source": [
    "original_list = [1, 2, 3]\n",
    "replicated_list = original_list * 3\n",
    "\n",
    "print(replicated_list)\n"
   ]
  },
  {
   "cell_type": "markdown",
   "id": "23123cdc",
   "metadata": {},
   "source": [
    "# 10. What is difference between the list methods append() and insert()?"
   ]
  },
  {
   "cell_type": "raw",
   "id": "504be796",
   "metadata": {},
   "source": [
    "append() Method:\n",
    "The append() method is used to add an element to the end of a list. It takes a single argument, which is the element you want to add, and appends it to the end of the list."
   ]
  },
  {
   "cell_type": "code",
   "execution_count": 18,
   "id": "22f93e18",
   "metadata": {},
   "outputs": [
    {
     "name": "stdout",
     "output_type": "stream",
     "text": [
      "[1, 2, 3, 4]\n"
     ]
    }
   ],
   "source": [
    "my_list = [1, 2, 3]\n",
    "my_list.append(4)\n",
    "\n",
    "print(my_list)\n"
   ]
  },
  {
   "cell_type": "raw",
   "id": "2d4d65cf",
   "metadata": {},
   "source": [
    "insert() Method:\n",
    "The insert() method is used to add an element at a specific index in the list. It takes two arguments: the first argument is the index where you want to insert the element, and the second argument is the element you want to add."
   ]
  },
  {
   "cell_type": "code",
   "execution_count": 19,
   "id": "c919cb5d",
   "metadata": {},
   "outputs": [
    {
     "name": "stdout",
     "output_type": "stream",
     "text": [
      "[1, 5, 2, 3]\n"
     ]
    }
   ],
   "source": [
    "my_list = [1, 2, 3]\n",
    "my_list.insert(1, 5)\n",
    "\n",
    "print(my_list)\n"
   ]
  },
  {
   "cell_type": "markdown",
   "id": "0d24d3e8",
   "metadata": {},
   "source": [
    "# 11. What are the two methods for removing items from a list?"
   ]
  },
  {
   "cell_type": "raw",
   "id": "23402250",
   "metadata": {},
   "source": [
    "remove() method:\n",
    "The remove() method is used to remove the first occurrence of a specified element from the list. It takes the value of the element you want to remove as its argument."
   ]
  },
  {
   "cell_type": "code",
   "execution_count": 20,
   "id": "eb829285",
   "metadata": {},
   "outputs": [
    {
     "name": "stdout",
     "output_type": "stream",
     "text": [
      "[1, 3, 2, 4]\n"
     ]
    }
   ],
   "source": [
    "my_list = [1, 2, 3, 2, 4]\n",
    "my_list.remove(2)\n",
    "\n",
    "print(my_list)\n"
   ]
  },
  {
   "cell_type": "raw",
   "id": "96b10195",
   "metadata": {},
   "source": [
    "pop() method:\n",
    "The pop() method is used to remove an element from the list at a specific index. It takes the index of the element you want to remove as its argument. If no index is provided, it removes and returns the last element of the list."
   ]
  },
  {
   "cell_type": "code",
   "execution_count": 21,
   "id": "52e69e3e",
   "metadata": {},
   "outputs": [
    {
     "name": "stdout",
     "output_type": "stream",
     "text": [
      "2\n",
      "[1, 3, 4]\n"
     ]
    }
   ],
   "source": [
    "my_list = [1, 2, 3, 4]\n",
    "removed_element = my_list.pop(1)\n",
    "\n",
    "print(removed_element)  \n",
    "print(my_list)          "
   ]
  },
  {
   "cell_type": "markdown",
   "id": "ddd48627",
   "metadata": {},
   "source": [
    "# 12. Describe how list values and string values are identical."
   ]
  },
  {
   "cell_type": "raw",
   "id": "e06c11f8",
   "metadata": {},
   "source": [
    "Sequence Type: Both lists and strings are considered sequence types in Python. They maintain an ordered collection of elements.\n",
    "\n",
    "Indexing: Elements in both lists and strings are accessed using indexing. You can retrieve individual elements by specifying their index position. Both use zero-based indexing, meaning the first element is at index 0, the second element at index 1, and so on.\n",
    "\n",
    "Slicing: Both lists and strings support slicing, which allows you to extract a portion of the sequence. Slicing is done using the colon (:) operator."
   ]
  },
  {
   "cell_type": "code",
   "execution_count": 22,
   "id": "e7bc7de9",
   "metadata": {},
   "outputs": [
    {
     "name": "stdout",
     "output_type": "stream",
     "text": [
      "[2, 3, 4]\n",
      "World\n"
     ]
    }
   ],
   "source": [
    "my_list = [1, 2, 3, 4, 5]\n",
    "my_string = \"Hello, World!\"\n",
    "\n",
    "print(my_list[1:4])    \n",
    "print(my_string[7:12])  \n"
   ]
  },
  {
   "cell_type": "raw",
   "id": "8635c868",
   "metadata": {},
   "source": [
    "Iteration: You can iterate over both lists and strings using loops like for or while loops. This allows you to access each element or character one by one.\n",
    "    "
   ]
  },
  {
   "cell_type": "raw",
   "id": "2ec92f4f",
   "metadata": {},
   "source": [
    "Length: The len() function can be used to determine the number of elements in a list or the number of characters in a string."
   ]
  },
  {
   "cell_type": "markdown",
   "id": "e39edd41",
   "metadata": {},
   "source": [
    "# 13. What's the difference between tuples and lists?"
   ]
  },
  {
   "cell_type": "raw",
   "id": "3701b2f2",
   "metadata": {},
   "source": [
    "1  Mutability: Tuples are immutable, while lists are mutable, allowing elements to be modified after creation.\n",
    "2  Syntax: Tuples use parentheses ( ), and lists use square brackets [ ].\n",
    "3  Performance: Tuples are generally faster and more memory-efficient due to their immutability.\n",
    "4  Use cases: Tuples are suitable for fixed data, while lists are preferred for dynamic collections.\n",
    "5  Single element: Tuples require a trailing comma for single elements, lists do not.\n",
    "6  Methods: Lists have more methods for modification, while tuples are limited due to immutability.\n",
    "7  Iteration: Both can be iterated over, but tuples are faster due to immutability.\n",
    "8  Built-in operations: Lists have more built-in operations like sorting and reversing.\n",
    "9  Size: Tuples are generally smaller in memory compared to lists.\n",
    "10 Commonality: Lists are more commonly used than tuples due to their versatility and mutability in various programming scenarios."
   ]
  },
  {
   "cell_type": "markdown",
   "id": "c6a32b30",
   "metadata": {},
   "source": [
    "# 14. How do you type a tuple value that only contains the integer 42?"
   ]
  },
  {
   "cell_type": "raw",
   "id": "549527d6",
   "metadata": {},
   "source": [
    "To create a tuple value that contains only the integer 42, you can use parentheses to define the tuple. Here's how you do it:"
   ]
  },
  {
   "cell_type": "code",
   "execution_count": 25,
   "id": "dd0b60d4",
   "metadata": {},
   "outputs": [],
   "source": [
    "my_tuple = (42)"
   ]
  },
  {
   "cell_type": "markdown",
   "id": "f69f2510",
   "metadata": {},
   "source": [
    "# 15. How do you get a list value's tuple form? How do you get a tuple value's list form?"
   ]
  },
  {
   "cell_type": "raw",
   "id": "a1469ce1",
   "metadata": {},
   "source": [
    "To convert a list to a tuple, you can use the tuple() function. To convert a tuple to a list, you can use the list() function. Here's how you do it:"
   ]
  },
  {
   "cell_type": "code",
   "execution_count": 26,
   "id": "cd3a3a25",
   "metadata": {},
   "outputs": [],
   "source": [
    "my_list = [1, 2, 3, 4, 5]\n",
    "my_tuple = tuple(my_list)\n"
   ]
  },
  {
   "cell_type": "raw",
   "id": "72d18d0b",
   "metadata": {},
   "source": [
    "Converting a tuple to a list:"
   ]
  },
  {
   "cell_type": "code",
   "execution_count": 27,
   "id": "d47f64ef",
   "metadata": {},
   "outputs": [],
   "source": [
    "my_tuple = (10, 20, 30, 40, 50)\n",
    "my_list = list(my_tuple)\n"
   ]
  },
  {
   "cell_type": "markdown",
   "id": "ff72d5a5",
   "metadata": {},
   "source": [
    "# 16. Variables that \"contain\" list values are not necessarily lists themselves. Instead, what do they contain?"
   ]
  },
  {
   "cell_type": "raw",
   "id": "6ca3b402",
   "metadata": {},
   "source": [
    "variables containing list values store pointers to the list's location in memory, rather than the list data itself"
   ]
  },
  {
   "cell_type": "raw",
   "id": "b7dfe4ed",
   "metadata": {},
   "source": [
    "Variables that \"contain\" list values in Python do not store the list's actual data. Instead, they store references or memory addresses pointing to the location where the list is stored in the computer's memory. These references allow Python to access and manipulate the list's elements efficiently."
   ]
  },
  {
   "cell_type": "code",
   "execution_count": null,
   "id": "6683f48e",
   "metadata": {},
   "outputs": [],
   "source": []
  }
 ],
 "metadata": {
  "kernelspec": {
   "display_name": "Python 3 (ipykernel)",
   "language": "python",
   "name": "python3"
  },
  "language_info": {
   "codemirror_mode": {
    "name": "ipython",
    "version": 3
   },
   "file_extension": ".py",
   "mimetype": "text/x-python",
   "name": "python",
   "nbconvert_exporter": "python",
   "pygments_lexer": "ipython3",
   "version": "3.10.9"
  }
 },
 "nbformat": 4,
 "nbformat_minor": 5
}
