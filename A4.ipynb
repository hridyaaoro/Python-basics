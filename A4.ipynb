{
 "cells": [
  {
   "cell_type": "markdown",
   "id": "d422d1cd",
   "metadata": {},
   "source": [
    "# 1. What exactly is []?"
   ]
  },
  {
   "cell_type": "markdown",
   "id": "604b7c19",
   "metadata": {},
   "source": [
    "In Python, [] represents an empty list. A list is a fundamental data structure in Python that allows you to store a collection of items in an ordered manner. An empty list contains no elements; it is simply a list with zero items."
   ]
  },
  {
   "cell_type": "markdown",
   "id": "125af59f",
   "metadata": {},
   "source": [
    "empty_list = []\n"
   ]
  },
  {
   "cell_type": "markdown",
   "id": "f95af823",
   "metadata": {},
   "source": [
    "You can also use the list() constructor to create an empty list:"
   ]
  },
  {
   "cell_type": "markdown",
   "id": "c2503f02",
   "metadata": {},
   "source": [
    "empty_list = list()"
   ]
  },
  {
   "cell_type": "markdown",
   "id": "907c1f56",
   "metadata": {},
   "source": [
    "# 2. In a list of values stored in a variable called spam, how would you assign the value 'hello' as the third value? (Assume [2, 4, 6, 8, 10] are in spam.)"
   ]
  },
  {
   "cell_type": "markdown",
   "id": "755aa4ae",
   "metadata": {},
   "source": [
    "To assign the value 'hello' as the third value in the list stored in a variable called spam, you can use the index of the third element, which is 2 (since Python uses zero-based indexing). Here's how you can do it:"
   ]
  },
  {
   "cell_type": "code",
   "execution_count": 1,
   "id": "6d8b5de5",
   "metadata": {},
   "outputs": [
    {
     "name": "stdout",
     "output_type": "stream",
     "text": [
      "[2, 4, 'hello', 8, 10]\n"
     ]
    }
   ],
   "source": [
    "spam = [2, 4, 6, 8, 10]\n",
    "\n",
    "# Assign 'hello' as the third value (index 2)\n",
    "spam[2] = 'hello'\n",
    "\n",
    "print(spam)\n"
   ]
  },
  {
   "cell_type": "markdown",
   "id": "5ca6b3b3",
   "metadata": {},
   "source": [
    "# Let's pretend the spam includes the list [a,b,c,d] for the next three queries."
   ]
  },
  {
   "cell_type": "markdown",
   "id": "06c0d62d",
   "metadata": {},
   "source": [
    "# 3. What is the value of spam[int(int('3'* 2) / 11)]?"
   ]
  },
  {
   "cell_type": "markdown",
   "id": "484a1d5d",
   "metadata": {},
   "source": [
    "'3' * 2 evaluates to '33' because the string '3' is repeated twice.\n",
    "\n",
    "int('33') converts the string '33' to an integer 33.\n",
    "\n",
    "33 / 11 performs integer division, resulting in 3, as both 33 and 11 are integers.\n",
    "\n",
    "int(3) simply returns 3."
   ]
  },
  {
   "cell_type": "code",
   "execution_count": 7,
   "id": "8ec3e28c",
   "metadata": {},
   "outputs": [
    {
     "data": {
      "text/plain": [
       "'d'"
      ]
     },
     "execution_count": 7,
     "metadata": {},
     "output_type": "execute_result"
    }
   ],
   "source": [
    "spam=['a','b','c','d']\n",
    "spam[int(int('3'* 2) / 11)]"
   ]
  },
  {
   "cell_type": "markdown",
   "id": "e0663c49",
   "metadata": {},
   "source": [
    "# 4. What is the value of spam[-1]?"
   ]
  },
  {
   "cell_type": "code",
   "execution_count": 8,
   "id": "78f33e59",
   "metadata": {},
   "outputs": [
    {
     "data": {
      "text/plain": [
       "'d'"
      ]
     },
     "execution_count": 8,
     "metadata": {},
     "output_type": "execute_result"
    }
   ],
   "source": [
    "spam[-1]"
   ]
  },
  {
   "cell_type": "markdown",
   "id": "0c78a4f2",
   "metadata": {},
   "source": [
    "In list spam = ['a', 'b', 'c', 'd'], the expression spam[-1] return index -1"
   ]
  },
  {
   "cell_type": "markdown",
   "id": "e32ae823",
   "metadata": {},
   "source": [
    "# 5. What is the value of spam[:2]?"
   ]
  },
  {
   "cell_type": "code",
   "execution_count": 9,
   "id": "abf8f701",
   "metadata": {},
   "outputs": [
    {
     "data": {
      "text/plain": [
       "['a', 'b']"
      ]
     },
     "execution_count": 9,
     "metadata": {},
     "output_type": "execute_result"
    }
   ],
   "source": [
    "spam[:2]"
   ]
  },
  {
   "cell_type": "markdown",
   "id": "a0791905",
   "metadata": {},
   "source": [
    "In  list spam = ['a', 'b', 'c', 'd'], the expression spam[:2] returns a sublist that includes all elements from the beginning of the list up to (but not including) the element at index 2."
   ]
  },
  {
   "cell_type": "markdown",
   "id": "77738ef5",
   "metadata": {},
   "source": [
    "# Let's pretend bacon has the list [3.14, &#39;cat,&#39; 11, &#39;cat,&#39; True] for the next three questions.\n"
   ]
  },
  {
   "cell_type": "markdown",
   "id": "f09f405e",
   "metadata": {},
   "source": [
    "# 6. What is the value of bacon.index('cat')?"
   ]
  },
  {
   "cell_type": "code",
   "execution_count": 10,
   "id": "1472a298",
   "metadata": {},
   "outputs": [
    {
     "data": {
      "text/plain": [
       "1"
      ]
     },
     "execution_count": 10,
     "metadata": {},
     "output_type": "execute_result"
    }
   ],
   "source": [
    "bacon = [3.14, 'cat', 11, 'cat', True]\n",
    "bacon.index('cat')"
   ]
  },
  {
   "cell_type": "markdown",
   "id": "f9dc7ead",
   "metadata": {},
   "source": [
    "So, bacon.index('cat') will return the index of the first occurrence of the string 'cat' in the list bacon. In this case, 'cat' appears at index 1."
   ]
  },
  {
   "cell_type": "markdown",
   "id": "89bf2eb8",
   "metadata": {},
   "source": [
    "# 7. How does bacon.append(99) change the look of the list value in bacon?"
   ]
  },
  {
   "cell_type": "code",
   "execution_count": 12,
   "id": "a4494166",
   "metadata": {},
   "outputs": [
    {
     "data": {
      "text/plain": [
       "[3.14, 'cat', 11, 'cat', True, 99]"
      ]
     },
     "execution_count": 12,
     "metadata": {},
     "output_type": "execute_result"
    }
   ],
   "source": [
    "bacon = [3.14, 'cat', 11, 'cat', True]\n",
    "bacon.append(99)\n",
    "bacon"
   ]
  },
  {
   "cell_type": "markdown",
   "id": "1b86ce15",
   "metadata": {},
   "source": [
    "the append() method modifies the list in place by adding the element 99 to the end of the list bacon. The list bacon now has the value [3.14, 'cat', 11, 'cat', True, 99]"
   ]
  },
  {
   "cell_type": "markdown",
   "id": "578fc697",
   "metadata": {},
   "source": [
    "# 8. How does bacon.remove('cat') change the look of the list in bacon?"
   ]
  },
  {
   "cell_type": "code",
   "execution_count": 13,
   "id": "3c0e0a0d",
   "metadata": {},
   "outputs": [
    {
     "data": {
      "text/plain": [
       "[3.14, 11, 'cat', True]"
      ]
     },
     "execution_count": 13,
     "metadata": {},
     "output_type": "execute_result"
    }
   ],
   "source": [
    "bacon = [3.14, 'cat', 11, 'cat', True]\n",
    "bacon.remove('cat')\n",
    "bacon"
   ]
  },
  {
   "cell_type": "markdown",
   "id": "1d418055",
   "metadata": {},
   "source": [
    " the remove() method modifies the list in place by removing the first occurrence of the string 'cat' from the list bacon. After the removal, the list bacon is updated to [3.14, 11, 'cat', True, 99]. The second occurrence of 'cat' is not removed, as the remove() method only removes the first occurrence encountered while traversing the list from left to right."
   ]
  },
  {
   "cell_type": "markdown",
   "id": "f20cb22b",
   "metadata": {},
   "source": [
    "# 9. What are the list concatenation and list replication operators?"
   ]
  },
  {
   "cell_type": "markdown",
   "id": "a049f5df",
   "metadata": {},
   "source": [
    "List Concatenation Operator +:\n",
    "\n",
    "The + operator is used to concatenate two or more lists, creating a new list containing all the elements from the operands. It does not modify the original lists; instead, it creates a new list with the combined elements."
   ]
  },
  {
   "cell_type": "code",
   "execution_count": 14,
   "id": "e5ad62dd",
   "metadata": {},
   "outputs": [
    {
     "name": "stdout",
     "output_type": "stream",
     "text": [
      "[1, 2, 3, 4, 5, 6]\n"
     ]
    }
   ],
   "source": [
    "list1 = [1, 2, 3]\n",
    "list2 = [4, 5, 6]\n",
    "concatenated_list = list1 + list2\n",
    "\n",
    "print(concatenated_list)\n",
    " "
   ]
  },
  {
   "cell_type": "markdown",
   "id": "2284de18",
   "metadata": {},
   "source": [
    "List Replication Operator *:\n",
    "\n",
    "The * operator is used to replicate a list a specified number of times, creating a new list that contains multiple copies of the original list."
   ]
  },
  {
   "cell_type": "code",
   "execution_count": 16,
   "id": "8ddf4be1",
   "metadata": {},
   "outputs": [
    {
     "name": "stdout",
     "output_type": "stream",
     "text": [
      "[1, 2, 3, 1, 2, 3, 1, 2, 3]\n"
     ]
    }
   ],
   "source": [
    "original_list = [1, 2, 3]\n",
    "replicated_list = original_list * 3\n",
    "\n",
    "print(replicated_list)\n"
   ]
  },
  {
   "cell_type": "markdown",
   "id": "1c632fdf",
   "metadata": {},
   "source": [
    "# 10. What is difference between the list methods append() and insert()?"
   ]
  },
  {
   "cell_type": "markdown",
   "id": "3c5135ae",
   "metadata": {},
   "source": [
    "append() Method:\n",
    "The append() method is used to add an element to the end of a list. It takes a single argument, which is the element you want to add, and appends it to the end of the list."
   ]
  },
  {
   "cell_type": "code",
   "execution_count": 18,
   "id": "82a951be",
   "metadata": {},
   "outputs": [
    {
     "name": "stdout",
     "output_type": "stream",
     "text": [
      "[1, 2, 3, 4]\n"
     ]
    }
   ],
   "source": [
    "my_list = [1, 2, 3]\n",
    "my_list.append(4)\n",
    "\n",
    "print(my_list)\n"
   ]
  },
  {
   "cell_type": "markdown",
   "id": "a921fcc9",
   "metadata": {},
   "source": [
    "insert() Method:\n",
    "The insert() method is used to add an element at a specific index in the list. It takes two arguments: the first argument is the index where you want to insert the element, and the second argument is the element you want to add."
   ]
  },
  {
   "cell_type": "code",
   "execution_count": 19,
   "id": "f93ff576",
   "metadata": {},
   "outputs": [
    {
     "name": "stdout",
     "output_type": "stream",
     "text": [
      "[1, 5, 2, 3]\n"
     ]
    }
   ],
   "source": [
    "my_list = [1, 2, 3]\n",
    "my_list.insert(1, 5)\n",
    "\n",
    "print(my_list)\n"
   ]
  },
  {
   "cell_type": "markdown",
   "id": "52f8ae74",
   "metadata": {},
   "source": [
    "# 11. What are the two methods for removing items from a list?"
   ]
  },
  {
   "cell_type": "markdown",
   "id": "88073613",
   "metadata": {},
   "source": [
    "remove() method:\n",
    "The remove() method is used to remove the first occurrence of a specified element from the list. It takes the value of the element you want to remove as its argument."
   ]
  },
  {
   "cell_type": "code",
   "execution_count": 20,
   "id": "052cfe3a",
   "metadata": {},
   "outputs": [
    {
     "name": "stdout",
     "output_type": "stream",
     "text": [
      "[1, 3, 2, 4]\n"
     ]
    }
   ],
   "source": [
    "my_list = [1, 2, 3, 2, 4]\n",
    "my_list.remove(2)\n",
    "\n",
    "print(my_list)\n"
   ]
  },
  {
   "cell_type": "markdown",
   "id": "96852353",
   "metadata": {},
   "source": [
    "pop() method:\n",
    "The pop() method is used to remove an element from the list at a specific index. It takes the index of the element you want to remove as its argument. If no index is provided, it removes and returns the last element of the list."
   ]
  },
  {
   "cell_type": "code",
   "execution_count": 21,
   "id": "72ec35b9",
   "metadata": {},
   "outputs": [
    {
     "name": "stdout",
     "output_type": "stream",
     "text": [
      "2\n",
      "[1, 3, 4]\n"
     ]
    }
   ],
   "source": [
    "my_list = [1, 2, 3, 4]\n",
    "removed_element = my_list.pop(1)\n",
    "\n",
    "print(removed_element)  \n",
    "print(my_list)          "
   ]
  },
  {
   "cell_type": "markdown",
   "id": "993d5d97",
   "metadata": {},
   "source": [
    "# 12. Describe how list values and string values are identical."
   ]
  },
  {
   "cell_type": "markdown",
   "id": "9148b1ca",
   "metadata": {},
   "source": [
    "Sequence Type: Both lists and strings are considered sequence types in Python. They maintain an ordered collection of elements.\n",
    "\n",
    "Indexing: Elements in both lists and strings are accessed using indexing. You can retrieve individual elements by specifying their index position. Both use zero-based indexing, meaning the first element is at index 0, the second element at index 1, and so on.\n",
    "\n",
    "Slicing: Both lists and strings support slicing, which allows you to extract a portion of the sequence. Slicing is done using the colon (:) operator."
   ]
  },
  {
   "cell_type": "code",
   "execution_count": 22,
   "id": "77bcd7d5",
   "metadata": {},
   "outputs": [
    {
     "name": "stdout",
     "output_type": "stream",
     "text": [
      "[2, 3, 4]\n",
      "World\n"
     ]
    }
   ],
   "source": [
    "my_list = [1, 2, 3, 4, 5]\n",
    "my_string = \"Hello, World!\"\n",
    "\n",
    "print(my_list[1:4])    \n",
    "print(my_string[7:12])  \n"
   ]
  },
  {
   "cell_type": "markdown",
   "id": "dbc10e68",
   "metadata": {},
   "source": [
    "Iteration: You can iterate over both lists and strings using loops like for or while loops. This allows you to access each element or character one by one.\n",
    "    "
   ]
  },
  {
   "cell_type": "markdown",
   "id": "53a64dbc",
   "metadata": {},
   "source": [
    "Length: The len() function can be used to determine the number of elements in a list or the number of characters in a string."
   ]
  },
  {
   "cell_type": "markdown",
   "id": "475cbaa4",
   "metadata": {},
   "source": [
    "# 13. What's the difference between tuples and lists?"
   ]
  },
  {
   "cell_type": "markdown",
   "id": "509b8aa5",
   "metadata": {},
   "source": [
    "1  Mutability: Tuples are immutable, while lists are mutable, allowing elements to be modified after creation.            \n",
    "2  Syntax: Tuples use parentheses ( ), and lists use square brackets [ ].                                 \n",
    "3  Performance: Tuples are generally faster and more memory-efficient due to their immutability.                       \n",
    "4  Use cases: Tuples are suitable for fixed data, while lists are preferred for dynamic collections.                       \n",
    "5  Single element: Tuples require a trailing comma for single elements, lists do not.                            \n",
    "6  Methods: Lists have more methods for modification, while tuples are limited due to immutability.                       \n",
    "7  Iteration: Both can be iterated over, but tuples are faster due to immutability.                          \n",
    "8  Built-in operations: Lists have more built-in operations like sorting and reversing.                       \n",
    "9  Size: Tuples are generally smaller in memory compared to lists.                \n",
    "10 Commonality: Lists are more commonly used than tuples due to their versatility and mutability in various programming scenarios."
   ]
  },
  {
   "cell_type": "markdown",
   "id": "93b242f0",
   "metadata": {},
   "source": [
    "# 14. How do you type a tuple value that only contains the integer 42?"
   ]
  },
  {
   "cell_type": "markdown",
   "id": "9885471f",
   "metadata": {},
   "source": [
    "To create a tuple value that contains only the integer 42, you can use parentheses to define the tuple. Here's how you do it:"
   ]
  },
  {
   "cell_type": "code",
   "execution_count": 25,
   "id": "979c9a41",
   "metadata": {},
   "outputs": [],
   "source": [
    "my_tuple = (42)"
   ]
  },
  {
   "cell_type": "markdown",
   "id": "0a9fc894",
   "metadata": {},
   "source": [
    "# 15. How do you get a list value's tuple form? How do you get a tuple value's list form?"
   ]
  },
  {
   "cell_type": "markdown",
   "id": "2c006a41",
   "metadata": {},
   "source": [
    "To convert a list to a tuple, you can use the tuple() function. To convert a tuple to a list, you can use the list() function. Here's how you do it:"
   ]
  },
  {
   "cell_type": "code",
   "execution_count": 26,
   "id": "b4d6e744",
   "metadata": {},
   "outputs": [],
   "source": [
    "my_list = [1, 2, 3, 4, 5]\n",
    "my_tuple = tuple(my_list)\n"
   ]
  },
  {
   "cell_type": "markdown",
   "id": "faefd21b",
   "metadata": {},
   "source": [
    "Converting a tuple to a list:"
   ]
  },
  {
   "cell_type": "code",
   "execution_count": 27,
   "id": "491c26de",
   "metadata": {},
   "outputs": [],
   "source": [
    "my_tuple = (10, 20, 30, 40, 50)\n",
    "my_list = list(my_tuple)\n"
   ]
  },
  {
   "cell_type": "markdown",
   "id": "d16f0566",
   "metadata": {},
   "source": [
    "# 16. Variables that \"contain\" list values are not necessarily lists themselves. Instead, what do they contain?"
   ]
  },
  {
   "cell_type": "markdown",
   "id": "5d9f438a",
   "metadata": {},
   "source": [
    "variables containing list values store pointers to the list's location in memory, rather than the list data itself"
   ]
  },
  {
   "cell_type": "markdown",
   "id": "69281ddd",
   "metadata": {},
   "source": [
    "Variables that \"contain\" list values in Python do not store the list's actual data. Instead, they store references or memory addresses pointing to the location where the list is stored in the computer's memory. These references allow Python to access and manipulate the list's elements efficiently."
   ]
  },
  {
   "cell_type": "code",
   "execution_count": null,
   "id": "a3a9eaa1",
   "metadata": {},
   "outputs": [],
   "source": []
  }
 ],
 "metadata": {
  "kernelspec": {
   "display_name": "Python 3 (ipykernel)",
   "language": "python",
   "name": "python3"
  },
  "language_info": {
   "codemirror_mode": {
    "name": "ipython",
    "version": 3
   },
   "file_extension": ".py",
   "mimetype": "text/x-python",
   "name": "python",
   "nbconvert_exporter": "python",
   "pygments_lexer": "ipython3",
   "version": "3.10.9"
  }
 },
 "nbformat": 4,
 "nbformat_minor": 5
}
