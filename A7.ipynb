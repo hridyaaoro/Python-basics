{
 "cells": [
  {
   "cell_type": "markdown",
   "id": "a8c91ba1",
   "metadata": {},
   "source": [
    "# 1. What is the name of the feature responsible for generating Regex objects?"
   ]
  },
  {
   "cell_type": "markdown",
   "id": "5e700f2b",
   "metadata": {},
   "source": [
    "In Python, the feature responsible for generating Regex objects (regular expression objects) is the re module. The re module provides support for working with regular expressions, allowing you to create, compile, and use regular expressions to search, match, and manipulate strings."
   ]
  },
  {
   "cell_type": "markdown",
   "id": "2b1c8879",
   "metadata": {},
   "source": [
    "To use regular expressions in Python, you need to import the re module and then use its functions to work with regex patterns and strings. Some commonly used functions from the re module include re.compile(), re.search(), re.match(), re.findall(), and others."
   ]
  },
  {
   "cell_type": "code",
   "execution_count": 24,
   "id": "d9e85bcd",
   "metadata": {},
   "outputs": [
    {
     "name": "stdout",
     "output_type": "stream",
     "text": [
      "['90', '476']\n"
     ]
    }
   ],
   "source": [
    "#example\n",
    "import re\n",
    "\n",
    "# Regular expression pattern to match one or more digits\n",
    "pattern = r'\\d+'\n",
    "\n",
    "# Sample string\n",
    "text = \"There are 90 apples and 476 oranges.\"\n",
    "\n",
    "# Using re.findall() to find all occurrences of the pattern\n",
    "matches = re.findall(pattern, text)\n",
    "\n",
    "print(matches) \n"
   ]
  },
  {
   "cell_type": "markdown",
   "id": "4edbb3b6",
   "metadata": {},
   "source": [
    "# 2. Why do raw strings often appear in Regex objects?\n"
   ]
  },
  {
   "cell_type": "markdown",
   "id": "e6aee400",
   "metadata": {},
   "source": [
    "Avoiding Double Escaping: As mentioned earlier, raw strings prevent the need for double escaping of backslashes. Regular expressions frequently use backslashes as escape characters for special characters and metacharacters. Without a raw string, you would have to escape the backslashes twice – once for Python's string literal and once for the regular expression. "
   ]
  },
  {
   "cell_type": "markdown",
   "id": "3650f0c8",
   "metadata": {},
   "source": [
    "Improving Readability: Regular expressions can become complex and include many special characters and metacharacters. Using raw strings makes the regex patterns more readable by eliminating unnecessary backslashes."
   ]
  },
  {
   "cell_type": "code",
   "execution_count": 12,
   "id": "d598dee5",
   "metadata": {},
   "outputs": [
    {
     "name": "stdout",
     "output_type": "stream",
     "text": [
      "Matches with regular string: ['apple']\n",
      "Matches with raw string: ['apple']\n"
     ]
    }
   ],
   "source": [
    "#example\n",
    "import re\n",
    " \n",
    "# Regular string with escape sequences (double escaping)\n",
    "regular_string_pattern = \"\\\\bapple\\\\b\"\n",
    "# Raw string with no escape sequences\n",
    "raw_string_pattern = r\"\\bapple\\b\"\n",
    "\n",
    "\n",
    "# Sample text\n",
    "text = \"An apple a day keeps the doctor away. I like apples.\"\n",
    "\n",
    "# Using re.findall() with a regular string pattern\n",
    "matches_regular = re.findall(regular_string_pattern, text)\n",
    "print(\"Matches with regular string:\", matches_regular) \n",
    "# Using re.findall() with a raw string pattern\n",
    "matches_raw = re.findall(raw_string_pattern, text)\n",
    "print(\"Matches with raw string:\", matches_raw)  \n"
   ]
  },
  {
   "cell_type": "markdown",
   "id": "ef48d390",
   "metadata": {},
   "source": [
    " the regular string \"\\bapple\\b\" requires double escaping of the backslashes to correctly match the word \"apple\" as a whole word. However, when using the raw string r\"\\bapple\\b\", there's no need for double escaping, and the regex pattern works as intended, matching only the whole word \"apple\" and not parts of other words like \"apples\" in the text."
   ]
  },
  {
   "cell_type": "markdown",
   "id": "b5b021b6",
   "metadata": {},
   "source": [
    "# 3. What is the return value of the search() method?"
   ]
  },
  {
   "cell_type": "markdown",
   "id": "096f6729",
   "metadata": {},
   "source": [
    "The search() method of the re module in Python returns a match object if a match is found, or None if no match is found. The match object contains information about the match, such as the matched substring, its starting and ending positions in the input string, and more."
   ]
  },
  {
   "cell_type": "code",
   "execution_count": 7,
   "id": "63e7d0fd",
   "metadata": {},
   "outputs": [
    {
     "name": "stdout",
     "output_type": "stream",
     "text": [
      "None\n"
     ]
    }
   ],
   "source": [
    "import re\n",
    "\n",
    "text = \"Hello, World!\"\n",
    "pattern = r\"new\"\n",
    "\n",
    "match = re.search(pattern, text)\n",
    "print(match)\n"
   ]
  },
  {
   "cell_type": "code",
   "execution_count": 8,
   "id": "e291eaeb",
   "metadata": {},
   "outputs": [
    {
     "name": "stdout",
     "output_type": "stream",
     "text": [
      "Pattern found\n"
     ]
    }
   ],
   "source": [
    "#example\n",
    "import re\n",
    "\n",
    "text = \"Hello, World!\"\n",
    "pattern = r\"Hello\"\n",
    "\n",
    "match = re.search(pattern, text)\n",
    "\n",
    "if match:\n",
    "    print(\"Pattern found\")\n",
    "else:\n",
    "    print(\"Pattern not found\")"
   ]
  },
  {
   "cell_type": "markdown",
   "id": "20b0dee7",
   "metadata": {},
   "source": [
    "# 4. From a Match item, how do you get the actual strings that match the pattern?"
   ]
  },
  {
   "cell_type": "markdown",
   "id": "92850c12",
   "metadata": {},
   "source": [
    "To get the actual strings that match the pattern from a re.Match object in Python, you can use the .group() method without any arguments. Here's an example:"
   ]
  },
  {
   "cell_type": "markdown",
   "id": "f5521c44",
   "metadata": {},
   "source": [
    "When you use match, it only looks for matches at the beginning of the string, and you can access the matched string using the group() method of the match object."
   ]
  },
  {
   "cell_type": "code",
   "execution_count": 18,
   "id": "ea8697ec",
   "metadata": {},
   "outputs": [
    {
     "name": "stdout",
     "output_type": "stream",
     "text": [
      "123\n"
     ]
    }
   ],
   "source": [
    "import re\n",
    "\n",
    "pattern = r'\\d+'  # This is a pattern that matches one or more digits\n",
    "text = '123 apples and 456 oranges.'\n",
    "\n",
    "match_obj = re.match(pattern, text)  # Find a match at the beginning of the text\n",
    "\n",
    "if match_obj:\n",
    "    matched_string = match_obj.group()  # Get the matched string\n",
    "    print(matched_string)  \n",
    "else:\n",
    "    print(\"No match found\")\n"
   ]
  },
  {
   "cell_type": "markdown",
   "id": "35dbbf15",
   "metadata": {},
   "source": [
    " If you're using re.findall() instead of re.search(), you can directly get a list of all matched strings:"
   ]
  },
  {
   "cell_type": "code",
   "execution_count": 26,
   "id": "1f684a89",
   "metadata": {},
   "outputs": [
    {
     "name": "stdout",
     "output_type": "stream",
     "text": [
      "['123', '456']\n"
     ]
    }
   ],
   "source": [
    "import re\n",
    "\n",
    "pattern = r'\\d+'  # This is a pattern that matches one or more digits\n",
    "text = 'There are 123 apples and 456 oranges.'\n",
    "\n",
    "matches = re.findall(pattern, text)  # Find all occurrences of the pattern in the text\n",
    "\n",
    "print(matches) "
   ]
  },
  {
   "cell_type": "markdown",
   "id": "5865fa77",
   "metadata": {},
   "source": [
    "# 5. In the regex which created from the r&#39;(\\d\\d\\d)-(\\d\\d\\d-\\d\\d\\d\\d)&#39;, what does group zero cover?Group 2? Group 1?"
   ]
  },
  {
   "cell_type": "markdown",
   "id": "590a99ab",
   "metadata": {},
   "source": [
    "In the regular expression r'(\\d\\d\\d)-(\\d\\d\\d-\\d\\d\\d\\d)', the groups are defined by the parentheses. \n",
    "\n",
    "Group 0 (or match.group(0)): This represents the entire matched portion of the text that satisfies the entire regular expression. In this case, it would be the full phone number in the format 123-456-7890. This group always covers the entire matched string.\n",
    "\n",
    "Group 1 (or match.group(1)): This captures the first set of three digits in the phone number (the area code). In this example, it would capture 123.\n",
    "\n",
    "Group 2 (or match.group(2)): This captures the second set of three digits, followed by a hyphen, and then the last four digits of the phone number. In this example, it would capture 456-7890."
   ]
  },
  {
   "cell_type": "code",
   "execution_count": 27,
   "id": "fea5d7d7",
   "metadata": {},
   "outputs": [
    {
     "name": "stdout",
     "output_type": "stream",
     "text": [
      "Group 0: 123-456-7890\n",
      "Group 1: 123\n",
      "Group 2: 456-7890\n"
     ]
    }
   ],
   "source": [
    "import re\n",
    "\n",
    "pattern = r'(\\d\\d\\d)-(\\d\\d\\d-\\d\\d\\d\\d)'\n",
    "text = 'Phone numbers: 123-456-7890 and 987-654-3210'\n",
    "\n",
    "match = re.search(pattern, text)\n",
    "if match:\n",
    "    group_0 = match.group(0)\n",
    "    group_1 = match.group(1)\n",
    "    group_2 = match.group(2)\n",
    "    \n",
    "    print(\"Group 0:\", group_0)  \n",
    "    print(\"Group 1:\", group_1)  \n",
    "    print(\"Group 2:\", group_2)  \n",
    "else:\n",
    "    print(\"No match found\")\n"
   ]
  },
  {
   "cell_type": "markdown",
   "id": "df3924cb",
   "metadata": {},
   "source": [
    "# 6. In standard expression syntax, parentheses and intervals have distinct meanings. How can you tell a regex that you want it to fit real parentheses and periods?"
   ]
  },
  {
   "cell_type": "markdown",
   "id": "c0a66398",
   "metadata": {},
   "source": [
    "In regular expressions (regex), parentheses and periods have special meanings. Parentheses are used for grouping and capturing, while periods (also known as dots) are used to match any character. If you want to match literal parentheses and periods in your regex pattern, you need to escape them using a backslash (\\) to indicate that you're looking for those specific characters."
   ]
  },
  {
   "cell_type": "markdown",
   "id": "f7d5881e",
   "metadata": {},
   "source": [
    "Here's how you would use backslashes to match literal parentheses and periods in a regex:\n",
    "\n"
   ]
  },
  {
   "cell_type": "markdown",
   "id": "d1d02d12",
   "metadata": {},
   "source": [
    "Escaping Parentheses: To match literal parentheses, use \\( to match an opening parenthesis and \\) to match a closing parenthesis."
   ]
  },
  {
   "cell_type": "code",
   "execution_count": null,
   "id": "11390715",
   "metadata": {},
   "outputs": [],
   "source": [
    " \\(Hello\\)\n"
   ]
  },
  {
   "cell_type": "code",
   "execution_count": 1,
   "id": "3578e63d",
   "metadata": {},
   "outputs": [
    {
     "name": "stdout",
     "output_type": "stream",
     "text": [
      "['(a test)']\n"
     ]
    }
   ],
   "source": [
    "import re\n",
    "\n",
    "text = \"This is (a test) string with (parentheses).\"\n",
    "pattern = r'\\(a test\\)'\n",
    "matches = re.findall(pattern, text)\n",
    "print(matches)\n"
   ]
  },
  {
   "cell_type": "markdown",
   "id": "aba5af3e",
   "metadata": {},
   "source": [
    "Escaping Periods: To match a literal period (dot), use \\\\.."
   ]
  },
  {
   "cell_type": "code",
   "execution_count": null,
   "id": "a98da864",
   "metadata": {},
   "outputs": [],
   "source": [
    "www\\.example\\.com\n"
   ]
  },
  {
   "cell_type": "code",
   "execution_count": 2,
   "id": "f4ea29a8",
   "metadata": {},
   "outputs": [
    {
     "name": "stdout",
     "output_type": "stream",
     "text": [
      "['...']\n"
     ]
    }
   ],
   "source": [
    "import re\n",
    "\n",
    "text = \"This is a test with some dots like this...\"\n",
    "pattern = r'\\.\\.\\.'\n",
    "matches = re.findall(pattern, text)\n",
    "print(matches)\n"
   ]
  },
  {
   "cell_type": "markdown",
   "id": "91da161b",
   "metadata": {},
   "source": [
    "# 7. The findall() method returns a string list or a list of string tuples. What causes it to return one of the two options?"
   ]
  },
  {
   "cell_type": "markdown",
   "id": "a824917d",
   "metadata": {},
   "source": [
    "The findall() method in Python's re module returns a list of string matches when the regular expression pattern contains no capturing groups, and it returns a list of tuples when the pattern includes one or more capturing groups."
   ]
  },
  {
   "cell_type": "markdown",
   "id": "5d461493",
   "metadata": {},
   "source": [
    "1)List of String Matches (No Capturing Groups): When the regular expression pattern does not contain any capturing groups (i.e., no parentheses ( and ) to group parts of the pattern), findall() returns a list of strings. Each element in the list represents a complete match found in the input string."
   ]
  },
  {
   "cell_type": "code",
   "execution_count": 3,
   "id": "4f25336b",
   "metadata": {},
   "outputs": [
    {
     "name": "stdout",
     "output_type": "stream",
     "text": [
      "['$1.25', '$0.75']\n"
     ]
    }
   ],
   "source": [
    "import re\n",
    "\n",
    "text = \"The price of apples is $1.25, and the price of bananas is $0.75.\"\n",
    "pattern = r'\\$\\d+\\.\\d+'\n",
    "matches = re.findall(pattern, text)\n",
    "print(matches)\n"
   ]
  },
  {
   "cell_type": "markdown",
   "id": "7aec9b0d",
   "metadata": {},
   "source": [
    "2)List of Tuples with Capturing Groups: When the regular expression pattern contains one or more capturing groups (i.e., one or more sets of parentheses ( and ) to group parts of the pattern), findall() returns a list of tuples. Each tuple corresponds to a match, and within each tuple, you will find the substrings that correspond to the capturing groups in the pattern."
   ]
  },
  {
   "cell_type": "code",
   "execution_count": 5,
   "id": "73b72aef",
   "metadata": {},
   "outputs": [
    {
     "name": "stdout",
     "output_type": "stream",
     "text": [
      "[('John', '30'), ('Kris', '25')]\n"
     ]
    }
   ],
   "source": [
    "import re\n",
    "\n",
    "text = \"John Roy (Age: 30), Kris Smith (Age: 25)\"\n",
    "pattern = r'(\\w+) \\w+ \\(Age: (\\d+)\\)'\n",
    "matches = re.findall(pattern, text)\n",
    "print(matches)\n"
   ]
  },
  {
   "cell_type": "markdown",
   "id": "34aa7e66",
   "metadata": {},
   "source": [
    "# 8. In standard expressions, what does the | character mean?"
   ]
  },
  {
   "cell_type": "markdown",
   "id": "6da2a571",
   "metadata": {},
   "source": [
    "In standard regular expressions, the | character is used to denote an alternation, which means it functions as an OR operator. It allows you to specify multiple alternatives in your regular expression pattern, and it will match any of the alternatives."
   ]
  },
  {
   "cell_type": "markdown",
   "id": "29f5b6e6",
   "metadata": {},
   "source": [
    "Pattern Alternation: When you use | in a regular expression pattern, it separates different subpatterns, and the regex engine will try to match any of these subpatterns. If any of the subpatterns matches, the whole pattern is considered a match."
   ]
  },
  {
   "cell_type": "code",
   "execution_count": 6,
   "id": "22560b70",
   "metadata": {},
   "outputs": [
    {
     "name": "stdout",
     "output_type": "stream",
     "text": [
      "['red', 'blue']\n"
     ]
    }
   ],
   "source": [
    "import re\n",
    "\n",
    "text = \"The color of the car is either red or blue.\"\n",
    "pattern = r'red|blue'\n",
    "matches = re.findall(pattern, text)\n",
    "print(matches)\n"
   ]
  },
  {
   "cell_type": "markdown",
   "id": "a9a87278",
   "metadata": {},
   "source": [
    "Grouping with Parentheses: You can use parentheses ( and ) to group alternatives when you have more complex patterns. This allows you to specify the scope of the alternation."
   ]
  },
  {
   "cell_type": "code",
   "execution_count": 7,
   "id": "433d0c94",
   "metadata": {},
   "outputs": [
    {
     "name": "stdout",
     "output_type": "stream",
     "text": [
      "['cat', 'hat']\n"
     ]
    }
   ],
   "source": [
    "import re\n",
    "\n",
    "text = \"The cat and the hat are on the mat.\"\n",
    "pattern = r'(cat|hat)'\n",
    "matches = re.findall(pattern, text)\n",
    "print(matches)\n"
   ]
  },
  {
   "cell_type": "markdown",
   "id": "9a0bbcf3",
   "metadata": {},
   "source": [
    "# 9. In regular expressions, what does the character stand for?"
   ]
  },
  {
   "cell_type": "markdown",
   "id": "21ab4a2e",
   "metadata": {},
   "source": [
    "In regular expressions, the character . (period) is a metacharacter that represents any character except a newline. It acts as a wildcard, matching any single character in the input string, with the exception of a newline character. Here's how the . character works in regular expressions:"
   ]
  },
  {
   "cell_type": "markdown",
   "id": "71f82896",
   "metadata": {},
   "source": [
    "Match Any Single Character (Except Newline): The . character, when used in a regular expression pattern, matches any single character (letter, digit, symbol, whitespace, etc.) in the input text, except for a newline character."
   ]
  },
  {
   "cell_type": "code",
   "execution_count": 8,
   "id": "8e5e50ab",
   "metadata": {},
   "outputs": [
    {
     "name": "stdout",
     "output_type": "stream",
     "text": [
      "['cat', 'hat', 'bat']\n"
     ]
    }
   ],
   "source": [
    "import re\n",
    "\n",
    "text = \"cat, hat, bat\"\n",
    "pattern = r'.at'  # This pattern matches any three-letter word ending with \"at.\"\n",
    "matches = re.findall(pattern, text)\n",
    "print(matches)\n"
   ]
  },
  {
   "cell_type": "markdown",
   "id": "dc18a419",
   "metadata": {},
   "source": [
    "Excludes Newlines by Default: The . character does not match newline characters by default. If you want it to match newline characters as well, you can use the re.DOTALL flag when compiling your regular expression. This flag makes the . match any character, including newline characters."
   ]
  },
  {
   "cell_type": "code",
   "execution_count": 9,
   "id": "a8bca132",
   "metadata": {},
   "outputs": [
    {
     "name": "stdout",
     "output_type": "stream",
     "text": [
      "['Line 1\\nLine 2\\nLine 3', '']\n"
     ]
    }
   ],
   "source": [
    "import re\n",
    "\n",
    "text = \"Line 1\\nLine 2\\nLine 3\"\n",
    "pattern = r'.*'  # This pattern matches any sequence of characters.\n",
    "matches = re.findall(pattern, text, re.DOTALL)\n",
    "print(matches)\n"
   ]
  },
  {
   "cell_type": "markdown",
   "id": "e194feaa",
   "metadata": {},
   "source": [
    "# 10.In regular expressions, what is the difference between the + and * characters?"
   ]
  },
  {
   "cell_type": "markdown",
   "id": "aacb4d24",
   "metadata": {},
   "source": [
    "In regular expressions, the \"+\" and \"*\" characters are quantifiers that specify how many times the preceding element should appear in the text being matched, but they have different meanings"
   ]
  },
  {
   "cell_type": "markdown",
   "id": "d5d553bd",
   "metadata": {},
   "source": [
    "\"+\" (Plus Quantifier):\n",
    "\n",
    "\"+\" stands for \"one or more occurrences\" of the preceding element.\n",
    "It requires that the preceding element must appear at least once, but it can appear more than once.\n",
    "For example, the regular expression \"abc+\" would match \"abc,\" \"abcc,\" \"abccc,\" and so on, but it would not match \"ab\" because there is no \"c\" immediately following."
   ]
  },
  {
   "cell_type": "markdown",
   "id": "d0d76800",
   "metadata": {},
   "source": [
    "\"*\" (Asterisk Quantifier):\n",
    "\n",
    "\"*\" stands for \"zero or more occurrences\" of the preceding element.\n",
    "It allows the preceding element to appear zero times or more times, which means it can be completely absent or occur multiple times.\n",
    "For example, the regular expression \"abc*\" would match \"ab,\" \"abc,\" \"abcc,\" \"abccc,\" and so on, including cases where \"c\" is absent."
   ]
  },
  {
   "cell_type": "markdown",
   "id": "54c771ff",
   "metadata": {},
   "source": [
    "# 11. What is the difference between {4} and {4,5} in regular expression?"
   ]
  },
  {
   "cell_type": "markdown",
   "id": "69d80784",
   "metadata": {},
   "source": [
    "In regular expressions, both \"{4}\" and \"{4,5}\" are used as quantifiers to specify the number of occurrences of the preceding element in a pattern, but they have slightly different meanings:"
   ]
  },
  {
   "cell_type": "markdown",
   "id": "ada6853c",
   "metadata": {},
   "source": [
    "\"{4}\":\n",
    "\n",
    "\"{4}\" specifies exactly four occurrences of the preceding element.\n",
    "It requires that the preceding element appears precisely four times consecutively in the text being matched.\n",
    "For example, the regular expression \"a{4}\" would match \"aaaa\" but would not match \"aaa\" or \"aaaaa.\""
   ]
  },
  {
   "cell_type": "markdown",
   "id": "e3782291",
   "metadata": {},
   "source": [
    "\"{4,5}\":\n",
    "\n",
    "\"{4,5}\" specifies a range of occurrences, allowing between four and five occurrences of the preceding element.\n",
    "It means that the preceding element must appear at least four times and can appear up to five times in the text being matched.\n",
    "For example, the regular expression \"a{4,5}\" would match both \"aaaa\" and \"aaaaa\" but would not match \"aaa\" or \"aaaaaa.\""
   ]
  },
  {
   "cell_type": "markdown",
   "id": "bd583c77",
   "metadata": {},
   "source": [
    "\"{4}\" is a specific quantifier indicating an exact number of occurrences, while \"{4,5}\" is a range quantifier indicating a minimum and maximum number of occurrences for the preceding element."
   ]
  },
  {
   "cell_type": "markdown",
   "id": "378eb0c7",
   "metadata": {},
   "source": [
    "# 12. What do you mean by the \\d, \\w, and \\s shorthand character classes signify in regular expressions?"
   ]
  },
  {
   "cell_type": "markdown",
   "id": "7156f355",
   "metadata": {},
   "source": [
    "In regular expressions, shorthand character classes like \\d, \\w, and \\s are used to represent commonly used character sets. These shorthand notations are helpful for simplifying regular expressions and making them more concise. Here's what each of these shorthand character classes signifies:"
   ]
  },
  {
   "cell_type": "markdown",
   "id": "8de61d6b",
   "metadata": {},
   "source": [
    "\\d:\n",
    "\n",
    "\\d represents the digit character class.\n",
    "It matches any single digit from 0 to 9.\n",
    "For example, \\d would match any of the digits 0, 1, 2, 3, 4, 5, 6, 7, 8, or 9"
   ]
  },
  {
   "cell_type": "markdown",
   "id": "da4ca298",
   "metadata": {},
   "source": [
    "\\w:\n",
    "\n",
    "\\w represents the word character class.\n",
    "It matches any word character, which includes uppercase and lowercase letters, digits, and underscores.\n",
    "Essentially, \\w matches alphanumeric characters and underscores.\n",
    "For example, \\w would match characters like \"a,\" \"Z,\" \"5,\" and \"_.\""
   ]
  },
  {
   "cell_type": "markdown",
   "id": "1a815044",
   "metadata": {},
   "source": [
    "\\s:\n",
    "\n",
    "\\s represents the whitespace character class.\n",
    "It matches any whitespace character, such as spaces, tabs, and newline characters.\n",
    "It's useful for identifying and working with whitespace in text.\n",
    "For example, \\s would match spaces and tabs in a string."
   ]
  },
  {
   "cell_type": "markdown",
   "id": "564d3782",
   "metadata": {},
   "source": [
    "Here are some examples of how you might use these shorthand character classes in regular expressions:\n",
    "\n",
    "\\d{3} would match any three consecutive digits in a string.\n",
    "\\w+ would match one or more word characters in a row.\n",
    "\\s* would match zero or more whitespace characters."
   ]
  },
  {
   "cell_type": "markdown",
   "id": "fcf459d3",
   "metadata": {},
   "source": [
    "# 13. What do means by \\D, \\W, and \\S shorthand character classes signify in regular expressions?"
   ]
  },
  {
   "cell_type": "markdown",
   "id": "bf0f87dd",
   "metadata": {},
   "source": [
    "In regular expressions, the shorthand character classes \\D, \\W, and \\S are the negations or opposites of the \\d, \\w, and \\s shorthand character classes. They match characters that are not in the respective character classes they represent. Here's what each of these shorthand character classes signifies:"
   ]
  },
  {
   "cell_type": "markdown",
   "id": "3eebf1b7",
   "metadata": {},
   "source": [
    "\\D:\n",
    "\n",
    "\\D represents the non-digit character class.\n",
    "It matches any character that is not a digit (0-9).\n",
    "For example, \\D would match any character that is not a digit, such as letters, symbols, or whitespace."
   ]
  },
  {
   "cell_type": "markdown",
   "id": "1db56f94",
   "metadata": {},
   "source": [
    "\\W:\n",
    "\n",
    "\\W represents the non-word character class.\n",
    "It matches any character that is not a word character, which includes characters other than letters, digits, and underscores.\n",
    "For example, \\W would match symbols, punctuation marks, and whitespace."
   ]
  },
  {
   "cell_type": "markdown",
   "id": "7405292e",
   "metadata": {},
   "source": [
    "\\S:\n",
    "\n",
    "\\S represents the non-whitespace character class.\n",
    "It matches any character that is not whitespace, including letters, digits, symbols, and punctuation marks.\n",
    "For example, \\S would match any character that is not a space, tab, or newline."
   ]
  },
  {
   "cell_type": "markdown",
   "id": "5ff1b59d",
   "metadata": {},
   "source": [
    "Here are some examples of how you might use these negated shorthand character classes in regular expressions:\n",
    "\n",
    "\\D+ would match one or more consecutive characters that are not digits.\n",
    "\\W* would match zero or more consecutive characters that are not word characters.\n",
    "\\S{2,} would match two or more consecutive characters that are not whitespace."
   ]
  },
  {
   "cell_type": "markdown",
   "id": "3fd4f0fd",
   "metadata": {},
   "source": [
    "# 14. What is the difference between .*? and .*?"
   ]
  },
  {
   "cell_type": "markdown",
   "id": "ff0aa6b1",
   "metadata": {},
   "source": [
    " the difference between \".\" and \".*?\" in regular expressions."
   ]
  },
  {
   "cell_type": "markdown",
   "id": "5c4b4851",
   "metadata": {},
   "source": [
    ".* (Greedy Match):\n",
    ".* is a greedy match, which means it will try to match as much as possible while still allowing the rest of the pattern to match successfully.\n",
    "It matches any character (except for newline characters) zero or more times.\n",
    "In practical terms, it will match the longest possible sequence of characters that allows the overall pattern to match."
   ]
  },
  {
   "cell_type": "markdown",
   "id": "f3afd2ec",
   "metadata": {},
   "source": [
    ".*? (Lazy or Non-Greedy Match):\n",
    "\n",
    ".*? is a lazy or non-greedy match, which means it will match as little as possible while still allowing the rest of the pattern to match successfully.\n",
    "It also matches any character (except for newline characters) zero or more times, but it does so in the shortest possible sequence.\n",
    "In practical terms, it will match the shortest possible sequence of characters that allows the overall pattern to match."
   ]
  },
  {
   "cell_type": "markdown",
   "id": "71684c5e",
   "metadata": {},
   "source": [
    "# 15. What is the syntax for matching both numbers and lowercase letters with a character class?"
   ]
  },
  {
   "cell_type": "markdown",
   "id": "02146536",
   "metadata": {},
   "source": [
    "In regular expressions, you can use a character class to match both numbers and lowercase letters. To create a character class that matches numbers (0-9) and lowercase letters (a-z), you can use square brackets to enclose the range of characters you want to match"
   ]
  },
  {
   "cell_type": "code",
   "execution_count": null,
   "id": "244d8ee0",
   "metadata": {},
   "outputs": [],
   "source": [
    "[0-9a-z]\n"
   ]
  },
  {
   "cell_type": "markdown",
   "id": "8f7762f6",
   "metadata": {},
   "source": [
    "In this character class:\n",
    "\n",
    "[0-9] matches any digit from 0 to 9.                                                                         \n",
    "[a-z] matches any lowercase letter from a to z.                                                      \n",
    "So, [0-9a-z] will match any character that is either a digit or a lowercase letter."
   ]
  },
  {
   "cell_type": "markdown",
   "id": "c86758ec",
   "metadata": {},
   "source": [
    "# 16. What is the procedure for making a normal expression in regax case insensitive?\n"
   ]
  },
  {
   "cell_type": "markdown",
   "id": "4f3f3420",
   "metadata": {},
   "source": [
    "In Python, you can make a regular expression case-insensitive by using the re.IGNORECASE or re.I flag when compiling your regular expression pattern. "
   ]
  },
  {
   "cell_type": "markdown",
   "id": "09dccfef",
   "metadata": {},
   "source": [
    "1)Import the re module: You need to import Python's re module, which provides regular expression functionality.\n",
    "\n",
    "2)Compile the regex pattern with the re.IGNORECASE flag: When you compile your regular expression pattern using re.compile(), include the re.IGNORECASE or re.I flag as the second argument. This flag makes the pattern match in a case-insensitive manner.\n",
    "\n",
    "3)Use the compiled pattern to perform matches or searches: You can then use the compiled pattern object to search for or match text in a case-insensitive manner."
   ]
  },
  {
   "cell_type": "code",
   "execution_count": 11,
   "id": "d1a8f1dc",
   "metadata": {},
   "outputs": [
    {
     "name": "stdout",
     "output_type": "stream",
     "text": [
      "Pattern found: Hello\n"
     ]
    }
   ],
   "source": [
    "\n",
    "#example\n",
    "import re\n",
    "\n",
    "text = \"Hello World\"\n",
    "pattern = re.compile(r'hello', re.IGNORECASE)  # Case-insensitive pattern\n",
    "\n",
    "result = pattern.search(text)\n",
    "\n",
    "if result:\n",
    "    print(\"Pattern found:\", result.group())\n",
    "else:\n",
    "    print(\"Pattern not found.\")\n"
   ]
  },
  {
   "cell_type": "markdown",
   "id": "564d9902",
   "metadata": {},
   "source": [
    "# 17. What does the . character normally match? What does it match if re.DOTALL is passed as 2nd argument in re.compile()?"
   ]
  },
  {
   "cell_type": "markdown",
   "id": "e5d2a47c",
   "metadata": {},
   "source": [
    "In Python's regular expressions, the \".\" (dot) character normally matches any character except for a newline character (\"\\n\"). However, if you pass re.DOTALL (or re.S) as the second argument when compiling the regular expression pattern using re.compile(), it changes the behavior of the dot to match any character, including newline characters."
   ]
  },
  {
   "cell_type": "markdown",
   "id": "782af159",
   "metadata": {},
   "source": [
    "Without re.DOTALL:\n",
    "By default, the dot (\".\") matches any character except for a newline character (\"\\n\").\n",
    "So, it will match letters, digits, symbols, whitespace, etc., but not newline characters."
   ]
  },
  {
   "cell_type": "code",
   "execution_count": null,
   "id": "edc6e5a7",
   "metadata": {},
   "outputs": [],
   "source": [
    "example"
   ]
  },
  {
   "cell_type": "code",
   "execution_count": 12,
   "id": "f78cef61",
   "metadata": {},
   "outputs": [
    {
     "name": "stdout",
     "output_type": "stream",
     "text": [
      "Pattern found: Hello\n"
     ]
    }
   ],
   "source": [
    "import re\n",
    "\n",
    "text = \"Hello\\nWorld\"\n",
    "pattern = re.compile(r'H.llo')  # Dot matches any character except newline\n",
    "\n",
    "result = pattern.search(text)\n",
    "\n",
    "if result:\n",
    "    print(\"Pattern found:\", result.group())  # Output: \"Hello\"\n",
    "else:\n",
    "    print(\"Pattern not found.\")\n"
   ]
  },
  {
   "cell_type": "markdown",
   "id": "64caf8e2",
   "metadata": {},
   "source": [
    "With re.DOTALL:\n",
    "When you pass re.DOTALL (or re.S) as the second argument to re.compile(), it changes the behavior of the dot to match any character, including newline characters.\n",
    "This is useful when you want the dot to match across multiple lines, making it more permissive in matching text."
   ]
  },
  {
   "cell_type": "code",
   "execution_count": null,
   "id": "cac62cb0",
   "metadata": {},
   "outputs": [],
   "source": [
    "example"
   ]
  },
  {
   "cell_type": "code",
   "execution_count": 13,
   "id": "3c992395",
   "metadata": {},
   "outputs": [
    {
     "name": "stdout",
     "output_type": "stream",
     "text": [
      "Pattern found: Hello\n"
     ]
    }
   ],
   "source": [
    "import re\n",
    "\n",
    "text = \"Hello\\nWorld\"\n",
    "pattern = re.compile(r'H.llo', re.DOTALL)  # Dot matches any character, including newline\n",
    "\n",
    "result = pattern.search(text)\n",
    "\n",
    "if result:\n",
    "    print(\"Pattern found:\", result.group())  # Output: \"Hello\\nWorld\"\n",
    "else:\n",
    "    print(\"Pattern not found.\")\n"
   ]
  },
  {
   "cell_type": "markdown",
   "id": "187a35db",
   "metadata": {},
   "source": [
    "# 18. If numReg = re.compile(r'\\d+'), what will numRegex.sub('X','11 drummers, 10 pipers, five rings, 4 hen') return?"
   ]
  },
  {
   "cell_type": "markdown",
   "id": "4c625cf2",
   "metadata": {},
   "source": [
    ". In Python, if you use the numRegex.sub('X', '11 drummers, 10 pipers, five rings, 4 hen') with the given regular expression r'\\d+', it will replace all sequences of one or more digits with the letter 'X'. "
   ]
  },
  {
   "cell_type": "code",
   "execution_count": 14,
   "id": "a96f1db4",
   "metadata": {},
   "outputs": [
    {
     "name": "stdout",
     "output_type": "stream",
     "text": [
      "X drummers, X pipers, five rings, X hen\n"
     ]
    }
   ],
   "source": [
    "import re\n",
    "\n",
    "numRegex = re.compile(r'\\d+')\n",
    "result = numRegex.sub('X', '11 drummers, 10 pipers, five rings, 4 hen')\n",
    "\n",
    "print(result)\n"
   ]
  },
  {
   "cell_type": "markdown",
   "id": "e0dcd753",
   "metadata": {},
   "source": [
    "# 19. What does passing re.VERBOSE as the 2nd argument to re.compile() allow to do?"
   ]
  },
  {
   "cell_type": "markdown",
   "id": "ed8f2819",
   "metadata": {},
   "source": [
    "Passing re.VERBOSE as the second argument to re.compile() in Python allows you to write regular expressions with more readability and whitespace, making them easier to understand. It also allows you to add comments within the regular expression pattern without affecting its functionality"
   ]
  },
  {
   "cell_type": "code",
   "execution_count": null,
   "id": "bebac55a",
   "metadata": {},
   "outputs": [],
   "source": [
    " what it allows you to do:"
   ]
  },
  {
   "cell_type": "markdown",
   "id": "9c6be4fb",
   "metadata": {},
   "source": [
    "1)Ignore Whitespace: When you use re.VERBOSE, whitespace (spaces and line breaks) within the regular expression pattern is ignored. This means you can format the regular expression more clearly by adding spaces and line breaks to separate different parts of the pattern."
   ]
  },
  {
   "cell_type": "markdown",
   "id": "ba8daffb",
   "metadata": {},
   "source": [
    "2)Add Comments: You can add comments to the regular expression using the \"#\" symbol. These comments help you and others understand the purpose of different parts of the pattern. Comments are ignored by the regex engine."
   ]
  },
  {
   "cell_type": "code",
   "execution_count": 15,
   "id": "6d83fde2",
   "metadata": {},
   "outputs": [
    {
     "name": "stdout",
     "output_type": "stream",
     "text": [
      "123-45-6789\n",
      "123-45-6789\n"
     ]
    }
   ],
   "source": [
    "import re\n",
    "\n",
    "# Without re.VERBOSE\n",
    "pattern1 = r'\\d{3}-\\d{2}-\\d{4}'\n",
    "\n",
    "# With re.VERBOSE\n",
    "pattern2 = r'''\n",
    "    \\d{3}    # Match three digits\n",
    "    -        # Match a hyphen\n",
    "    \\d{2}    # Match two digits\n",
    "    -        # Match another hyphen\n",
    "    \\d{4}    # Match four digits\n",
    "'''\n",
    "\n",
    "text = '123-45-6789'\n",
    "\n",
    "result1 = re.search(pattern1, text)\n",
    "result2 = re.search(pattern2, text, re.VERBOSE)\n",
    "\n",
    "print(result1.group())  \n",
    "print(result2.group())  \n"
   ]
  },
  {
   "cell_type": "markdown",
   "id": "ed46e92b",
   "metadata": {},
   "source": [
    "# 20. How would you write a regex that match a number with comma for every three digits? It must match the given following:"
   ]
  },
  {
   "cell_type": "code",
   "execution_count": null,
   "id": "a395ed0f",
   "metadata": {},
   "outputs": [],
   "source": [
    "\n",
    "'42'\n",
    "'1,234'\n",
    "'6,368,745'\n",
    "\n",
    "but not the following:\n",
    "'12,34,567'// (which has only two digits between the commas)\n",
    "'1234' // (which lacks commas)"
   ]
  },
  {
   "cell_type": "markdown",
   "id": "974c7fb4",
   "metadata": {},
   "source": [
    "You can write a regular expression to match numbers with commas for every three digits as follows:"
   ]
  },
  {
   "cell_type": "code",
   "execution_count": null,
   "id": "a4ace99c",
   "metadata": {},
   "outputs": [],
   "source": [
    "^(?!.*\\d{4},)(?:\\d{1,3}(?:,\\d{3})*|\\d+)$\n"
   ]
  },
  {
   "cell_type": "markdown",
   "id": "c593816f",
   "metadata": {},
   "source": [
    "^ and $ indicate the start and end of the string, respectively, ensuring that the entire string matches the pattern.\n",
    "(?!.*,\\d{1,2},) is a negative lookahead assertion that prevents matching if there are one or two digits between commas. This ensures that there are at least three digits between commas.\n",
    "\\d{1,3} matches between 1 and 3 digits at the beginning of the string.\n",
    "(,\\d{3})* matches zero or more groups of a comma followed by exactly three digits."
   ]
  },
  {
   "cell_type": "code",
   "execution_count": null,
   "id": "5680f357",
   "metadata": {},
   "outputs": [],
   "source": [
    "Here's how you can use this regular expression in Python:"
   ]
  },
  {
   "cell_type": "code",
   "execution_count": 16,
   "id": "75fcdb3a",
   "metadata": {},
   "outputs": [
    {
     "name": "stdout",
     "output_type": "stream",
     "text": [
      "Matched: 42\n",
      "Matched: 1,234\n",
      "Matched: 6,368,745\n",
      "Not Matched: 12,34,567\n",
      "Not Matched: 1234\n"
     ]
    }
   ],
   "source": [
    "import re\n",
    "\n",
    "pattern = r'^(?!.*,\\d{1,2},)\\d{1,3}(,\\d{3})*$'\n",
    "\n",
    "strings = ['42', '1,234', '6,368,745', '12,34,567', '1234']\n",
    "\n",
    "for s in strings:\n",
    "    if re.match(pattern, s):\n",
    "        print(f\"Matched: {s}\")\n",
    "    else:\n",
    "        print(f\"Not Matched: {s}\")\n"
   ]
  },
  {
   "cell_type": "markdown",
   "id": "c74d6db8",
   "metadata": {},
   "source": [
    "# 21. How would you write a regex that matches the full name of someone whose last name is Watanabe? You can assume that the first name that comes before it will always be one word that begins with a capital letter. The regex must match the following:"
   ]
  },
  {
   "cell_type": "code",
   "execution_count": null,
   "id": "e155e61c",
   "metadata": {},
   "outputs": [],
   "source": [
    "\n",
    "'Haruto Watanabe'\n",
    "'Alice Watanabe'\n",
    "'RoboCop Watanabe'\n",
    "but not the following:\n",
    "'haruto Watanabe' (where the first name is not capitalized)\n",
    "'Mr. Watanabe' (where the preceding word has a nonletter character)\n",
    "'Watanabe'(which has no first name)\n",
    "'Haruto watanabe' (where Watanabe is not capitalized)"
   ]
  },
  {
   "cell_type": "markdown",
   "id": "8fae0665",
   "metadata": {},
   "source": [
    "To write a regular expression that matches the full name of someone whose last name is \"Watanabe\" with the assumption that the first name always begins with a capital letter and is a single word, you can use the following pattern:"
   ]
  },
  {
   "cell_type": "code",
   "execution_count": null,
   "id": "13ee840e",
   "metadata": {},
   "outputs": [],
   "source": [
    "^[A-Z][a-zA-Z]*\\sWatanabe$\n"
   ]
  },
  {
   "cell_type": "code",
   "execution_count": null,
   "id": "1dc8768a",
   "metadata": {},
   "outputs": [],
   "source": [
    "^ and $ indicate the start and end of the string, respectively, ensuring that the entire string matches the pattern.\n",
    "[A-Z] matches an uppercase letter (the first letter of the first name).\n",
    "[a-zA-Z]* matches zero or more lowercase and uppercase letters for the rest of the first name.\n",
    "\\s matches a single space.\n",
    "Watanabe matches the last name \"Watanabe.\""
   ]
  },
  {
   "cell_type": "code",
   "execution_count": 17,
   "id": "668426c5",
   "metadata": {},
   "outputs": [
    {
     "name": "stdout",
     "output_type": "stream",
     "text": [
      "Matched: Haruto Watanabe\n",
      "Matched: Alice Watanabe\n",
      "Matched: RoboCop Watanabe\n",
      "Not Matched: haruto Watanabe\n",
      "Not Matched: Mr. Watanabe\n",
      "Not Matched: Watanabe\n",
      "Not Matched: Haruto watanabe\n"
     ]
    }
   ],
   "source": [
    "import re\n",
    "\n",
    "pattern = r'^[A-Z][a-zA-Z]*\\sWatanabe$'\n",
    "\n",
    "names = ['Haruto Watanabe', 'Alice Watanabe', 'RoboCop Watanabe', 'haruto Watanabe', 'Mr. Watanabe', 'Watanabe', 'Haruto watanabe']\n",
    "\n",
    "for name in names:\n",
    "    if re.match(pattern, name):\n",
    "        print(f\"Matched: {name}\")\n",
    "    else:\n",
    "        print(f\"Not Matched: {name}\")\n"
   ]
  },
  {
   "cell_type": "markdown",
   "id": "ccbbde42",
   "metadata": {},
   "source": [
    "# 22. How would you write a regex that matches a sentence where the first word is either Alice, Bob,or Carol; the second word is either eats, pets, or throws; the third word is apples, cats, or baseballs;and the sentence ends with a period? This regex should be case-insensitive. It must match the following:\n"
   ]
  },
  {
   "cell_type": "code",
   "execution_count": null,
   "id": "d96ec944",
   "metadata": {},
   "outputs": [],
   "source": [
    "'Alice eats apples.'\n",
    "'Bob pets cats.'\n",
    "'Carol throws baseballs.'\n",
    "'Alice throws Apples.'\n",
    "'BOB EATS CATS.'\n",
    "but not the following:\n",
    "'RoboCop eats apples.'\n",
    "'ALICE THROWS FOOTBALLS.'\n",
    "'Carol eats 7 cats.'"
   ]
  },
  {
   "cell_type": "markdown",
   "id": "9c87481c",
   "metadata": {},
   "source": [
    "We can write a case-insensitive regular expression that matches sentences meeting the specified criteria as follows"
   ]
  },
  {
   "cell_type": "code",
   "execution_count": null,
   "id": "f1b73863",
   "metadata": {},
   "outputs": [],
   "source": [
    "^(?i)(Alice|Bob|Carol)\\s+(eats|pets|throws)\\s+(apples|cats|baseballs)\\.$\n"
   ]
  },
  {
   "cell_type": "code",
   "execution_count": null,
   "id": "ccdd55f0",
   "metadata": {},
   "outputs": [],
   "source": [
    "^ and $ indicate the start and end of the string, respectively, ensuring that the entire string matches the pattern.\n",
    "(?i) is a case-insensitive flag.\n",
    "(Alice|Bob|Carol) matches one of the specified first names (Alice, Bob, or Carol).\n",
    "\\s+ matches one or more whitespace characters (spaces or tabs).\n",
    "(eats|pets|throws) matches one of the specified action words (eats, pets, or throws).\n",
    "\\s+ again matches one or more whitespace characters.\n",
    "(apples|cats|baseballs) matches one of the specified objects (apples, cats, or baseballs).\n",
    "\\. matches a period at the end of the sentence."
   ]
  },
  {
   "cell_type": "code",
   "execution_count": 18,
   "id": "855182e1",
   "metadata": {},
   "outputs": [
    {
     "name": "stdout",
     "output_type": "stream",
     "text": [
      "Matched: Alice eats apples.\n",
      "Matched: Bob pets cats.\n",
      "Matched: Carol throws baseballs.\n",
      "Matched: Alice throws Apples.\n",
      "Matched: BOB EATS CATS.\n",
      "Not Matched: RoboCop eats apples.\n",
      "Not Matched: ALICE THROWS FOOTBALLS.\n",
      "Not Matched: Carol eats 7 cats.\n"
     ]
    },
    {
     "name": "stderr",
     "output_type": "stream",
     "text": [
      "C:\\Users\\user\\AppData\\Local\\Temp\\ipykernel_5304\\556588326.py:17: DeprecationWarning: Flags not at the start of the expression '^(?i)(Alice|Bob|Caro' (truncated) but at position 1\n",
      "  if re.match(pattern, sentence):\n"
     ]
    }
   ],
   "source": [
    "import re\n",
    "\n",
    "pattern = r'^(?i)(Alice|Bob|Carol)\\s+(eats|pets|throws)\\s+(apples|cats|baseballs)\\.$'\n",
    "\n",
    "sentences = [\n",
    "    'Alice eats apples.',\n",
    "    'Bob pets cats.',\n",
    "    'Carol throws baseballs.',\n",
    "    'Alice throws Apples.',\n",
    "    'BOB EATS CATS.',\n",
    "    'RoboCop eats apples.',\n",
    "    'ALICE THROWS FOOTBALLS.',\n",
    "    'Carol eats 7 cats.',\n",
    "]\n",
    "\n",
    "for sentence in sentences:\n",
    "    if re.match(pattern, sentence):\n",
    "        print(f\"Matched: {sentence}\")\n",
    "    else:\n",
    "        print(f\"Not Matched: {sentence}\")\n"
   ]
  },
  {
   "cell_type": "code",
   "execution_count": null,
   "id": "da1acee5",
   "metadata": {},
   "outputs": [],
   "source": []
  }
 ],
 "metadata": {
  "kernelspec": {
   "display_name": "Python 3 (ipykernel)",
   "language": "python",
   "name": "python3"
  },
  "language_info": {
   "codemirror_mode": {
    "name": "ipython",
    "version": 3
   },
   "file_extension": ".py",
   "mimetype": "text/x-python",
   "name": "python",
   "nbconvert_exporter": "python",
   "pygments_lexer": "ipython3",
   "version": "3.10.9"
  }
 },
 "nbformat": 4,
 "nbformat_minor": 5
}
