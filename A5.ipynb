{
 "cells": [
  {
   "cell_type": "markdown",
   "id": "9adc74da",
   "metadata": {},
   "source": [
    "# 1. What does an empty dictionary&#39;s code look like?"
   ]
  },
  {
   "cell_type": "markdown",
   "id": "a34df513",
   "metadata": {},
   "source": [
    "An empty dictionary in Python is represented by a pair of curly braces {}. Here's what it looks like:"
   ]
  },
  {
   "cell_type": "code",
   "execution_count": 1,
   "id": "4f8131bb",
   "metadata": {},
   "outputs": [],
   "source": [
    "empty_dict = {}\n"
   ]
  },
  {
   "cell_type": "markdown",
   "id": "ed46b50a",
   "metadata": {},
   "source": [
    "An empty dictionary contains no key-value pairs and is used as a starting point to add items later or as a placeholder for dictionaries that may be populated dynamically during the program's execution."
   ]
  },
  {
   "cell_type": "markdown",
   "id": "77b96af6",
   "metadata": {},
   "source": [
    "# 2. What is the value of a dictionary value with the key 'foo' and the value 42?"
   ]
  },
  {
   "cell_type": "markdown",
   "id": "7a2a0f3b",
   "metadata": {},
   "source": [
    "In Python, a dictionary is a collection of key-value pairs. To access the value of a dictionary with a specific key, you simply use the key inside square brackets ([]).\n",
    "\n",
    "If you have a dictionary with the key 'foo' and the value 42, you can access the value as follows:"
   ]
  },
  {
   "cell_type": "code",
   "execution_count": 2,
   "id": "b8732e30",
   "metadata": {},
   "outputs": [
    {
     "name": "stdout",
     "output_type": "stream",
     "text": [
      "42\n"
     ]
    }
   ],
   "source": [
    "my_dict = {'foo': 42}\n",
    "value_of_foo = my_dict['foo']\n",
    "print(value_of_foo)\n"
   ]
  },
  {
   "cell_type": "markdown",
   "id": "56a74388",
   "metadata": {},
   "source": [
    "# 3. What is the most significant distinction between a dictionary and a list?"
   ]
  },
  {
   "cell_type": "code",
   "execution_count": 3,
   "id": "687d3a78",
   "metadata": {},
   "outputs": [],
   "source": [
    "# Dictionary\n",
    "my_dict = {'name': 'John', 'age': 30, 'city': 'New York'}\n",
    "\n",
    "# List\n",
    "my_list = ['apple', 'banana', 'orange']\n"
   ]
  },
  {
   "cell_type": "markdown",
   "id": "ba276347",
   "metadata": {},
   "source": [
    "Structure:\n",
    "\n",
    "    A dictionary is an unordered collection of key-value pairs. Each element in the dictionary consists of a unique key and its corresponding value. The keys must be immutable (e.g., strings, numbers, tuples), and they act as labels to access the associated values efficiently.\n",
    "    A list, on the other hand, is an ordered collection of elements. The elements in a list are indexed and stored in a specific order. Lists can hold any type of data, including other lists or dictionaries.\n",
    "\n",
    "Accessing elements:\n",
    "\n",
    "    In a dictionary, elements are accessed using their keys. Since dictionaries use a key-value mapping, you can retrieve the value associated with a specific key very quickly.\n",
    "    In a list, elements are accessed using their indices. You access elements based on their position in the list. To find an element, you have to iterate through the list or use the index directly.\n",
    "\n",
    "Mutability:\n",
    "\n",
    "    Dictionaries are mutable, meaning you can add, remove, or modify key-value pairs after creating the dictionary.\n",
    "    Lists are also mutable. You can change their elements, add or remove elements, and modify their content.\n",
    "\n",
    "Order:\n",
    "\n",
    "    Dictionaries in Python 3.7 and earlier versions are unordered, which means they don't maintain the order of insertion. However, starting from Python 3.7 and above, dictionaries maintain the order of insertion, effectively becoming ordered dictionaries.\n",
    "    Lists, by nature, are ordered. The order of elements in a list is preserved, and elements can be accessed by their index.\n",
    "\n",
    "Use Cases:\n",
    "\n",
    "    Dictionaries are useful when you need to store data in key-value pairs and need fast access to values based on specific keys.\n",
    "    Lists are useful when you need to maintain elements in a specific order and perform operations like appending, extending, or removing elements based on their positions."
   ]
  },
  {
   "cell_type": "markdown",
   "id": "fc170f62",
   "metadata": {},
   "source": [
    "# 4. What happens if you try to access spam['foo'] if spam is {'bar': 100}?"
   ]
  },
  {
   "cell_type": "markdown",
   "id": "83ddf48c",
   "metadata": {},
   "source": [
    "If you try to access spam['foo'] when spam is {'bar': 100}, you will get a KeyError because the key 'foo' does not exist in the dictionary spam."
   ]
  },
  {
   "cell_type": "code",
   "execution_count": 6,
   "id": "c2203e26",
   "metadata": {},
   "outputs": [
    {
     "name": "stdout",
     "output_type": "stream",
     "text": [
      "100\n"
     ]
    },
    {
     "ename": "KeyError",
     "evalue": "'foo'",
     "output_type": "error",
     "traceback": [
      "\u001b[1;31m---------------------------------------------------------------------------\u001b[0m",
      "\u001b[1;31mKeyError\u001b[0m                                  Traceback (most recent call last)",
      "Cell \u001b[1;32mIn[6], line 6\u001b[0m\n\u001b[0;32m      4\u001b[0m value \u001b[38;5;241m=\u001b[39m spam\u001b[38;5;241m.\u001b[39mget(\u001b[38;5;124m'\u001b[39m\u001b[38;5;124mfoo\u001b[39m\u001b[38;5;124m'\u001b[39m, \u001b[38;5;124m\"\u001b[39m\u001b[38;5;124mKey not found\u001b[39m\u001b[38;5;124m\"\u001b[39m)\n\u001b[0;32m      5\u001b[0m \u001b[38;5;28mprint\u001b[39m(spam[\u001b[38;5;124m'\u001b[39m\u001b[38;5;124mbar\u001b[39m\u001b[38;5;124m'\u001b[39m])\n\u001b[1;32m----> 6\u001b[0m \u001b[38;5;28mprint\u001b[39m(\u001b[43mspam\u001b[49m\u001b[43m[\u001b[49m\u001b[38;5;124;43m'\u001b[39;49m\u001b[38;5;124;43mfoo\u001b[39;49m\u001b[38;5;124;43m'\u001b[39;49m\u001b[43m]\u001b[49m)\n",
      "\u001b[1;31mKeyError\u001b[0m: 'foo'"
     ]
    }
   ],
   "source": [
    "spam = {'bar': 100}\n",
    "\n",
    "print(spam['bar'])\n",
    "print(spam['foo'])\n"
   ]
  },
  {
   "cell_type": "markdown",
   "id": "11ca412c",
   "metadata": {},
   "source": [
    "To avoid this error, you should make sure the key exists in the dictionary before accessing it or use the get() method, which allows you to provide a default value if the key is not found:"
   ]
  },
  {
   "cell_type": "markdown",
   "id": "57ae974a",
   "metadata": {},
   "source": [
    "# 5. If a dictionary is stored in spam, what is the difference between the expressions 'cat' in spam and 'cat' in spam.keys()?"
   ]
  },
  {
   "cell_type": "markdown",
   "id": "f37752e2",
   "metadata": {},
   "source": [
    "In Python, both expressions 'cat' in spam and 'cat' in spam.keys() check whether the key 'cat' exists in the dictionary spam. However, there is a subtle difference between these expressions:"
   ]
  },
  {
   "cell_type": "markdown",
   "id": "903ebe9f",
   "metadata": {},
   "source": [
    "cat' in spam:\n",
    "\n",
    "This expression checks if the key 'cat' exists directly in the dictionary spam. It returns a boolean value True if the key exists and False otherwise.\n",
    "\n",
    "'cat' in spam.keys():\n",
    "\n",
    "This expression checks if the key 'cat' exists in the list of keys of the dictionary spam. The keys() method returns a view object that provides a list of all the keys in the dictionary.\n",
    "It returns a boolean value True if the key exists in the list of keys and False otherwise."
   ]
  },
  {
   "cell_type": "code",
   "execution_count": 7,
   "id": "2ddba285",
   "metadata": {},
   "outputs": [
    {
     "name": "stdout",
     "output_type": "stream",
     "text": [
      "True\n",
      "True\n"
     ]
    }
   ],
   "source": [
    "# Example dictionary\n",
    "spam = {'cat': 5, 'dog': 10, 'bird': 2}\n",
    "\n",
    "# Check if 'cat' exists in the dictionary\n",
    "result_1 = 'cat' in spam\n",
    "result_2 = 'cat' in spam.keys()\n",
    "\n",
    "# Print results\n",
    "print(result_1)  # True\n",
    "print(result_2)  # True\n",
    "\n"
   ]
  },
  {
   "cell_type": "markdown",
   "id": "00599013",
   "metadata": {},
   "source": [
    "# 6. If a dictionary is stored in spam, what is the difference between the expressions 'cat' in spam and 'cat' in spam.values()?"
   ]
  },
  {
   "cell_type": "markdown",
   "id": "13c07973",
   "metadata": {},
   "source": [
    "'cat' in spam:\n",
    "\n",
    "This expression checks if the key 'cat' exists in the dictionary spam. It returns a boolean value True if the key 'cat' exists as one of the keys in the dictionary, and False otherwise.\n",
    "\n",
    "'cat' in spam.values():\n",
    "\n",
    "This expression checks if the value 'cat' exists in the values of the dictionary spam. It returns a boolean value True if the value 'cat' is present as one of the values in the dictionary, and False otherwise."
   ]
  },
  {
   "cell_type": "code",
   "execution_count": 8,
   "id": "6fcc567f",
   "metadata": {},
   "outputs": [
    {
     "name": "stdout",
     "output_type": "stream",
     "text": [
      "False\n",
      "True\n",
      "False\n"
     ]
    }
   ],
   "source": [
    "# Example dictionary\n",
    "spam = {'name': 'John', 'age': 30, 'pet': 'cat', 'city': 'New York'}\n",
    "\n",
    "# Check if 'cat' exists in the keys of the dictionary\n",
    "result_keys = 'cat' in spam\n",
    "\n",
    "# Check if 'cat' exists in the values of the dictionary\n",
    "result_values = 'cat' in spam.values()\n",
    "\n",
    "# Check if 'dog' exists in the values of the dictionary\n",
    "result_dog = 'dog' in spam.values()\n",
    "\n",
    "# Print results\n",
    "print(result_keys)    \n",
    "print(result_values)   \n",
    "print(result_dog)      "
   ]
  },
  {
   "cell_type": "markdown",
   "id": "f6413b4a",
   "metadata": {},
   "source": [
    "# 7. What is a shortcut for the following code?\n"
   ]
  },
  {
   "cell_type": "code",
   "execution_count": null,
   "id": "27650572",
   "metadata": {},
   "outputs": [],
   "source": [
    "if 'color' not in spam:\n",
    "spam['color'] = 'black'"
   ]
  },
  {
   "cell_type": "markdown",
   "id": "6e7b7209",
   "metadata": {},
   "source": [
    "The shortcut for the given code is to use the dict.setdefault() method. This method allows you to set a default value for a key in the dictionary if the key does not already exist. It avoids the need for an explicit if statement to check for key existence."
   ]
  },
  {
   "cell_type": "code",
   "execution_count": 10,
   "id": "82356bea",
   "metadata": {},
   "outputs": [
    {
     "data": {
      "text/plain": [
       "'black'"
      ]
     },
     "execution_count": 10,
     "metadata": {},
     "output_type": "execute_result"
    }
   ],
   "source": [
    "spam.setdefault('color', 'black')\n"
   ]
  },
  {
   "cell_type": "markdown",
   "id": "22d2c20f",
   "metadata": {},
   "source": [
    "# 8. How do you &quot;pretty print&quot; dictionary values using which module and function?"
   ]
  },
  {
   "cell_type": "markdown",
   "id": "1cea2608",
   "metadata": {},
   "source": [
    "To \"pretty print\" dictionary values in Python, you can use the pprint module and its pprint() function. The pprint module provides a convenient way to print complex data structures, including dictionaries, in a human-readable and well-formatted manner."
   ]
  },
  {
   "cell_type": "code",
   "execution_count": 11,
   "id": "5d6d2b4f",
   "metadata": {},
   "outputs": [
    {
     "name": "stdout",
     "output_type": "stream",
     "text": [
      "{'age': 30,\n",
      " 'city': 'New York',\n",
      " 'contact': {'email': 'john.doe@example.com', 'phone': '123-456-7890'},\n",
      " 'name': 'John Doe',\n",
      " 'pets': ['dog', 'cat', 'bird']}\n"
     ]
    }
   ],
   "source": [
    "import pprint\n",
    "\n",
    "my_dict = {\n",
    "    'name': 'John Doe',\n",
    "    'age': 30,\n",
    "    'city': 'New York',\n",
    "    'pets': ['dog', 'cat', 'bird'],\n",
    "    'contact': {\n",
    "        'email': 'john.doe@example.com',\n",
    "        'phone': '123-456-7890'\n",
    "    }\n",
    "}\n",
    "\n",
    "pprint.pprint(my_dict)\n"
   ]
  },
  {
   "cell_type": "markdown",
   "id": "16323b4c",
   "metadata": {},
   "source": [
    "The pprint() function can also take additional arguments to customize the output, such as indent, width, depth, and more. By default, it provides a nicely formatted output suitable for most cases."
   ]
  },
  {
   "cell_type": "code",
   "execution_count": null,
   "id": "5c0eff79",
   "metadata": {},
   "outputs": [],
   "source": []
  }
 ],
 "metadata": {
  "kernelspec": {
   "display_name": "Python 3 (ipykernel)",
   "language": "python",
   "name": "python3"
  },
  "language_info": {
   "codemirror_mode": {
    "name": "ipython",
    "version": 3
   },
   "file_extension": ".py",
   "mimetype": "text/x-python",
   "name": "python",
   "nbconvert_exporter": "python",
   "pygments_lexer": "ipython3",
   "version": "3.10.9"
  }
 },
 "nbformat": 4,
 "nbformat_minor": 5
}
