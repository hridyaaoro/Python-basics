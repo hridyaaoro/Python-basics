{
 "cells": [
  {
   "cell_type": "markdown",
   "id": "6296c055",
   "metadata": {},
   "source": [
    "# 1. What are escape characters, and how do you use them?"
   ]
  },
  {
   "cell_type": "markdown",
   "id": "9a53bee1",
   "metadata": {},
   "source": [
    "Escape characters are special characters that are used in computing and programming to represent characters or sequences that have a specific meaning or interpretation in a given context. They allow you to include characters that are otherwise difficult or impossible to represent directly in strings or code."
   ]
  },
  {
   "cell_type": "markdown",
   "id": "bd418f70",
   "metadata": {},
   "source": [
    "1.Newline (\\n): Inserts a new line at the position of the escape character.               \n",
    "Example:"
   ]
  },
  {
   "cell_type": "code",
   "execution_count": 1,
   "id": "8792d558",
   "metadata": {},
   "outputs": [
    {
     "name": "stdout",
     "output_type": "stream",
     "text": [
      "Hello,\n",
      "World!\n"
     ]
    }
   ],
   "source": [
    "print(\"Hello,\\nWorld!\")\n"
   ]
  },
  {
   "cell_type": "markdown",
   "id": "9a8a8707",
   "metadata": {},
   "source": [
    "2 .Tab (\\t): Inserts a horizontal tab at the position of the escape character."
   ]
  },
  {
   "cell_type": "code",
   "execution_count": 2,
   "id": "411d116b",
   "metadata": {},
   "outputs": [
    {
     "name": "stdout",
     "output_type": "stream",
     "text": [
      "Name:\tJohn\n"
     ]
    }
   ],
   "source": [
    "print(\"Name:\\tJohn\")\n"
   ]
  },
  {
   "cell_type": "markdown",
   "id": "39f0b2fc",
   "metadata": {},
   "source": [
    "3.Backslash (\\): Inserts a literal backslash character."
   ]
  },
  {
   "cell_type": "code",
   "execution_count": 3,
   "id": "a3ffb55f",
   "metadata": {},
   "outputs": [
    {
     "name": "stdout",
     "output_type": "stream",
     "text": [
      "This is a backslash: \\\n"
     ]
    }
   ],
   "source": [
    "print(\"This is a backslash: \\\\\")\n"
   ]
  },
  {
   "cell_type": "markdown",
   "id": "1da0d3db",
   "metadata": {},
   "source": [
    "4 .Single Quote ('): Inserts a single quote character within a string defined using single quotes."
   ]
  },
  {
   "cell_type": "code",
   "execution_count": 4,
   "id": "fbb4f68a",
   "metadata": {},
   "outputs": [
    {
     "name": "stdout",
     "output_type": "stream",
     "text": [
      "He said, 'Hello!'\n"
     ]
    }
   ],
   "source": [
    "print('He said, \\'Hello!\\'')\n"
   ]
  },
  {
   "cell_type": "markdown",
   "id": "822386a9",
   "metadata": {},
   "source": [
    "5 .Double Quote (\"): Inserts a double quote character within a string defined using double quotes."
   ]
  },
  {
   "cell_type": "code",
   "execution_count": 5,
   "id": "41d90be7",
   "metadata": {},
   "outputs": [
    {
     "name": "stdout",
     "output_type": "stream",
     "text": [
      "She said, \"Hi!\"\n"
     ]
    }
   ],
   "source": [
    "print(\"She said, \\\"Hi!\\\"\")\n"
   ]
  },
  {
   "cell_type": "markdown",
   "id": "f0e7da9b",
   "metadata": {},
   "source": [
    "# 2. What do the escape characters n and t stand for?"
   ]
  },
  {
   "cell_type": "markdown",
   "id": "f90f6abd",
   "metadata": {},
   "source": [
    "The escape characters \\n and \\t stand for \"newline\" and \"tab,\" respectively."
   ]
  },
  {
   "cell_type": "markdown",
   "id": "64ab7f0c",
   "metadata": {},
   "source": [
    "\\n (newline): This escape character represents a new line. When it is included in a string, it moves the cursor to the beginning of the next line. It is commonly used to format text output to display content on separate lines."
   ]
  },
  {
   "cell_type": "code",
   "execution_count": 6,
   "id": "e36d5bc8",
   "metadata": {},
   "outputs": [
    {
     "name": "stdout",
     "output_type": "stream",
     "text": [
      "Hello,\n",
      "World!\n"
     ]
    }
   ],
   "source": [
    "print(\"Hello,\\nWorld!\")\n"
   ]
  },
  {
   "cell_type": "markdown",
   "id": "de884b02",
   "metadata": {},
   "source": [
    "\\t (tab): This escape character represents a horizontal tab. When it is included in a string, it adds horizontal spacing to align text or separate content into columns."
   ]
  },
  {
   "cell_type": "code",
   "execution_count": 7,
   "id": "e4358350",
   "metadata": {},
   "outputs": [
    {
     "name": "stdout",
     "output_type": "stream",
     "text": [
      "Name:\tJohn\n"
     ]
    }
   ],
   "source": [
    "print(\"Name:\\tJohn\")\n"
   ]
  },
  {
   "cell_type": "markdown",
   "id": "9e281643",
   "metadata": {},
   "source": [
    "# 3. What is the way to include backslash characters in a string?"
   ]
  },
  {
   "cell_type": "markdown",
   "id": "85d5f7e8",
   "metadata": {},
   "source": [
    "To include a backslash character (\\) in a string, you need to use the backslash as an escape character itself. Since the backslash is used to escape special characters, including another backslash before it tells the interpreter or compiler that you want to include the backslash as a literal character rather than an escape sequence."
   ]
  },
  {
   "cell_type": "code",
   "execution_count": 8,
   "id": "63c9470d",
   "metadata": {},
   "outputs": [
    {
     "name": "stdout",
     "output_type": "stream",
     "text": [
      "This is a backslash: \\\n"
     ]
    }
   ],
   "source": [
    "print(\"This is a backslash: \\\\\")\n"
   ]
  },
  {
   "cell_type": "markdown",
   "id": "eaeb0789",
   "metadata": {},
   "source": [
    "By using two backslashes \\\\, you are escaping the first backslash, and the second backslash is treated as a literal character. This way, the output will include a single backslash in the string."
   ]
  },
  {
   "cell_type": "markdown",
   "id": "52c84e73",
   "metadata": {},
   "source": [
    "# 4. The string \"Howl's Moving Castle\" is a correct value. Why isn't the single quote character in the word Howl's not escaped a problem?"
   ]
  },
  {
   "cell_type": "markdown",
   "id": "3b2d75bd",
   "metadata": {},
   "source": [
    "The string \"Howl's Moving Castle\" is a correct value and does not cause a problem with the single quote character because the string is enclosed within double quotes (\") instead of single quotes ('). In many programming languages, including Python, JavaScript, and others, you can use either double quotes or single quotes to define a string."
   ]
  },
  {
   "cell_type": "code",
   "execution_count": 9,
   "id": "7612d10c",
   "metadata": {},
   "outputs": [
    {
     "name": "stdout",
     "output_type": "stream",
     "text": [
      "Howl's Moving Castle\n",
      "Howl's Moving Castle\n"
     ]
    }
   ],
   "source": [
    "#Example:\n",
    " # Using double quotes\n",
    "print(\"Howl's Moving Castle\")\n",
    "\n",
    "# Using single quotes\n",
    "print('Howl\\'s Moving Castle')\n",
    "   "
   ]
  },
  {
   "cell_type": "markdown",
   "id": "5013110a",
   "metadata": {},
   "source": [
    "# 5. How do you write a string of newlines if you don't want to use the n character?"
   ]
  },
  {
   "cell_type": "markdown",
   "id": "9dba0b13",
   "metadata": {},
   "source": [
    "If you don't want to use the \\n escape character to represent newlines in a string, you can achieve the same effect using multi-line strings or by concatenating multiple strings together. The approach you choose depends on the programming language you are using."
   ]
  },
  {
   "cell_type": "markdown",
   "id": "1a72b7c4",
   "metadata": {},
   "source": [
    "1. Multi-line strings: Some programming languages support multi-line strings, which allow you to include newlines directly within the string without using escape characters. "
   ]
  },
  {
   "cell_type": "code",
   "execution_count": 10,
   "id": "73844f49",
   "metadata": {},
   "outputs": [
    {
     "name": "stdout",
     "output_type": "stream",
     "text": [
      "Line 1\n",
      "Line 2\n",
      "Line 3\n"
     ]
    }
   ],
   "source": [
    "multiline_string = '''Line 1\n",
    "Line 2\n",
    "Line 3'''\n",
    "print(multiline_string)\n"
   ]
  },
  {
   "cell_type": "markdown",
   "id": "e5a3ebd2",
   "metadata": {},
   "source": [
    "String concatenation: Another way to represent newlines without using the \\n character is to create separate strings for each line and then concatenate them together with the newline character in between."
   ]
  },
  {
   "cell_type": "code",
   "execution_count": 11,
   "id": "145079b4",
   "metadata": {},
   "outputs": [
    {
     "name": "stdout",
     "output_type": "stream",
     "text": [
      "Line 1\n",
      "Line 2\n",
      "Line 3\n"
     ]
    }
   ],
   "source": [
    "concatenated_string = \"Line 1\" + \"\\n\" + \"Line 2\" + \"\\n\" + \"Line 3\"\n",
    "print(concatenated_string)\n"
   ]
  },
  {
   "cell_type": "markdown",
   "id": "50001df1",
   "metadata": {},
   "source": [
    "# 6. What are the values of the given expressions?"
   ]
  },
  {
   "cell_type": "markdown",
   "id": "df89d1a9",
   "metadata": {},
   "source": [
    "'Hello, world!'[1]                              \n",
    "'Hello, world!'[0:5]                                           \n",
    "'Hello, world!'[:5]                            \n",
    "'Hello, world!'[3:]"
   ]
  },
  {
   "cell_type": "code",
   "execution_count": 14,
   "id": "c6863038",
   "metadata": {},
   "outputs": [
    {
     "data": {
      "text/plain": [
       "'e'"
      ]
     },
     "execution_count": 14,
     "metadata": {},
     "output_type": "execute_result"
    }
   ],
   "source": [
    "'Hello, world!'[1]\n",
    "#This expression will return the character at index 1 of the string, \n",
    "#which is the second character since indexing in most programming languages is zero-based.\n"
   ]
  },
  {
   "cell_type": "code",
   "execution_count": 15,
   "id": "13e99d9f",
   "metadata": {},
   "outputs": [
    {
     "data": {
      "text/plain": [
       "'Hello'"
      ]
     },
     "execution_count": 15,
     "metadata": {},
     "output_type": "execute_result"
    }
   ],
   "source": [
    "'Hello, world!'[0:5]\n",
    "#This expression uses slicing to extract a substring from the original string. \n",
    "#It includes characters from index 0 to index 4 (excluding the character at index 5).\n"
   ]
  },
  {
   "cell_type": "code",
   "execution_count": 16,
   "id": "e8d9eb03",
   "metadata": {},
   "outputs": [
    {
     "data": {
      "text/plain": [
       "'Hello'"
      ]
     },
     "execution_count": 16,
     "metadata": {},
     "output_type": "execute_result"
    }
   ],
   "source": [
    "'Hello, world!'[:5]\n",
    "#This expression also uses slicing but omits the starting index, which means it starts from the beginning of the string. \n",
    "#It includes characters from the start up to index 4 (excluding the character at index 5)."
   ]
  },
  {
   "cell_type": "code",
   "execution_count": 17,
   "id": "411dd828",
   "metadata": {},
   "outputs": [
    {
     "data": {
      "text/plain": [
       "'lo, world!'"
      ]
     },
     "execution_count": 17,
     "metadata": {},
     "output_type": "execute_result"
    }
   ],
   "source": [
    "'Hello, world!'[3:]\n",
    "#This expression uses slicing but omits the ending index, which means it goes until the end of the string.\n",
    "#It includes characters from index 3 to the end of the string."
   ]
  },
  {
   "cell_type": "markdown",
   "id": "95ce9571",
   "metadata": {},
   "source": [
    "# 7. What are the values of the following expressions?\n"
   ]
  },
  {
   "cell_type": "markdown",
   "id": "90d8a1f2",
   "metadata": {},
   "source": [
    "'Hello'.upper()                                                 \n",
    "'Hello'.upper().isupper()                                  \n",
    "'Hello'.upper().lower()"
   ]
  },
  {
   "cell_type": "code",
   "execution_count": 19,
   "id": "e0c9de17",
   "metadata": {},
   "outputs": [
    {
     "data": {
      "text/plain": [
       "'HELLO'"
      ]
     },
     "execution_count": 19,
     "metadata": {},
     "output_type": "execute_result"
    }
   ],
   "source": [
    "'Hello'.upper()\n",
    "#This expression calls the upper() method on the string 'Hello'. \n",
    "#The upper() method returns a new string with all characters converted to uppercase."
   ]
  },
  {
   "cell_type": "code",
   "execution_count": 20,
   "id": "f7c1c24a",
   "metadata": {},
   "outputs": [
    {
     "data": {
      "text/plain": [
       "True"
      ]
     },
     "execution_count": 20,
     "metadata": {},
     "output_type": "execute_result"
    }
   ],
   "source": [
    "'Hello'.upper().isupper()\n",
    "#In this expression, we first call the upper() method on the string 'Hello', which gives us 'HELLO'. \n",
    "#Then, we call the isupper() method on the resulting string. The isupper() method returns True if all characters in the string are uppercase, and False otherwise."
   ]
  },
  {
   "cell_type": "code",
   "execution_count": 22,
   "id": "2f3f937a",
   "metadata": {},
   "outputs": [
    {
     "data": {
      "text/plain": [
       "'hello'"
      ]
     },
     "execution_count": 22,
     "metadata": {},
     "output_type": "execute_result"
    }
   ],
   "source": [
    "'Hello'.upper().lower()\n",
    "#In this expression, we first call the upper() method on the string 'Hello', which gives us 'HELLO'. \n",
    "#Then, we call the lower() method on the resulting string. The lower() method returns a new string with all characters converted to lowercase."
   ]
  },
  {
   "cell_type": "markdown",
   "id": "1b7f44c6",
   "metadata": {},
   "source": [
    "# 8. What are the values of the following expressions?\n"
   ]
  },
  {
   "cell_type": "markdown",
   "id": "c6736c98",
   "metadata": {},
   "source": [
    "'Remember, remember, the fifth of July.'.split()                                        \n",
    "'-'.join('There can only one.'.split())"
   ]
  },
  {
   "cell_type": "code",
   "execution_count": 23,
   "id": "63b8fde5",
   "metadata": {},
   "outputs": [
    {
     "data": {
      "text/plain": [
       "['Remember,', 'remember,', 'the', 'fifth', 'of', 'July.']"
      ]
     },
     "execution_count": 23,
     "metadata": {},
     "output_type": "execute_result"
    }
   ],
   "source": [
    "'Remember, remember, the fifth of July.'.split()\n",
    "#The split() method is used to split a string into a list of substrings based on a specified separator. \n",
    "#When no separator is provided to the split() method, it splits the string using whitespace characters (spaces, tabs, and newlines) as the default separator."
   ]
  },
  {
   "cell_type": "code",
   "execution_count": 24,
   "id": "2d611a24",
   "metadata": {},
   "outputs": [
    {
     "data": {
      "text/plain": [
       "'There-can-only-one.'"
      ]
     },
     "execution_count": 24,
     "metadata": {},
     "output_type": "execute_result"
    }
   ],
   "source": [
    "'-'.join('There can only one.'.split())\n",
    "#In this expression, we first call the split() method on the string 'There can only one.'. \n",
    "#The split() method will split the string into a list of substrings using whitespace characters as the default separator."
   ]
  },
  {
   "cell_type": "markdown",
   "id": "8ae300fa",
   "metadata": {},
   "source": [
    "# 9. What are the methods for right-justifying, left-justifying, and centering a string?"
   ]
  },
  {
   "cell_type": "markdown",
   "id": "2109da71",
   "metadata": {},
   "source": [
    "Right-justifying a string: The str.rjust(width, fillchar) method is used to right-justify a string within a field of a specified width. If the original string is shorter than the specified width, it will be padded with the fillchar (a single character) on the left to achieve the desired width.\n",
    "\n",
    "                        Syntax: str.rjust(width, fillchar)"
   ]
  },
  {
   "cell_type": "code",
   "execution_count": 25,
   "id": "5ce7a27f",
   "metadata": {},
   "outputs": [
    {
     "name": "stdout",
     "output_type": "stream",
     "text": [
      "-----Hello\n"
     ]
    }
   ],
   "source": [
    "text = \"Hello\"\n",
    "justified_text = text.rjust(10, '-')\n",
    "print(justified_text)\n"
   ]
  },
  {
   "cell_type": "markdown",
   "id": "5b5652a8",
   "metadata": {},
   "source": [
    "Left-justifying a string: The str.ljust(width, fillchar) method is used to left-justify a string within a field of a specified width. If the original string is shorter than the specified width, it will be padded with the fillchar (a single character) on the right to achieve the desired width.\n",
    "\n",
    "                        Syntax: str.ljust(width, fillchar)"
   ]
  },
  {
   "cell_type": "code",
   "execution_count": 26,
   "id": "b94ec219",
   "metadata": {},
   "outputs": [
    {
     "name": "stdout",
     "output_type": "stream",
     "text": [
      "Hello-----\n"
     ]
    }
   ],
   "source": [
    "text = \"Hello\"\n",
    "justified_text = text.ljust(10, '-')\n",
    "print(justified_text)\n"
   ]
  },
  {
   "cell_type": "markdown",
   "id": "5892f6f4",
   "metadata": {},
   "source": [
    "Centering a string: The str.center(width, fillchar) method is used to center a string within a field of a specified width. If the original string is shorter than the specified width, it will be padded with the fillchar (a single character) on both sides to achieve the desired width.\n",
    "\n",
    "                  Syntax: str.center(width, fillchar)"
   ]
  },
  {
   "cell_type": "code",
   "execution_count": 27,
   "id": "6552c727",
   "metadata": {},
   "outputs": [
    {
     "name": "stdout",
     "output_type": "stream",
     "text": [
      "--Hello---\n"
     ]
    }
   ],
   "source": [
    "text = \"Hello\"\n",
    "centered_text = text.center(10, '-')\n",
    "print(centered_text)\n"
   ]
  },
  {
   "cell_type": "markdown",
   "id": "150f4e07",
   "metadata": {},
   "source": [
    "# 10. What is the best way to remove whitespace characters from the start or end?"
   ]
  },
  {
   "cell_type": "markdown",
   "id": "04280466",
   "metadata": {},
   "source": [
    "In Python, the best way to remove whitespace characters from the start or end of a string is by using the strip() method. The strip() method removes leading and trailing whitespace characters, including spaces, tabs, and newlines."
   ]
  },
  {
   "cell_type": "code",
   "execution_count": 34,
   "id": "7ebd33f1",
   "metadata": {},
   "outputs": [
    {
     "name": "stdout",
     "output_type": "stream",
     "text": [
      "Hello, World!   \n",
      "   Hello, World!\n",
      "Hello, World!\n"
     ]
    }
   ],
   "source": [
    "string_with_whitespace = \"   Hello, World!   \"\n",
    "left_trimmed_string = string_with_whitespace.lstrip()\n",
    "right_trimmed_string = string_with_whitespace.rstrip()\n",
    "trimmed_string = string_with_whitespace.strip()\n",
    "\n",
    "print(left_trimmed_string)  \n",
    "print(right_trimmed_string)\n",
    "print(trimmed_string) \n"
   ]
  },
  {
   "cell_type": "markdown",
   "id": "89197442",
   "metadata": {},
   "source": [
    "The strip() method does not modify the original string but returns a new string with the whitespace characters removed from both ends. If you only want to remove leading whitespace, you can use the lstrip() method. If you only want to remove trailing whitespace, you can use the rstrip() method."
   ]
  },
  {
   "cell_type": "code",
   "execution_count": null,
   "id": "5434c7e6",
   "metadata": {},
   "outputs": [],
   "source": []
  }
 ],
 "metadata": {
  "kernelspec": {
   "display_name": "Python 3 (ipykernel)",
   "language": "python",
   "name": "python3"
  },
  "language_info": {
   "codemirror_mode": {
    "name": "ipython",
    "version": 3
   },
   "file_extension": ".py",
   "mimetype": "text/x-python",
   "name": "python",
   "nbconvert_exporter": "python",
   "pygments_lexer": "ipython3",
   "version": "3.10.9"
  }
 },
 "nbformat": 4,
 "nbformat_minor": 5
}
