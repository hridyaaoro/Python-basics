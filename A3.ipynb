{
 "cells": [
  {
   "cell_type": "markdown",
   "id": "5e0f4a00",
   "metadata": {},
   "source": [
    "# 1. Why are functions advantageous to have in your programs?"
   ]
  },
  {
   "cell_type": "raw",
   "id": "a93b697c",
   "metadata": {},
   "source": [
    "Modularity: Functions allow you to break down your code into smaller, manageable pieces called modules or functions. Each function performs a specific task, making the code more organized and easier to read, understand, and maintain.\n",
    "\n",
    "Code Reusability: Functions can be reused multiple times within the same program or even in different programs. Instead of writing the same code again and again, you can call the function whenever you need its functionality, reducing redundancy and saving development time.\n",
    "\n",
    "Abstraction: Functions provide an abstraction layer, hiding the implementation details of a particular task. This allows you to use the function without worrying about how it accomplishes its task internally. It promotes a clear separation of concerns and enhances code readability.\n",
    "\n",
    "Easier Debugging: By using functions, you can isolate specific parts of your code and test them independently. This makes it easier to identify and fix bugs, as you can focus on a smaller portion of the code at a time.\n",
    "\n",
    "Improved Collaboration: Functions facilitate teamwork and collaboration among developers. Different team members can work on different functions, and then these functions can be integrated to build the complete program.\n",
    "\n",
    "Code Maintenance: Functions make code maintenance more manageable. When a change is required, you only need to update the function's definition, and the change will be reflected wherever the function is used.\n",
    "\n",
    "Readability: Well-named functions with clear purposes enhance the readability of your code. It makes it easier for others (and yourself) to understand what each part of the program does.\n",
    "\n",
    "Parameterization: Functions can take input parameters, making them flexible and adaptable. You can customize the behavior of the function by passing different arguments.\n",
    "\n",
    "Testing: Functions allow for easier testing and unit testing. You can create test cases for individual functions to ensure they work correctly before integrating them into the entire program."
   ]
  },
  {
   "cell_type": "markdown",
   "id": "15d1dc8f",
   "metadata": {},
   "source": [
    " functions promote better organization, code reuse, maintainability, and readability, leading to more efficient and effective programming. They are a fundamental building block in modern software development and play a crucial role in creating well-structured and scalable programs."
   ]
  },
  {
   "cell_type": "markdown",
   "id": "93b21ba4",
   "metadata": {},
   "source": [
    "# 2. When does the code in a function run: when it's specified or when it's called?"
   ]
  },
  {
   "cell_type": "raw",
   "id": "1602ada9",
   "metadata": {},
   "source": [
    "The code in a function runs when the function is called, not when it's specified. The function definition (specification) merely defines the code block and behavior of the function, but the actual execution of that code occurs when the function is called (invoked) elsewhere in the program.\n",
    "\n",
    "When you define a function, you are essentially creating a reusable block of code with a specific name, and you define what that block of code does when it's called. The function body contains the actual instructions and logic that will be executed when the function is invoked."
   ]
  },
  {
   "cell_type": "code",
   "execution_count": 1,
   "id": "650be01f",
   "metadata": {},
   "outputs": [
    {
     "name": "stdout",
     "output_type": "stream",
     "text": [
      "Before function call\n",
      "Hello, I am a function!\n",
      "After function call\n"
     ]
    }
   ],
   "source": [
    "def greet():\n",
    "    print(\"Hello, I am a function!\")\n",
    "\n",
    "print(\"Before function call\")\n",
    "greet()  # This is the function call\n",
    "print(\"After function call\")\n"
   ]
  },
  {
   "cell_type": "markdown",
   "id": "a1d6dc5c",
   "metadata": {},
   "source": [
    "# 3. What statement creates a function?"
   ]
  },
  {
   "cell_type": "raw",
   "id": "0695dad5",
   "metadata": {},
   "source": [
    "The def statement is used to create a function in Python. The def statement is followed by the function name, a pair of parentheses (), and a colon :. The body of the function is indented below the def statement."
   ]
  },
  {
   "cell_type": "raw",
   "id": "b49b4651",
   "metadata": {},
   "source": [
    "def function_name(parameters):\n",
    "    # Function body (code block)\n",
    "    # ...\n",
    "    # ...\n"
   ]
  },
  {
   "cell_type": "raw",
   "id": "4c323f23",
   "metadata": {},
   "source": [
    "function_name: This is the name you give to your function. \n",
    "\n",
    "parameters (optional): These are the input parameters to the function.\n",
    "\n",
    "Function body: This is the block of code that defines what the function does when it's called."
   ]
  },
  {
   "cell_type": "markdown",
   "id": "c5065f3e",
   "metadata": {},
   "source": [
    "# 4. What is the difference between a function and a function call?"
   ]
  },
  {
   "cell_type": "raw",
   "id": "6f12e44b",
   "metadata": {},
   "source": [
    "a function is a block of code with a specific name and defined functionality, while a function call is an instruction to execute the code within that function. When you call a function, you are telling the program to perform the tasks defined inside the function. Function calls are essential to leverage the power of functions and use them in your program to perform various operations or tasks."
   ]
  },
  {
   "cell_type": "raw",
   "id": "4b7e8a7a",
   "metadata": {},
   "source": [
    "Function:\n",
    "\n",
    "A function is a block of code that performs a specific task or set of tasks. It is defined using the def statement in Python and given a name, which allows you to refer to it elsewhere in the program.\n",
    "Functions are created to promote code reusability, improve code organization, and modularize the program.\n",
    "The function definition consists of the function name, optional parameters (inputs), and the function body containing the code to be executed when the function is called.\n",
    "\n",
    "Function Call:\n",
    "\n",
    "A function call is an instruction that tells the program to execute the code inside the specified function. It invokes the function and executes the code block defined within it.\n",
    "To call a function, you use the function's name followed by parentheses () with optional arguments passed inside the parentheses if the function accepts parameters.\n",
    "When the function call is encountered, the program transfers control to the function's code, executes it, and then returns to the point where the function was called."
   ]
  },
  {
   "cell_type": "markdown",
   "id": "a001dca6",
   "metadata": {},
   "source": [
    "# 5. How many global scopes are there in a Python program? How many local scopes?"
   ]
  },
  {
   "cell_type": "raw",
   "id": "237c0703",
   "metadata": {},
   "source": [
    "Global Scope:\n",
    "\n",
    "There is only one global scope in a Python program.\n",
    "The global scope refers to the outermost level of a Python program, where variables are defined outside of any functions or classes.\n",
    "Variables defined in the global scope are accessible throughout the entire program, including within functions and classes.\n",
    "The global scope is created when the program starts and remains in existence until the program terminates.\n",
    "\n",
    "Local Scopes:\n",
    "\n",
    "The number of local scopes in a Python program can vary depending on how many functions are called and how many times they are called during the program's execution.\n",
    "Local scopes are created whenever a function is called, and they exist only within the body of that function.\n",
    "When a function is called, a new local scope is created for that function, and any variables defined inside the function are considered part of its local scope.\n",
    "Local variables are accessible only within the function they are defined in and cannot be accessed outside of that function."
   ]
  },
  {
   "cell_type": "code",
   "execution_count": 3,
   "id": "80866d44",
   "metadata": {},
   "outputs": [
    {
     "name": "stdout",
     "output_type": "stream",
     "text": [
      "Local variable: 20\n",
      "Global variable (inside function): 10\n",
      "Global variable (outside function): 10\n"
     ]
    }
   ],
   "source": [
    "global_var = 10  # Global variable defined in the global scope\n",
    "\n",
    "def my_function():\n",
    "    local_var = 20  # Local variable defined in the local scope of 'my_function'\n",
    "    print(\"Local variable:\", local_var)\n",
    "    print(\"Global variable (inside function):\", global_var)\n",
    "\n",
    "my_function()\n",
    "\n",
    "print(\"Global variable (outside function):\", global_var)\n"
   ]
  },
  {
   "cell_type": "markdown",
   "id": "aa27e54f",
   "metadata": {},
   "source": [
    "# 6. What happens to variables in a local scope when the function call returns?"
   ]
  },
  {
   "cell_type": "raw",
   "id": "48be6662",
   "metadata": {},
   "source": [
    "When a function call returns and completes its execution, the local scope associated with that function is destroyed, and any variables defined within that local scope cease to exist. This process is known as \"cleanup\" or \"garbage collection.\""
   ]
  },
  {
   "cell_type": "raw",
   "id": "1aa82a05",
   "metadata": {},
   "source": [
    "Here's what happens to variables in a local scope when the function call returns:\n",
    "\n",
    "    Variable Deletion: When the function call returns, Python automatically deallocates the memory used by the local variables defined within that function. This means that the variables are effectively deleted from memory, and their values are no longer accessible.\n",
    "\n",
    "    Local Scope Destruction: The local scope, which includes all the local variables, is destroyed as the function finishes its execution. The function's local variables are only accessible and relevant within the context of that specific function call.\n",
    "\n",
    "    Return Value (Optional): If the function has a return statement, the function may return a value to the caller. However, once the function returns, any local variables that were used to compute or store the return value are no longer available."
   ]
  },
  {
   "cell_type": "code",
   "execution_count": 6,
   "id": "22b406d1",
   "metadata": {},
   "outputs": [
    {
     "name": "stdout",
     "output_type": "stream",
     "text": [
      "Result: 30\n"
     ]
    }
   ],
   "source": [
    "def example_function():\n",
    "    x = 10\n",
    "    y = 20\n",
    "    result = x + y\n",
    "    return result\n",
    "\n",
    "# Call the function and store the return value in a variable\n",
    "result_value = example_function()\n",
    "\n",
    "# The local variables 'x', 'y', and 'result' are no longer accessible outside the function\n",
    "print(\"Result:\", result_value)  # Output: Result: 30\n",
    "# print(\"x:\", x)  # This would raise an error since 'x' is not defined in this scope\n"
   ]
  },
  {
   "cell_type": "markdown",
   "id": "c6f05140",
   "metadata": {},
   "source": [
    "# 7. What is the concept of a return value? Is it possible to have a return value in an expression?"
   ]
  },
  {
   "cell_type": "raw",
   "id": "032afc63",
   "metadata": {},
   "source": [
    "The concept of a return value in programming refers to the value that a function can send back to the caller after it completes its execution. When a function is called, it may perform certain operations, compute a result, and then use the return statement to send that result back to the caller. The return value allows the caller to receive and use the output produced by the function."
   ]
  },
  {
   "cell_type": "raw",
   "id": "e68c1d96",
   "metadata": {},
   "source": [
    " Here's how the concept of a return value works in Python:\n",
    "\n",
    "    Function with Return Value: When a function has a return value, it typically uses the return statement to specify what value should be returned to the caller. The return statement can be used with or without a value following it. If the return statement is used without a value, the function returns None by default.\n",
    "\n",
    "    Storing the Return Value: The caller of the function can store the return value in a variable. This allows the caller to access and use the result of the function's computation.\n",
    "\n",
    "    Function Execution: After the return statement is encountered, the function exits, and the control returns to the point where the function was called. The function call can be treated as an expression, and its return value can be used in assignments, comparisons, or any other expression evaluation."
   ]
  },
  {
   "cell_type": "code",
   "execution_count": 7,
   "id": "b9c2ce19",
   "metadata": {},
   "outputs": [
    {
     "name": "stdout",
     "output_type": "stream",
     "text": [
      "Sum: 8\n",
      "Product: 18\n"
     ]
    }
   ],
   "source": [
    "def add_numbers(a, b):\n",
    "    result = a + b\n",
    "    return result\n",
    "\n",
    "sum_result = add_numbers(5, 3)\n",
    "print(\"Sum:\", sum_result)  # Output: Sum: 8\n",
    "\n",
    "# Using the function call in an expression\n",
    "product = add_numbers(2, 4) * 3\n",
    "print(\"Product:\", product)  # Output: Product: 18\n"
   ]
  },
  {
   "cell_type": "markdown",
   "id": "29b86ae4",
   "metadata": {},
   "source": [
    "# 8. If a function does not have a return statement, what is the return value of a call to that function?"
   ]
  },
  {
   "cell_type": "raw",
   "id": "90fedc0e",
   "metadata": {},
   "source": [
    "If a function does not have a return statement, the return value of a call to that function is None. In Python, when a function execution reaches the end of its code block without encountering any return statement, it automatically returns None as a default."
   ]
  },
  {
   "cell_type": "code",
   "execution_count": 8,
   "id": "b68447ae",
   "metadata": {},
   "outputs": [
    {
     "name": "stdout",
     "output_type": "stream",
     "text": [
      "This function does not have a return statement.\n",
      "Result: None\n"
     ]
    }
   ],
   "source": [
    "def no_return_function():\n",
    "    print(\"This function does not have a return statement.\")\n",
    "\n",
    "result = no_return_function()\n",
    "\n",
    "print(\"Result:\", result)  # Output: Result: None\n"
   ]
  },
  {
   "cell_type": "markdown",
   "id": "2ffec4e9",
   "metadata": {},
   "source": [
    "# 9. How do you make a function variable refer to the global variable?"
   ]
  },
  {
   "cell_type": "raw",
   "id": "554a0775",
   "metadata": {},
   "source": [
    "To make a function variable refer to a global variable, you can use the global keyword inside the function. The global keyword allows you to indicate that a variable within the function is referring to the global variable with the same name, rather than creating a new local variable."
   ]
  },
  {
   "cell_type": "code",
   "execution_count": 9,
   "id": "491d452f",
   "metadata": {},
   "outputs": [
    {
     "name": "stdout",
     "output_type": "stream",
     "text": [
      "Global variable after function call: 15\n"
     ]
    }
   ],
   "source": [
    "global_var = 10  # Global variable\n",
    "\n",
    "def access_global_variable():\n",
    "    global global_var  # Declare 'global_var' as a global variable within the function\n",
    "    global_var += 5    # Modify the global variable by adding 5\n",
    "\n",
    "access_global_variable()\n",
    "print(\"Global variable after function call:\", global_var)\n"
   ]
  },
  {
   "cell_type": "markdown",
   "id": "65eb4c61",
   "metadata": {},
   "source": [
    "# 10. What is the data type of None?"
   ]
  },
  {
   "cell_type": "raw",
   "id": "aba35e81",
   "metadata": {},
   "source": [
    "The data type of None in Python is a special value representing the absence of a value or a null value. It is denoted by the keyword None, and it belongs to the NoneType data type.\n",
    "\n",
    "None is used to indicate that a variable or expression does not have a valid value or that a function does not return any value. It is often used as a default return value for functions that have side effects but do not produce a specific result."
   ]
  },
  {
   "cell_type": "code",
   "execution_count": 10,
   "id": "f6880621",
   "metadata": {},
   "outputs": [
    {
     "name": "stdout",
     "output_type": "stream",
     "text": [
      "Type of 'result': <class 'NoneType'>\n"
     ]
    }
   ],
   "source": [
    "result = None\n",
    "\n",
    "print(\"Type of 'result':\", type(result))  # Output: Type of 'result': <class 'NoneType'>\n"
   ]
  },
  {
   "cell_type": "markdown",
   "id": "f982fc21",
   "metadata": {},
   "source": [
    "# 11. What does the sentence import areallyourpetsnamederic do?"
   ]
  },
  {
   "cell_type": "raw",
   "id": "f5123dd3",
   "metadata": {},
   "source": [
    "The sentence \"import areallyourpetsnamederic\" is a Python statement that attempts to import a module named \"areallyourpetsnamederic\" into the current Python script or environment."
   ]
  },
  {
   "cell_type": "raw",
   "id": "c282c507",
   "metadata": {},
   "source": [
    "In Python, the \"import\" statement is used to include code from other Python files or modules into the current script. When you import a module, you gain access to its functions, classes, and variables, allowing you to use them in your code."
   ]
  },
  {
   "cell_type": "raw",
   "id": "cb252bf0",
   "metadata": {},
   "source": [
    "\"areallyourpetsnamederic\" is not a standard Python module, and unless you have created or obtained such a module, attempting to import it will result in an ImportError, indicating that the module could not be found."
   ]
  },
  {
   "cell_type": "markdown",
   "id": "78c9ef4a",
   "metadata": {},
   "source": [
    "# 12. If you had a bacon() feature in a spam module, what would you call it after importing spam?"
   ]
  },
  {
   "cell_type": "raw",
   "id": "9102ec40",
   "metadata": {},
   "source": [
    "If you have a function named bacon() in a Python module called spam, after importing the spam module, you would call the bacon() function using the following syntax:"
   ]
  },
  {
   "cell_type": "raw",
   "id": "9dc5e11f",
   "metadata": {},
   "source": [
    "import spam\n",
    "spam.bacon()"
   ]
  },
  {
   "cell_type": "raw",
   "id": "805b2ee7",
   "metadata": {},
   "source": [
    "In this case, the import statement brings the spam module into the current namespace, allowing you to access its contents, including the bacon() function, by using the dot notation (spam.bacon())."
   ]
  },
  {
   "cell_type": "markdown",
   "id": "7dd9d343",
   "metadata": {},
   "source": [
    "# 13. What can you do to save a programme from crashing if it encounters an error?"
   ]
  },
  {
   "cell_type": "raw",
   "id": "2b639d16",
   "metadata": {},
   "source": [
    "To prevent a program from crashing when it encounters an error, you can use exception handling. Exception handling allows you to handle errors gracefully and take appropriate actions when an error occurs. Here's how you can use exception handling in Python:"
   ]
  },
  {
   "cell_type": "raw",
   "id": "243cf2ad",
   "metadata": {},
   "source": [
    "try:\n",
    "    # Code that may raise an exception\n",
    "    # ...\n",
    "    # ...\n",
    "\n",
    "except ExceptionType:  # Replace ExceptionType with the specific type of exception you want to handle\n",
    "    # Code to handle the exception\n",
    "    # This block will execute if the specified exception occurs\n",
    "    # ...\n",
    "\n",
    "else:\n",
    "    # Code that will run if there is no exception\n",
    "    # ...\n",
    "\n",
    "finally:\n",
    "    # Code that will always execute regardless of whether there was an exception or not\n",
    "    # This block is useful for cleanup operations, e.g., closing files, releasing resources, etc.\n",
    "    # ...\n"
   ]
  },
  {
   "cell_type": "markdown",
   "id": "d3379737",
   "metadata": {},
   "source": [
    "# 14. What is the purpose of the try clause? What is the purpose of the except clause?"
   ]
  },
  {
   "cell_type": "raw",
   "id": "b777a3c4",
   "metadata": {},
   "source": [
    "The purpose of the try clause in Python is to enclose a block of code that might raise an exception. It allows you to test a piece of code for errors or exceptions without the entire program crashing. When an exception occurs within the try block, the execution of the try block is immediately stopped, and the program jumps to the corresponding except block (if one matches the raised exception type)."
   ]
  },
  {
   "cell_type": "raw",
   "id": "36303928",
   "metadata": {},
   "source": [
    "try:\n",
    "    # Code that may raise an exception\n",
    "    # ...\n",
    "    # ...\n",
    "except ExceptionType:  # Replace ExceptionType with the specific type of exception you want to handle\n",
    "    # Code to handle the exception\n",
    "    # This block will execute if the specified exception occurs\n",
    "    # ...\n"
   ]
  },
  {
   "cell_type": "code",
   "execution_count": null,
   "id": "010d05e2",
   "metadata": {},
   "outputs": [],
   "source": []
  }
 ],
 "metadata": {
  "kernelspec": {
   "display_name": "Python 3 (ipykernel)",
   "language": "python",
   "name": "python3"
  },
  "language_info": {
   "codemirror_mode": {
    "name": "ipython",
    "version": 3
   },
   "file_extension": ".py",
   "mimetype": "text/x-python",
   "name": "python",
   "nbconvert_exporter": "python",
   "pygments_lexer": "ipython3",
   "version": "3.10.9"
  }
 },
 "nbformat": 4,
 "nbformat_minor": 5
}
